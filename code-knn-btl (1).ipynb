{
 "cells": [
  {
   "cell_type": "code",
   "execution_count": 1,
   "id": "1bc35bb3",
   "metadata": {
    "execution": {
     "iopub.execute_input": "2024-12-16T13:59:13.988720Z",
     "iopub.status.busy": "2024-12-16T13:59:13.988459Z",
     "iopub.status.idle": "2024-12-16T13:59:16.075831Z",
     "shell.execute_reply": "2024-12-16T13:59:16.074604Z",
     "shell.execute_reply.started": "2024-12-16T13:59:13.988693Z"
    },
    "id": "bIS9ImrTWDUk",
    "outputId": "e3255781-a52c-4b3b-ec60-b6e1cf0a63fb",
    "papermill": {
     "duration": 1.87428,
     "end_time": "2024-12-01T03:49:05.272536",
     "exception": false,
     "start_time": "2024-12-01T03:49:03.398256",
     "status": "completed"
    },
    "tags": [],
    "trusted": true
   },
   "outputs": [
    {
     "name": "stdout",
     "output_type": "stream",
     "text": [
      "Dataset URL: https://www.kaggle.com/datasets/alexteboul/diabetes-health-indicators-dataset\n",
      "License(s): CC0-1.0\n",
      "Downloading diabetes-health-indicators-dataset.zip to /kaggle/working\n",
      "  0%|                                               | 0.00/6.03M [00:00<?, ?B/s]\n",
      "100%|███████████████████████████████████████| 6.03M/6.03M [00:00<00:00, 109MB/s]\n"
     ]
    }
   ],
   "source": [
    "!kaggle datasets download -d alexteboul/diabetes-health-indicators-dataset"
   ]
  },
  {
   "cell_type": "code",
   "execution_count": 2,
   "id": "3cbc3bb9",
   "metadata": {
    "execution": {
     "iopub.execute_input": "2024-12-16T13:59:16.078467Z",
     "iopub.status.busy": "2024-12-16T13:59:16.078050Z",
     "iopub.status.idle": "2024-12-16T13:59:17.406295Z",
     "shell.execute_reply": "2024-12-16T13:59:17.405168Z",
     "shell.execute_reply.started": "2024-12-16T13:59:16.078424Z"
    },
    "id": "ecuktv3XNg6j",
    "outputId": "e7c65df2-9c92-46a0-e5f2-2e1010cb6eb9",
    "papermill": {
     "duration": 1.391487,
     "end_time": "2024-12-01T03:49:06.671596",
     "exception": false,
     "start_time": "2024-12-01T03:49:05.280109",
     "status": "completed"
    },
    "tags": [],
    "trusted": true
   },
   "outputs": [
    {
     "name": "stdout",
     "output_type": "stream",
     "text": [
      "Archive:  /kaggle/working/diabetes-health-indicators-dataset.zip\n",
      "  inflating: /kaggle/working/diabetes-health-indicators-dataset./diabetes_012_health_indicators_BRFSS2015.csv  \n",
      "  inflating: /kaggle/working/diabetes-health-indicators-dataset./diabetes_binary_5050split_health_indicators_BRFSS2015.csv  \n",
      "  inflating: /kaggle/working/diabetes-health-indicators-dataset./diabetes_binary_health_indicators_BRFSS2015.csv  \n"
     ]
    }
   ],
   "source": [
    "!unzip /kaggle/working/diabetes-health-indicators-dataset.zip -d /kaggle/working/diabetes-health-indicators-dataset."
   ]
  },
  {
   "cell_type": "code",
   "execution_count": 3,
   "id": "f0f5dba4",
   "metadata": {
    "execution": {
     "iopub.execute_input": "2024-12-16T13:59:18.812580Z",
     "iopub.status.busy": "2024-12-16T13:59:18.812222Z",
     "iopub.status.idle": "2024-12-16T13:59:19.979374Z",
     "shell.execute_reply": "2024-12-16T13:59:19.978688Z",
     "shell.execute_reply.started": "2024-12-16T13:59:18.812548Z"
    },
    "id": "6gxbuDtyAJnz",
    "papermill": {
     "duration": 2.241218,
     "end_time": "2024-12-01T03:49:08.918796",
     "exception": false,
     "start_time": "2024-12-01T03:49:06.677578",
     "status": "completed"
    },
    "tags": [],
    "trusted": true
   },
   "outputs": [],
   "source": [
    "import pandas as pd\n",
    "import seaborn as sns\n",
    "import numpy as np\n",
    "from sklearn.model_selection import train_test_split\n",
    "import matplotlib.pyplot as plt\n",
    "from tqdm import tqdm\n",
    "from sklearn.preprocessing import StandardScaler, RobustScaler, MinMaxScaler"
   ]
  },
  {
   "cell_type": "code",
   "execution_count": 4,
   "id": "21a59e24",
   "metadata": {
    "execution": {
     "iopub.execute_input": "2024-12-16T13:59:19.981134Z",
     "iopub.status.busy": "2024-12-16T13:59:19.980766Z",
     "iopub.status.idle": "2024-12-16T13:59:20.105667Z",
     "shell.execute_reply": "2024-12-16T13:59:20.104943Z",
     "shell.execute_reply.started": "2024-12-16T13:59:19.981108Z"
    },
    "id": "poXtZHZlV9rV",
    "papermill": {
     "duration": 0.140705,
     "end_time": "2024-12-01T03:49:09.065713",
     "exception": false,
     "start_time": "2024-12-01T03:49:08.925008",
     "status": "completed"
    },
    "tags": [],
    "trusted": true
   },
   "outputs": [],
   "source": [
    "features = pd.read_csv('/kaggle/working/diabetes-health-indicators-dataset./diabetes_binary_5050split_health_indicators_BRFSS2015.csv')"
   ]
  },
  {
   "cell_type": "code",
   "execution_count": 5,
   "id": "ac689cf6",
   "metadata": {
    "execution": {
     "iopub.execute_input": "2024-12-16T13:59:20.107050Z",
     "iopub.status.busy": "2024-12-16T13:59:20.106748Z",
     "iopub.status.idle": "2024-12-16T13:59:20.112123Z",
     "shell.execute_reply": "2024-12-16T13:59:20.111211Z",
     "shell.execute_reply.started": "2024-12-16T13:59:20.107022Z"
    },
    "id": "5HZZhCfI08Kd",
    "papermill": {
     "duration": 0.013909,
     "end_time": "2024-12-01T03:49:09.085978",
     "exception": false,
     "start_time": "2024-12-01T03:49:09.072069",
     "status": "completed"
    },
    "tags": [],
    "trusted": true
   },
   "outputs": [
    {
     "name": "stdout",
     "output_type": "stream",
     "text": [
      "Index(['Diabetes_binary', 'HighBP', 'HighChol', 'CholCheck', 'BMI', 'Smoker',\n",
      "       'Stroke', 'HeartDiseaseorAttack', 'PhysActivity', 'Fruits', 'Veggies',\n",
      "       'HvyAlcoholConsump', 'AnyHealthcare', 'NoDocbcCost', 'GenHlth',\n",
      "       'MentHlth', 'PhysHlth', 'DiffWalk', 'Sex', 'Age', 'Education',\n",
      "       'Income'],\n",
      "      dtype='object')\n",
      "(70692, 22)\n"
     ]
    }
   ],
   "source": [
    "print(features.columns)\n",
    "print(features.shape)"
   ]
  },
  {
   "cell_type": "code",
   "execution_count": 6,
   "id": "8fdcd47e",
   "metadata": {
    "execution": {
     "iopub.execute_input": "2024-12-16T13:59:20.114163Z",
     "iopub.status.busy": "2024-12-16T13:59:20.113854Z",
     "iopub.status.idle": "2024-12-16T13:59:20.168384Z",
     "shell.execute_reply": "2024-12-16T13:59:20.167608Z",
     "shell.execute_reply.started": "2024-12-16T13:59:20.114136Z"
    },
    "papermill": {
     "duration": 0.059424,
     "end_time": "2024-12-01T03:49:09.151322",
     "exception": false,
     "start_time": "2024-12-01T03:49:09.091898",
     "status": "completed"
    },
    "tags": [],
    "trusted": true
   },
   "outputs": [
    {
     "name": "stdout",
     "output_type": "stream",
     "text": [
      "Diabetes_binary\n",
      "0.0    35346\n",
      "1.0    35346\n",
      "Name: count, dtype: int64\n",
      "HighBP\n",
      "1.0    39832\n",
      "0.0    30860\n",
      "Name: count, dtype: int64\n",
      "HighChol\n",
      "1.0    37163\n",
      "0.0    33529\n",
      "Name: count, dtype: int64\n",
      "CholCheck\n",
      "1.0    68943\n",
      "0.0     1749\n",
      "Name: count, dtype: int64\n",
      "BMI\n",
      "27.0    6327\n",
      "26.0    4975\n",
      "28.0    4583\n",
      "24.0    4392\n",
      "30.0    4344\n",
      "        ... \n",
      "83.0       1\n",
      "85.0       1\n",
      "80.0       1\n",
      "12.0       1\n",
      "86.0       1\n",
      "Name: count, Length: 80, dtype: int64\n",
      "Smoker\n",
      "0.0    37094\n",
      "1.0    33598\n",
      "Name: count, dtype: int64\n",
      "Stroke\n",
      "0.0    66297\n",
      "1.0     4395\n",
      "Name: count, dtype: int64\n",
      "HeartDiseaseorAttack\n",
      "0.0    60243\n",
      "1.0    10449\n",
      "Name: count, dtype: int64\n",
      "PhysActivity\n",
      "1.0    49699\n",
      "0.0    20993\n",
      "Name: count, dtype: int64\n",
      "Fruits\n",
      "1.0    43249\n",
      "0.0    27443\n",
      "Name: count, dtype: int64\n",
      "Veggies\n",
      "1.0    55760\n",
      "0.0    14932\n",
      "Name: count, dtype: int64\n",
      "HvyAlcoholConsump\n",
      "0.0    67672\n",
      "1.0     3020\n",
      "Name: count, dtype: int64\n",
      "AnyHealthcare\n",
      "1.0    67508\n",
      "0.0     3184\n",
      "Name: count, dtype: int64\n",
      "NoDocbcCost\n",
      "0.0    64053\n",
      "1.0     6639\n",
      "Name: count, dtype: int64\n",
      "GenHlth\n",
      "3.0    23427\n",
      "2.0    19872\n",
      "4.0    13303\n",
      "1.0     8282\n",
      "5.0     5808\n",
      "Name: count, dtype: int64\n",
      "MentHlth\n",
      "0.0     48091\n",
      "30.0     4320\n",
      "2.0      3267\n",
      "5.0      2519\n",
      "1.0      2051\n",
      "3.0      1967\n",
      "10.0     1924\n",
      "15.0     1767\n",
      "20.0     1125\n",
      "4.0       981\n",
      "7.0       825\n",
      "25.0      425\n",
      "14.0      353\n",
      "6.0       288\n",
      "8.0       198\n",
      "12.0      130\n",
      "28.0       99\n",
      "21.0       84\n",
      "29.0       53\n",
      "18.0       42\n",
      "16.0       28\n",
      "9.0        28\n",
      "22.0       22\n",
      "17.0       18\n",
      "26.0       17\n",
      "27.0       17\n",
      "13.0       15\n",
      "23.0       13\n",
      "24.0       10\n",
      "11.0        8\n",
      "19.0        7\n",
      "Name: count, dtype: int64\n",
      "PhysHlth\n",
      "0.0     39915\n",
      "30.0     7953\n",
      "2.0      4102\n",
      "1.0      2853\n",
      "3.0      2438\n",
      "5.0      2332\n",
      "10.0     1980\n",
      "15.0     1913\n",
      "4.0      1376\n",
      "7.0      1326\n",
      "20.0     1292\n",
      "14.0      802\n",
      "25.0      557\n",
      "6.0       447\n",
      "8.0       276\n",
      "21.0      229\n",
      "28.0      211\n",
      "12.0      205\n",
      "29.0       95\n",
      "9.0        55\n",
      "18.0       50\n",
      "16.0       50\n",
      "17.0       35\n",
      "27.0       34\n",
      "22.0       31\n",
      "23.0       27\n",
      "26.0       26\n",
      "13.0       26\n",
      "24.0       24\n",
      "11.0       22\n",
      "19.0       10\n",
      "Name: count, dtype: int64\n",
      "DiffWalk\n",
      "0.0    52826\n",
      "1.0    17866\n",
      "Name: count, dtype: int64\n",
      "Sex\n",
      "0.0    38386\n",
      "1.0    32306\n",
      "Name: count, dtype: int64\n",
      "Age\n",
      "10.0    10856\n",
      "9.0     10112\n",
      "8.0      8603\n",
      "11.0     8044\n",
      "7.0      6872\n",
      "13.0     5426\n",
      "12.0     5394\n",
      "6.0      4648\n",
      "5.0      3520\n",
      "4.0      2793\n",
      "3.0      2049\n",
      "2.0      1396\n",
      "1.0       979\n",
      "Name: count, dtype: int64\n",
      "Education\n",
      "6.0    26020\n",
      "5.0    20030\n",
      "4.0    19473\n",
      "3.0     3447\n",
      "2.0     1647\n",
      "1.0       75\n",
      "Name: count, dtype: int64\n",
      "Income\n",
      "8.0    20646\n",
      "7.0    11425\n",
      "6.0    10287\n",
      "5.0     8010\n",
      "4.0     6658\n",
      "3.0     5557\n",
      "2.0     4498\n",
      "1.0     3611\n",
      "Name: count, dtype: int64\n"
     ]
    }
   ],
   "source": [
    "for col in features.columns:\n",
    "    print(f\"{features[col].value_counts()}\")"
   ]
  },
  {
   "cell_type": "code",
   "execution_count": 7,
   "id": "3cde9a99",
   "metadata": {
    "execution": {
     "iopub.execute_input": "2024-12-16T13:59:20.169618Z",
     "iopub.status.busy": "2024-12-16T13:59:20.169371Z",
     "iopub.status.idle": "2024-12-16T13:59:20.187180Z",
     "shell.execute_reply": "2024-12-16T13:59:20.186338Z",
     "shell.execute_reply.started": "2024-12-16T13:59:20.169594Z"
    },
    "papermill": {
     "duration": 0.02868,
     "end_time": "2024-12-01T03:49:09.186652",
     "exception": false,
     "start_time": "2024-12-01T03:49:09.157972",
     "status": "completed"
    },
    "tags": [],
    "trusted": true
   },
   "outputs": [
    {
     "name": "stdout",
     "output_type": "stream",
     "text": [
      "<class 'pandas.core.frame.DataFrame'>\n",
      "RangeIndex: 70692 entries, 0 to 70691\n",
      "Data columns (total 22 columns):\n",
      " #   Column                Non-Null Count  Dtype  \n",
      "---  ------                --------------  -----  \n",
      " 0   Diabetes_binary       70692 non-null  float64\n",
      " 1   HighBP                70692 non-null  float64\n",
      " 2   HighChol              70692 non-null  float64\n",
      " 3   CholCheck             70692 non-null  float64\n",
      " 4   BMI                   70692 non-null  float64\n",
      " 5   Smoker                70692 non-null  float64\n",
      " 6   Stroke                70692 non-null  float64\n",
      " 7   HeartDiseaseorAttack  70692 non-null  float64\n",
      " 8   PhysActivity          70692 non-null  float64\n",
      " 9   Fruits                70692 non-null  float64\n",
      " 10  Veggies               70692 non-null  float64\n",
      " 11  HvyAlcoholConsump     70692 non-null  float64\n",
      " 12  AnyHealthcare         70692 non-null  float64\n",
      " 13  NoDocbcCost           70692 non-null  float64\n",
      " 14  GenHlth               70692 non-null  float64\n",
      " 15  MentHlth              70692 non-null  float64\n",
      " 16  PhysHlth              70692 non-null  float64\n",
      " 17  DiffWalk              70692 non-null  float64\n",
      " 18  Sex                   70692 non-null  float64\n",
      " 19  Age                   70692 non-null  float64\n",
      " 20  Education             70692 non-null  float64\n",
      " 21  Income                70692 non-null  float64\n",
      "dtypes: float64(22)\n",
      "memory usage: 11.9 MB\n"
     ]
    }
   ],
   "source": [
    "features.info()"
   ]
  },
  {
   "cell_type": "code",
   "execution_count": 8,
   "id": "b3896dc1",
   "metadata": {
    "execution": {
     "iopub.execute_input": "2024-12-16T13:59:20.188493Z",
     "iopub.status.busy": "2024-12-16T13:59:20.188232Z",
     "iopub.status.idle": "2024-12-16T13:59:20.286193Z",
     "shell.execute_reply": "2024-12-16T13:59:20.285096Z",
     "shell.execute_reply.started": "2024-12-16T13:59:20.188469Z"
    },
    "papermill": {
     "duration": 0.117424,
     "end_time": "2024-12-01T03:49:09.310748",
     "exception": false,
     "start_time": "2024-12-01T03:49:09.193324",
     "status": "completed"
    },
    "tags": [],
    "trusted": true
   },
   "outputs": [
    {
     "data": {
      "text/html": [
       "<div>\n",
       "<style scoped>\n",
       "    .dataframe tbody tr th:only-of-type {\n",
       "        vertical-align: middle;\n",
       "    }\n",
       "\n",
       "    .dataframe tbody tr th {\n",
       "        vertical-align: top;\n",
       "    }\n",
       "\n",
       "    .dataframe thead th {\n",
       "        text-align: right;\n",
       "    }\n",
       "</style>\n",
       "<table border=\"1\" class=\"dataframe\">\n",
       "  <thead>\n",
       "    <tr style=\"text-align: right;\">\n",
       "      <th></th>\n",
       "      <th>Diabetes_binary</th>\n",
       "      <th>HighBP</th>\n",
       "      <th>HighChol</th>\n",
       "      <th>CholCheck</th>\n",
       "      <th>BMI</th>\n",
       "      <th>Smoker</th>\n",
       "      <th>Stroke</th>\n",
       "      <th>HeartDiseaseorAttack</th>\n",
       "      <th>PhysActivity</th>\n",
       "      <th>Fruits</th>\n",
       "      <th>...</th>\n",
       "      <th>AnyHealthcare</th>\n",
       "      <th>NoDocbcCost</th>\n",
       "      <th>GenHlth</th>\n",
       "      <th>MentHlth</th>\n",
       "      <th>PhysHlth</th>\n",
       "      <th>DiffWalk</th>\n",
       "      <th>Sex</th>\n",
       "      <th>Age</th>\n",
       "      <th>Education</th>\n",
       "      <th>Income</th>\n",
       "    </tr>\n",
       "  </thead>\n",
       "  <tbody>\n",
       "    <tr>\n",
       "      <th>count</th>\n",
       "      <td>70692.000000</td>\n",
       "      <td>70692.000000</td>\n",
       "      <td>70692.000000</td>\n",
       "      <td>70692.000000</td>\n",
       "      <td>70692.000000</td>\n",
       "      <td>70692.000000</td>\n",
       "      <td>70692.000000</td>\n",
       "      <td>70692.000000</td>\n",
       "      <td>70692.000000</td>\n",
       "      <td>70692.000000</td>\n",
       "      <td>...</td>\n",
       "      <td>70692.000000</td>\n",
       "      <td>70692.000000</td>\n",
       "      <td>70692.000000</td>\n",
       "      <td>70692.000000</td>\n",
       "      <td>70692.000000</td>\n",
       "      <td>70692.000000</td>\n",
       "      <td>70692.000000</td>\n",
       "      <td>70692.000000</td>\n",
       "      <td>70692.000000</td>\n",
       "      <td>70692.000000</td>\n",
       "    </tr>\n",
       "    <tr>\n",
       "      <th>mean</th>\n",
       "      <td>0.500000</td>\n",
       "      <td>0.563458</td>\n",
       "      <td>0.525703</td>\n",
       "      <td>0.975259</td>\n",
       "      <td>29.856985</td>\n",
       "      <td>0.475273</td>\n",
       "      <td>0.062171</td>\n",
       "      <td>0.147810</td>\n",
       "      <td>0.703036</td>\n",
       "      <td>0.611795</td>\n",
       "      <td>...</td>\n",
       "      <td>0.954960</td>\n",
       "      <td>0.093914</td>\n",
       "      <td>2.837082</td>\n",
       "      <td>3.752037</td>\n",
       "      <td>5.810417</td>\n",
       "      <td>0.252730</td>\n",
       "      <td>0.456997</td>\n",
       "      <td>8.584055</td>\n",
       "      <td>4.920953</td>\n",
       "      <td>5.698311</td>\n",
       "    </tr>\n",
       "    <tr>\n",
       "      <th>std</th>\n",
       "      <td>0.500004</td>\n",
       "      <td>0.495960</td>\n",
       "      <td>0.499342</td>\n",
       "      <td>0.155336</td>\n",
       "      <td>7.113954</td>\n",
       "      <td>0.499392</td>\n",
       "      <td>0.241468</td>\n",
       "      <td>0.354914</td>\n",
       "      <td>0.456924</td>\n",
       "      <td>0.487345</td>\n",
       "      <td>...</td>\n",
       "      <td>0.207394</td>\n",
       "      <td>0.291712</td>\n",
       "      <td>1.113565</td>\n",
       "      <td>8.155627</td>\n",
       "      <td>10.062261</td>\n",
       "      <td>0.434581</td>\n",
       "      <td>0.498151</td>\n",
       "      <td>2.852153</td>\n",
       "      <td>1.029081</td>\n",
       "      <td>2.175196</td>\n",
       "    </tr>\n",
       "    <tr>\n",
       "      <th>min</th>\n",
       "      <td>0.000000</td>\n",
       "      <td>0.000000</td>\n",
       "      <td>0.000000</td>\n",
       "      <td>0.000000</td>\n",
       "      <td>12.000000</td>\n",
       "      <td>0.000000</td>\n",
       "      <td>0.000000</td>\n",
       "      <td>0.000000</td>\n",
       "      <td>0.000000</td>\n",
       "      <td>0.000000</td>\n",
       "      <td>...</td>\n",
       "      <td>0.000000</td>\n",
       "      <td>0.000000</td>\n",
       "      <td>1.000000</td>\n",
       "      <td>0.000000</td>\n",
       "      <td>0.000000</td>\n",
       "      <td>0.000000</td>\n",
       "      <td>0.000000</td>\n",
       "      <td>1.000000</td>\n",
       "      <td>1.000000</td>\n",
       "      <td>1.000000</td>\n",
       "    </tr>\n",
       "    <tr>\n",
       "      <th>25%</th>\n",
       "      <td>0.000000</td>\n",
       "      <td>0.000000</td>\n",
       "      <td>0.000000</td>\n",
       "      <td>1.000000</td>\n",
       "      <td>25.000000</td>\n",
       "      <td>0.000000</td>\n",
       "      <td>0.000000</td>\n",
       "      <td>0.000000</td>\n",
       "      <td>0.000000</td>\n",
       "      <td>0.000000</td>\n",
       "      <td>...</td>\n",
       "      <td>1.000000</td>\n",
       "      <td>0.000000</td>\n",
       "      <td>2.000000</td>\n",
       "      <td>0.000000</td>\n",
       "      <td>0.000000</td>\n",
       "      <td>0.000000</td>\n",
       "      <td>0.000000</td>\n",
       "      <td>7.000000</td>\n",
       "      <td>4.000000</td>\n",
       "      <td>4.000000</td>\n",
       "    </tr>\n",
       "    <tr>\n",
       "      <th>50%</th>\n",
       "      <td>0.500000</td>\n",
       "      <td>1.000000</td>\n",
       "      <td>1.000000</td>\n",
       "      <td>1.000000</td>\n",
       "      <td>29.000000</td>\n",
       "      <td>0.000000</td>\n",
       "      <td>0.000000</td>\n",
       "      <td>0.000000</td>\n",
       "      <td>1.000000</td>\n",
       "      <td>1.000000</td>\n",
       "      <td>...</td>\n",
       "      <td>1.000000</td>\n",
       "      <td>0.000000</td>\n",
       "      <td>3.000000</td>\n",
       "      <td>0.000000</td>\n",
       "      <td>0.000000</td>\n",
       "      <td>0.000000</td>\n",
       "      <td>0.000000</td>\n",
       "      <td>9.000000</td>\n",
       "      <td>5.000000</td>\n",
       "      <td>6.000000</td>\n",
       "    </tr>\n",
       "    <tr>\n",
       "      <th>75%</th>\n",
       "      <td>1.000000</td>\n",
       "      <td>1.000000</td>\n",
       "      <td>1.000000</td>\n",
       "      <td>1.000000</td>\n",
       "      <td>33.000000</td>\n",
       "      <td>1.000000</td>\n",
       "      <td>0.000000</td>\n",
       "      <td>0.000000</td>\n",
       "      <td>1.000000</td>\n",
       "      <td>1.000000</td>\n",
       "      <td>...</td>\n",
       "      <td>1.000000</td>\n",
       "      <td>0.000000</td>\n",
       "      <td>4.000000</td>\n",
       "      <td>2.000000</td>\n",
       "      <td>6.000000</td>\n",
       "      <td>1.000000</td>\n",
       "      <td>1.000000</td>\n",
       "      <td>11.000000</td>\n",
       "      <td>6.000000</td>\n",
       "      <td>8.000000</td>\n",
       "    </tr>\n",
       "    <tr>\n",
       "      <th>max</th>\n",
       "      <td>1.000000</td>\n",
       "      <td>1.000000</td>\n",
       "      <td>1.000000</td>\n",
       "      <td>1.000000</td>\n",
       "      <td>98.000000</td>\n",
       "      <td>1.000000</td>\n",
       "      <td>1.000000</td>\n",
       "      <td>1.000000</td>\n",
       "      <td>1.000000</td>\n",
       "      <td>1.000000</td>\n",
       "      <td>...</td>\n",
       "      <td>1.000000</td>\n",
       "      <td>1.000000</td>\n",
       "      <td>5.000000</td>\n",
       "      <td>30.000000</td>\n",
       "      <td>30.000000</td>\n",
       "      <td>1.000000</td>\n",
       "      <td>1.000000</td>\n",
       "      <td>13.000000</td>\n",
       "      <td>6.000000</td>\n",
       "      <td>8.000000</td>\n",
       "    </tr>\n",
       "  </tbody>\n",
       "</table>\n",
       "<p>8 rows × 22 columns</p>\n",
       "</div>"
      ],
      "text/plain": [
       "       Diabetes_binary        HighBP      HighChol     CholCheck  \\\n",
       "count     70692.000000  70692.000000  70692.000000  70692.000000   \n",
       "mean          0.500000      0.563458      0.525703      0.975259   \n",
       "std           0.500004      0.495960      0.499342      0.155336   \n",
       "min           0.000000      0.000000      0.000000      0.000000   \n",
       "25%           0.000000      0.000000      0.000000      1.000000   \n",
       "50%           0.500000      1.000000      1.000000      1.000000   \n",
       "75%           1.000000      1.000000      1.000000      1.000000   \n",
       "max           1.000000      1.000000      1.000000      1.000000   \n",
       "\n",
       "                BMI        Smoker        Stroke  HeartDiseaseorAttack  \\\n",
       "count  70692.000000  70692.000000  70692.000000          70692.000000   \n",
       "mean      29.856985      0.475273      0.062171              0.147810   \n",
       "std        7.113954      0.499392      0.241468              0.354914   \n",
       "min       12.000000      0.000000      0.000000              0.000000   \n",
       "25%       25.000000      0.000000      0.000000              0.000000   \n",
       "50%       29.000000      0.000000      0.000000              0.000000   \n",
       "75%       33.000000      1.000000      0.000000              0.000000   \n",
       "max       98.000000      1.000000      1.000000              1.000000   \n",
       "\n",
       "       PhysActivity        Fruits  ...  AnyHealthcare   NoDocbcCost  \\\n",
       "count  70692.000000  70692.000000  ...   70692.000000  70692.000000   \n",
       "mean       0.703036      0.611795  ...       0.954960      0.093914   \n",
       "std        0.456924      0.487345  ...       0.207394      0.291712   \n",
       "min        0.000000      0.000000  ...       0.000000      0.000000   \n",
       "25%        0.000000      0.000000  ...       1.000000      0.000000   \n",
       "50%        1.000000      1.000000  ...       1.000000      0.000000   \n",
       "75%        1.000000      1.000000  ...       1.000000      0.000000   \n",
       "max        1.000000      1.000000  ...       1.000000      1.000000   \n",
       "\n",
       "            GenHlth      MentHlth      PhysHlth      DiffWalk           Sex  \\\n",
       "count  70692.000000  70692.000000  70692.000000  70692.000000  70692.000000   \n",
       "mean       2.837082      3.752037      5.810417      0.252730      0.456997   \n",
       "std        1.113565      8.155627     10.062261      0.434581      0.498151   \n",
       "min        1.000000      0.000000      0.000000      0.000000      0.000000   \n",
       "25%        2.000000      0.000000      0.000000      0.000000      0.000000   \n",
       "50%        3.000000      0.000000      0.000000      0.000000      0.000000   \n",
       "75%        4.000000      2.000000      6.000000      1.000000      1.000000   \n",
       "max        5.000000     30.000000     30.000000      1.000000      1.000000   \n",
       "\n",
       "                Age     Education        Income  \n",
       "count  70692.000000  70692.000000  70692.000000  \n",
       "mean       8.584055      4.920953      5.698311  \n",
       "std        2.852153      1.029081      2.175196  \n",
       "min        1.000000      1.000000      1.000000  \n",
       "25%        7.000000      4.000000      4.000000  \n",
       "50%        9.000000      5.000000      6.000000  \n",
       "75%       11.000000      6.000000      8.000000  \n",
       "max       13.000000      6.000000      8.000000  \n",
       "\n",
       "[8 rows x 22 columns]"
      ]
     },
     "execution_count": 8,
     "metadata": {},
     "output_type": "execute_result"
    }
   ],
   "source": [
    "features.describe()"
   ]
  },
  {
   "cell_type": "code",
   "execution_count": null,
   "id": "da51d406",
   "metadata": {
    "papermill": {
     "duration": 0.007274,
     "end_time": "2024-12-01T03:49:09.325041",
     "exception": false,
     "start_time": "2024-12-01T03:49:09.317767",
     "status": "completed"
    },
    "tags": [],
    "trusted": true
   },
   "outputs": [],
   "source": []
  },
  {
   "cell_type": "markdown",
   "id": "6c1137b8",
   "metadata": {
    "id": "vkobkz6J20Jh",
    "papermill": {
     "duration": 0.006284,
     "end_time": "2024-12-01T03:49:09.337944",
     "exception": false,
     "start_time": "2024-12-01T03:49:09.331660",
     "status": "completed"
    },
    "tags": []
   },
   "source": [
    "# PreProcessing"
   ]
  },
  {
   "cell_type": "code",
   "execution_count": 9,
   "id": "36592c14",
   "metadata": {
    "execution": {
     "iopub.execute_input": "2024-12-16T13:59:21.389722Z",
     "iopub.status.busy": "2024-12-16T13:59:21.389382Z",
     "iopub.status.idle": "2024-12-16T13:59:21.395354Z",
     "shell.execute_reply": "2024-12-16T13:59:21.394527Z",
     "shell.execute_reply.started": "2024-12-16T13:59:21.389692Z"
    },
    "id": "sw6-ZBBv7ziJ",
    "papermill": {
     "duration": 0.013561,
     "end_time": "2024-12-01T03:49:09.357824",
     "exception": false,
     "start_time": "2024-12-01T03:49:09.344263",
     "status": "completed"
    },
    "tags": [],
    "trusted": true
   },
   "outputs": [],
   "source": [
    "# gộp\n",
    "features.loc[features['Education'] < 3, 'Education'] = 3"
   ]
  },
  {
   "cell_type": "code",
   "execution_count": 10,
   "id": "4811c2bc",
   "metadata": {
    "execution": {
     "iopub.execute_input": "2024-12-16T13:59:21.922179Z",
     "iopub.status.busy": "2024-12-16T13:59:21.921445Z",
     "iopub.status.idle": "2024-12-16T13:59:21.962234Z",
     "shell.execute_reply": "2024-12-16T13:59:21.961444Z",
     "shell.execute_reply.started": "2024-12-16T13:59:21.922142Z"
    },
    "id": "fxR8MtLyJYbR",
    "papermill": {
     "duration": 0.048539,
     "end_time": "2024-12-01T03:49:09.412415",
     "exception": false,
     "start_time": "2024-12-01T03:49:09.363876",
     "status": "completed"
    },
    "tags": [],
    "trusted": true
   },
   "outputs": [],
   "source": [
    "features.drop_duplicates(inplace=True)\n",
    "features.reset_index(drop=True, inplace=True)"
   ]
  },
  {
   "cell_type": "code",
   "execution_count": 11,
   "id": "372975df",
   "metadata": {
    "execution": {
     "iopub.execute_input": "2024-12-16T13:59:22.323089Z",
     "iopub.status.busy": "2024-12-16T13:59:22.322152Z",
     "iopub.status.idle": "2024-12-16T13:59:22.444365Z",
     "shell.execute_reply": "2024-12-16T13:59:22.443641Z",
     "shell.execute_reply.started": "2024-12-16T13:59:22.323036Z"
    },
    "id": "swehM3wcKfD_",
    "papermill": {
     "duration": 0.142394,
     "end_time": "2024-12-01T03:49:09.561572",
     "exception": false,
     "start_time": "2024-12-01T03:49:09.419178",
     "status": "completed"
    },
    "tags": [],
    "trusted": true
   },
   "outputs": [],
   "source": [
    "# loại bỏ các dữ liệu trùng lặp\n",
    "features.drop_duplicates(inplace=True)\n",
    "features.reset_index(drop=True, inplace=True)\n",
    "Sscaler = StandardScaler()\n",
    "Rscaler = RobustScaler()\n",
    "Mscaler = MinMaxScaler()\n",
    "features_standardized = pd.DataFrame(Sscaler.fit_transform(features), columns=features.columns)\n",
    "features_robust = pd.DataFrame(Rscaler.fit_transform(features), columns=features.columns)\n",
    "features_MinMax = pd.DataFrame(Mscaler.fit_transform(features), columns=features.columns)\n",
    "\n",
    "\n",
    "\n",
    "features[['BMI', 'Age', 'GenHlth']] = features_standardized[['BMI', 'Age', 'GenHlth']]\n",
    "features[['MentHlth', 'PhysHlth']] = features_robust[['MentHlth', 'PhysHlth']]\n",
    "features[['Education', 'Income']] = features_MinMax[['Education', 'Income']]"
   ]
  },
  {
   "cell_type": "code",
   "execution_count": 12,
   "id": "2182ff19",
   "metadata": {
    "execution": {
     "iopub.execute_input": "2024-12-16T13:59:22.741610Z",
     "iopub.status.busy": "2024-12-16T13:59:22.740787Z",
     "iopub.status.idle": "2024-12-16T13:59:22.831087Z",
     "shell.execute_reply": "2024-12-16T13:59:22.830161Z",
     "shell.execute_reply.started": "2024-12-16T13:59:22.741576Z"
    },
    "id": "WtwszhET6K9v",
    "outputId": "b826bc1e-89c8-42f7-803c-f063826fc025",
    "papermill": {
     "duration": 0.091417,
     "end_time": "2024-12-01T03:49:09.659895",
     "exception": false,
     "start_time": "2024-12-01T03:49:09.568478",
     "status": "completed"
    },
    "tags": [],
    "trusted": true
   },
   "outputs": [
    {
     "data": {
      "text/html": [
       "<div>\n",
       "<style scoped>\n",
       "    .dataframe tbody tr th:only-of-type {\n",
       "        vertical-align: middle;\n",
       "    }\n",
       "\n",
       "    .dataframe tbody tr th {\n",
       "        vertical-align: top;\n",
       "    }\n",
       "\n",
       "    .dataframe thead th {\n",
       "        text-align: right;\n",
       "    }\n",
       "</style>\n",
       "<table border=\"1\" class=\"dataframe\">\n",
       "  <thead>\n",
       "    <tr style=\"text-align: right;\">\n",
       "      <th></th>\n",
       "      <th>Diabetes_binary</th>\n",
       "      <th>HighBP</th>\n",
       "      <th>HighChol</th>\n",
       "      <th>CholCheck</th>\n",
       "      <th>BMI</th>\n",
       "      <th>Smoker</th>\n",
       "      <th>Stroke</th>\n",
       "      <th>HeartDiseaseorAttack</th>\n",
       "      <th>PhysActivity</th>\n",
       "      <th>Fruits</th>\n",
       "      <th>...</th>\n",
       "      <th>AnyHealthcare</th>\n",
       "      <th>NoDocbcCost</th>\n",
       "      <th>GenHlth</th>\n",
       "      <th>MentHlth</th>\n",
       "      <th>PhysHlth</th>\n",
       "      <th>DiffWalk</th>\n",
       "      <th>Sex</th>\n",
       "      <th>Age</th>\n",
       "      <th>Education</th>\n",
       "      <th>Income</th>\n",
       "    </tr>\n",
       "  </thead>\n",
       "  <tbody>\n",
       "    <tr>\n",
       "      <th>0</th>\n",
       "      <td>0.0</td>\n",
       "      <td>1.0</td>\n",
       "      <td>0.0</td>\n",
       "      <td>1.0</td>\n",
       "      <td>-0.553426</td>\n",
       "      <td>0.0</td>\n",
       "      <td>0.0</td>\n",
       "      <td>0.0</td>\n",
       "      <td>1.0</td>\n",
       "      <td>0.0</td>\n",
       "      <td>...</td>\n",
       "      <td>1.0</td>\n",
       "      <td>0.0</td>\n",
       "      <td>0.123058</td>\n",
       "      <td>1.666667</td>\n",
       "      <td>5.000000</td>\n",
       "      <td>0.0</td>\n",
       "      <td>1.0</td>\n",
       "      <td>-1.610757</td>\n",
       "      <td>1.000000</td>\n",
       "      <td>1.000000</td>\n",
       "    </tr>\n",
       "    <tr>\n",
       "      <th>1</th>\n",
       "      <td>0.0</td>\n",
       "      <td>1.0</td>\n",
       "      <td>1.0</td>\n",
       "      <td>1.0</td>\n",
       "      <td>-0.553426</td>\n",
       "      <td>1.0</td>\n",
       "      <td>1.0</td>\n",
       "      <td>0.0</td>\n",
       "      <td>0.0</td>\n",
       "      <td>1.0</td>\n",
       "      <td>...</td>\n",
       "      <td>1.0</td>\n",
       "      <td>0.0</td>\n",
       "      <td>0.123058</td>\n",
       "      <td>0.000000</td>\n",
       "      <td>0.000000</td>\n",
       "      <td>0.0</td>\n",
       "      <td>1.0</td>\n",
       "      <td>1.188163</td>\n",
       "      <td>1.000000</td>\n",
       "      <td>1.000000</td>\n",
       "    </tr>\n",
       "    <tr>\n",
       "      <th>2</th>\n",
       "      <td>0.0</td>\n",
       "      <td>0.0</td>\n",
       "      <td>0.0</td>\n",
       "      <td>1.0</td>\n",
       "      <td>-0.553426</td>\n",
       "      <td>0.0</td>\n",
       "      <td>0.0</td>\n",
       "      <td>0.0</td>\n",
       "      <td>1.0</td>\n",
       "      <td>1.0</td>\n",
       "      <td>...</td>\n",
       "      <td>1.0</td>\n",
       "      <td>0.0</td>\n",
       "      <td>-1.682092</td>\n",
       "      <td>0.000000</td>\n",
       "      <td>1.666667</td>\n",
       "      <td>0.0</td>\n",
       "      <td>1.0</td>\n",
       "      <td>1.538027</td>\n",
       "      <td>1.000000</td>\n",
       "      <td>1.000000</td>\n",
       "    </tr>\n",
       "    <tr>\n",
       "      <th>3</th>\n",
       "      <td>0.0</td>\n",
       "      <td>1.0</td>\n",
       "      <td>1.0</td>\n",
       "      <td>1.0</td>\n",
       "      <td>-0.273626</td>\n",
       "      <td>1.0</td>\n",
       "      <td>0.0</td>\n",
       "      <td>0.0</td>\n",
       "      <td>1.0</td>\n",
       "      <td>1.0</td>\n",
       "      <td>...</td>\n",
       "      <td>1.0</td>\n",
       "      <td>0.0</td>\n",
       "      <td>0.123058</td>\n",
       "      <td>0.000000</td>\n",
       "      <td>0.500000</td>\n",
       "      <td>0.0</td>\n",
       "      <td>1.0</td>\n",
       "      <td>0.838298</td>\n",
       "      <td>1.000000</td>\n",
       "      <td>1.000000</td>\n",
       "    </tr>\n",
       "    <tr>\n",
       "      <th>4</th>\n",
       "      <td>0.0</td>\n",
       "      <td>0.0</td>\n",
       "      <td>0.0</td>\n",
       "      <td>1.0</td>\n",
       "      <td>-0.133727</td>\n",
       "      <td>1.0</td>\n",
       "      <td>0.0</td>\n",
       "      <td>0.0</td>\n",
       "      <td>1.0</td>\n",
       "      <td>1.0</td>\n",
       "      <td>...</td>\n",
       "      <td>1.0</td>\n",
       "      <td>0.0</td>\n",
       "      <td>-0.779517</td>\n",
       "      <td>0.000000</td>\n",
       "      <td>0.000000</td>\n",
       "      <td>0.0</td>\n",
       "      <td>0.0</td>\n",
       "      <td>-0.211297</td>\n",
       "      <td>0.666667</td>\n",
       "      <td>1.000000</td>\n",
       "    </tr>\n",
       "    <tr>\n",
       "      <th>...</th>\n",
       "      <td>...</td>\n",
       "      <td>...</td>\n",
       "      <td>...</td>\n",
       "      <td>...</td>\n",
       "      <td>...</td>\n",
       "      <td>...</td>\n",
       "      <td>...</td>\n",
       "      <td>...</td>\n",
       "      <td>...</td>\n",
       "      <td>...</td>\n",
       "      <td>...</td>\n",
       "      <td>...</td>\n",
       "      <td>...</td>\n",
       "      <td>...</td>\n",
       "      <td>...</td>\n",
       "      <td>...</td>\n",
       "      <td>...</td>\n",
       "      <td>...</td>\n",
       "      <td>...</td>\n",
       "      <td>...</td>\n",
       "      <td>...</td>\n",
       "    </tr>\n",
       "    <tr>\n",
       "      <th>69050</th>\n",
       "      <td>1.0</td>\n",
       "      <td>0.0</td>\n",
       "      <td>1.0</td>\n",
       "      <td>1.0</td>\n",
       "      <td>0.985471</td>\n",
       "      <td>0.0</td>\n",
       "      <td>0.0</td>\n",
       "      <td>0.0</td>\n",
       "      <td>0.0</td>\n",
       "      <td>0.0</td>\n",
       "      <td>...</td>\n",
       "      <td>1.0</td>\n",
       "      <td>0.0</td>\n",
       "      <td>1.025633</td>\n",
       "      <td>0.000000</td>\n",
       "      <td>0.000000</td>\n",
       "      <td>0.0</td>\n",
       "      <td>0.0</td>\n",
       "      <td>-0.911027</td>\n",
       "      <td>0.333333</td>\n",
       "      <td>0.000000</td>\n",
       "    </tr>\n",
       "    <tr>\n",
       "      <th>69051</th>\n",
       "      <td>1.0</td>\n",
       "      <td>0.0</td>\n",
       "      <td>1.0</td>\n",
       "      <td>1.0</td>\n",
       "      <td>-0.133727</td>\n",
       "      <td>1.0</td>\n",
       "      <td>0.0</td>\n",
       "      <td>1.0</td>\n",
       "      <td>0.0</td>\n",
       "      <td>1.0</td>\n",
       "      <td>...</td>\n",
       "      <td>1.0</td>\n",
       "      <td>0.0</td>\n",
       "      <td>-0.779517</td>\n",
       "      <td>0.000000</td>\n",
       "      <td>0.000000</td>\n",
       "      <td>1.0</td>\n",
       "      <td>1.0</td>\n",
       "      <td>0.488433</td>\n",
       "      <td>0.000000</td>\n",
       "      <td>0.714286</td>\n",
       "    </tr>\n",
       "    <tr>\n",
       "      <th>69052</th>\n",
       "      <td>1.0</td>\n",
       "      <td>1.0</td>\n",
       "      <td>1.0</td>\n",
       "      <td>1.0</td>\n",
       "      <td>-0.693325</td>\n",
       "      <td>0.0</td>\n",
       "      <td>0.0</td>\n",
       "      <td>1.0</td>\n",
       "      <td>0.0</td>\n",
       "      <td>1.0</td>\n",
       "      <td>...</td>\n",
       "      <td>1.0</td>\n",
       "      <td>0.0</td>\n",
       "      <td>1.928207</td>\n",
       "      <td>5.000000</td>\n",
       "      <td>0.000000</td>\n",
       "      <td>1.0</td>\n",
       "      <td>0.0</td>\n",
       "      <td>1.538027</td>\n",
       "      <td>1.000000</td>\n",
       "      <td>0.428571</td>\n",
       "    </tr>\n",
       "    <tr>\n",
       "      <th>69053</th>\n",
       "      <td>1.0</td>\n",
       "      <td>1.0</td>\n",
       "      <td>1.0</td>\n",
       "      <td>1.0</td>\n",
       "      <td>-1.672623</td>\n",
       "      <td>0.0</td>\n",
       "      <td>0.0</td>\n",
       "      <td>0.0</td>\n",
       "      <td>0.0</td>\n",
       "      <td>0.0</td>\n",
       "      <td>...</td>\n",
       "      <td>1.0</td>\n",
       "      <td>0.0</td>\n",
       "      <td>1.025633</td>\n",
       "      <td>0.000000</td>\n",
       "      <td>0.000000</td>\n",
       "      <td>1.0</td>\n",
       "      <td>0.0</td>\n",
       "      <td>0.838298</td>\n",
       "      <td>0.000000</td>\n",
       "      <td>0.428571</td>\n",
       "    </tr>\n",
       "    <tr>\n",
       "      <th>69054</th>\n",
       "      <td>1.0</td>\n",
       "      <td>1.0</td>\n",
       "      <td>1.0</td>\n",
       "      <td>1.0</td>\n",
       "      <td>-0.693325</td>\n",
       "      <td>0.0</td>\n",
       "      <td>0.0</td>\n",
       "      <td>1.0</td>\n",
       "      <td>1.0</td>\n",
       "      <td>1.0</td>\n",
       "      <td>...</td>\n",
       "      <td>1.0</td>\n",
       "      <td>0.0</td>\n",
       "      <td>-0.779517</td>\n",
       "      <td>0.000000</td>\n",
       "      <td>0.000000</td>\n",
       "      <td>0.0</td>\n",
       "      <td>0.0</td>\n",
       "      <td>0.138568</td>\n",
       "      <td>1.000000</td>\n",
       "      <td>0.142857</td>\n",
       "    </tr>\n",
       "  </tbody>\n",
       "</table>\n",
       "<p>69055 rows × 22 columns</p>\n",
       "</div>"
      ],
      "text/plain": [
       "       Diabetes_binary  HighBP  HighChol  CholCheck       BMI  Smoker  Stroke  \\\n",
       "0                  0.0     1.0       0.0        1.0 -0.553426     0.0     0.0   \n",
       "1                  0.0     1.0       1.0        1.0 -0.553426     1.0     1.0   \n",
       "2                  0.0     0.0       0.0        1.0 -0.553426     0.0     0.0   \n",
       "3                  0.0     1.0       1.0        1.0 -0.273626     1.0     0.0   \n",
       "4                  0.0     0.0       0.0        1.0 -0.133727     1.0     0.0   \n",
       "...                ...     ...       ...        ...       ...     ...     ...   \n",
       "69050              1.0     0.0       1.0        1.0  0.985471     0.0     0.0   \n",
       "69051              1.0     0.0       1.0        1.0 -0.133727     1.0     0.0   \n",
       "69052              1.0     1.0       1.0        1.0 -0.693325     0.0     0.0   \n",
       "69053              1.0     1.0       1.0        1.0 -1.672623     0.0     0.0   \n",
       "69054              1.0     1.0       1.0        1.0 -0.693325     0.0     0.0   \n",
       "\n",
       "       HeartDiseaseorAttack  PhysActivity  Fruits  ...  AnyHealthcare  \\\n",
       "0                       0.0           1.0     0.0  ...            1.0   \n",
       "1                       0.0           0.0     1.0  ...            1.0   \n",
       "2                       0.0           1.0     1.0  ...            1.0   \n",
       "3                       0.0           1.0     1.0  ...            1.0   \n",
       "4                       0.0           1.0     1.0  ...            1.0   \n",
       "...                     ...           ...     ...  ...            ...   \n",
       "69050                   0.0           0.0     0.0  ...            1.0   \n",
       "69051                   1.0           0.0     1.0  ...            1.0   \n",
       "69052                   1.0           0.0     1.0  ...            1.0   \n",
       "69053                   0.0           0.0     0.0  ...            1.0   \n",
       "69054                   1.0           1.0     1.0  ...            1.0   \n",
       "\n",
       "       NoDocbcCost   GenHlth  MentHlth  PhysHlth  DiffWalk  Sex       Age  \\\n",
       "0              0.0  0.123058  1.666667  5.000000       0.0  1.0 -1.610757   \n",
       "1              0.0  0.123058  0.000000  0.000000       0.0  1.0  1.188163   \n",
       "2              0.0 -1.682092  0.000000  1.666667       0.0  1.0  1.538027   \n",
       "3              0.0  0.123058  0.000000  0.500000       0.0  1.0  0.838298   \n",
       "4              0.0 -0.779517  0.000000  0.000000       0.0  0.0 -0.211297   \n",
       "...            ...       ...       ...       ...       ...  ...       ...   \n",
       "69050          0.0  1.025633  0.000000  0.000000       0.0  0.0 -0.911027   \n",
       "69051          0.0 -0.779517  0.000000  0.000000       1.0  1.0  0.488433   \n",
       "69052          0.0  1.928207  5.000000  0.000000       1.0  0.0  1.538027   \n",
       "69053          0.0  1.025633  0.000000  0.000000       1.0  0.0  0.838298   \n",
       "69054          0.0 -0.779517  0.000000  0.000000       0.0  0.0  0.138568   \n",
       "\n",
       "       Education    Income  \n",
       "0       1.000000  1.000000  \n",
       "1       1.000000  1.000000  \n",
       "2       1.000000  1.000000  \n",
       "3       1.000000  1.000000  \n",
       "4       0.666667  1.000000  \n",
       "...          ...       ...  \n",
       "69050   0.333333  0.000000  \n",
       "69051   0.000000  0.714286  \n",
       "69052   1.000000  0.428571  \n",
       "69053   0.000000  0.428571  \n",
       "69054   1.000000  0.142857  \n",
       "\n",
       "[69055 rows x 22 columns]"
      ]
     },
     "execution_count": 12,
     "metadata": {},
     "output_type": "execute_result"
    }
   ],
   "source": [
    "features"
   ]
  },
  {
   "cell_type": "markdown",
   "id": "6cb4a874",
   "metadata": {
    "id": "a1l5owY7Y3c9",
    "papermill": {
     "duration": 0.007679,
     "end_time": "2024-12-01T03:49:09.674945",
     "exception": false,
     "start_time": "2024-12-01T03:49:09.667266",
     "status": "completed"
    },
    "tags": []
   },
   "source": [
    "# chia tập thành train | test"
   ]
  },
  {
   "cell_type": "code",
   "execution_count": 13,
   "id": "1430c588",
   "metadata": {
    "execution": {
     "iopub.execute_input": "2024-12-16T13:59:24.189211Z",
     "iopub.status.busy": "2024-12-16T13:59:24.188543Z",
     "iopub.status.idle": "2024-12-16T13:59:24.269705Z",
     "shell.execute_reply": "2024-12-16T13:59:24.269007Z",
     "shell.execute_reply.started": "2024-12-16T13:59:24.189175Z"
    },
    "id": "iCJtY_GHY2zE",
    "papermill": {
     "duration": 0.092338,
     "end_time": "2024-12-01T03:49:09.774111",
     "exception": false,
     "start_time": "2024-12-01T03:49:09.681773",
     "status": "completed"
    },
    "tags": [],
    "trusted": true
   },
   "outputs": [],
   "source": [
    "class_0 = features[features['Diabetes_binary'] == 0]\n",
    "class_1 = features[features['Diabetes_binary'] == 1]\n",
    "\n",
    "x_class_0, y_class_0 = class_0.drop(columns=['Diabetes_binary'], axis=1), class_0['Diabetes_binary']\n",
    "x_class_1, y_class_1 = class_1.drop(columns=['Diabetes_binary'], axis=1), class_1['Diabetes_binary']\n",
    "\n",
    "x_0_train, x_0_test, y_0_train, y_0_test = train_test_split(x_class_0, y_class_0, test_size=0.2, random_state=1)\n",
    "x_1_train, x_1_test, y_1_train, y_1_test = train_test_split(x_class_1, y_class_1, test_size=0.2, random_state=1)\n",
    "\n",
    "x_train = pd.concat(objs=[x_0_train, x_1_train], ignore_index=True).to_numpy()\n",
    "y_train = pd.concat(objs=[y_0_train, y_1_train], ignore_index=True).to_numpy()\n",
    "index = np.arange(x_train.shape[0])\n",
    "np.random.shuffle(index)\n",
    "x_train = x_train[index]\n",
    "y_train = y_train[index]\n",
    "\n",
    "x_test = pd.concat(objs=[x_0_test, x_1_test], ignore_index=True).to_numpy()\n",
    "y_test = pd.concat(objs=[y_0_test, y_1_test], ignore_index=True).to_numpy()\n",
    "index = np.arange(x_test.shape[0])\n",
    "np.random.shuffle(index)\n",
    "x_test = x_test[index]\n",
    "y_test = y_test[index]"
   ]
  },
  {
   "cell_type": "markdown",
   "id": "85e59d0c",
   "metadata": {
    "id": "xU7xjDU2ZDwf",
    "papermill": {
     "duration": 0.006532,
     "end_time": "2024-12-01T03:49:09.787658",
     "exception": false,
     "start_time": "2024-12-01T03:49:09.781126",
     "status": "completed"
    },
    "tags": []
   },
   "source": [
    "# chia tập thành train | val | test"
   ]
  },
  {
   "cell_type": "code",
   "execution_count": 14,
   "id": "24b69dbe",
   "metadata": {
    "execution": {
     "iopub.execute_input": "2024-12-16T13:59:25.347254Z",
     "iopub.status.busy": "2024-12-16T13:59:25.346395Z",
     "iopub.status.idle": "2024-12-16T13:59:25.405654Z",
     "shell.execute_reply": "2024-12-16T13:59:25.404676Z",
     "shell.execute_reply.started": "2024-12-16T13:59:25.347217Z"
    },
    "id": "luQ2w03EUa29",
    "papermill": {
     "duration": 0.067807,
     "end_time": "2024-12-01T03:49:09.861969",
     "exception": false,
     "start_time": "2024-12-01T03:49:09.794162",
     "status": "completed"
    },
    "tags": [],
    "trusted": true
   },
   "outputs": [],
   "source": [
    "class_0 = features[features['Diabetes_binary'] == 0]\n",
    "class_1 = features[features['Diabetes_binary'] == 1]\n",
    "\n",
    "x_class_0, y_class_0 = class_0.drop(columns=['Diabetes_binary'], axis=1), class_0['Diabetes_binary']\n",
    "x_class_1, y_class_1 = class_1.drop(columns=['Diabetes_binary'], axis=1), class_1['Diabetes_binary']\n",
    "\n",
    "x_0_train, x_0_test, y_0_train, y_0_test = train_test_split(x_class_0, y_class_0, test_size=0.2, random_state=1)\n",
    "x_1_train, x_1_test, y_1_train, y_1_test = train_test_split(x_class_1, y_class_1, test_size=0.2, random_state=1)\n",
    "\n",
    "x_0_train, x_0_val, y_0_train, y_0_val = train_test_split(x_0_train, y_0_train, test_size=0.25, random_state=1)\n",
    "x_1_train, x_1_val, y_1_train, y_1_val = train_test_split(x_1_train, y_1_train, test_size=0.25, random_state=1)\n",
    "\n",
    "\n",
    "\n",
    "x_train = pd.concat(objs=[x_0_train, x_1_train], ignore_index=True).to_numpy()\n",
    "y_train = pd.concat(objs=[y_0_train, y_1_train], ignore_index=True).to_numpy()\n",
    "index = np.arange(x_train.shape[0])\n",
    "np.random.shuffle(index)\n",
    "x_train = x_train[index]\n",
    "y_train = y_train[index]\n",
    "\n",
    "x_val = pd.concat(objs=[x_0_val, x_1_val], ignore_index=True).to_numpy()\n",
    "y_val = pd.concat(objs=[y_0_val, y_1_val], ignore_index=True).to_numpy()\n",
    "index = np.arange(x_val.shape[0])\n",
    "np.random.shuffle(index)\n",
    "x_val = x_val[index]\n",
    "y_val = y_val[index]\n",
    "\n",
    "x_test = pd.concat(objs=[x_0_test, x_1_test], ignore_index=True).to_numpy()\n",
    "y_test = pd.concat(objs=[y_0_test, y_1_test], ignore_index=True).to_numpy()\n",
    "index = np.arange(x_test.shape[0])\n",
    "np.random.shuffle(index)\n",
    "x_test = x_test[index]\n",
    "y_test = y_test[index]"
   ]
  },
  {
   "cell_type": "code",
   "execution_count": 15,
   "id": "397ff9fb",
   "metadata": {
    "execution": {
     "iopub.execute_input": "2024-12-16T13:59:25.742268Z",
     "iopub.status.busy": "2024-12-16T13:59:25.741668Z",
     "iopub.status.idle": "2024-12-16T13:59:25.746756Z",
     "shell.execute_reply": "2024-12-16T13:59:25.745820Z",
     "shell.execute_reply.started": "2024-12-16T13:59:25.742231Z"
    },
    "papermill": {
     "duration": 0.01379,
     "end_time": "2024-12-01T03:49:09.882866",
     "exception": false,
     "start_time": "2024-12-01T03:49:09.869076",
     "status": "completed"
    },
    "tags": [],
    "trusted": true
   },
   "outputs": [
    {
     "name": "stdout",
     "output_type": "stream",
     "text": [
      "(41433, 21)\n",
      "(13811, 21)\n"
     ]
    }
   ],
   "source": [
    "print(x_train.shape)\n",
    "print(x_test.shape)"
   ]
  },
  {
   "cell_type": "markdown",
   "id": "02acdbcc",
   "metadata": {
    "papermill": {
     "duration": 0.00652,
     "end_time": "2024-12-01T03:49:09.896310",
     "exception": false,
     "start_time": "2024-12-01T03:49:09.889790",
     "status": "completed"
    },
    "tags": []
   },
   "source": [
    "KNN"
   ]
  },
  {
   "cell_type": "code",
   "execution_count": 16,
   "id": "94c8cc49",
   "metadata": {
    "execution": {
     "iopub.execute_input": "2024-12-16T13:59:28.006239Z",
     "iopub.status.busy": "2024-12-16T13:59:28.005603Z",
     "iopub.status.idle": "2024-12-16T13:59:28.133311Z",
     "shell.execute_reply": "2024-12-16T13:59:28.132616Z",
     "shell.execute_reply.started": "2024-12-16T13:59:28.006206Z"
    },
    "papermill": {
     "duration": 0.13597,
     "end_time": "2024-12-01T03:49:10.039058",
     "exception": false,
     "start_time": "2024-12-01T03:49:09.903088",
     "status": "completed"
    },
    "tags": [],
    "trusted": true
   },
   "outputs": [],
   "source": [
    "from sklearn.neighbors import KNeighborsClassifier\n",
    "param_grid_knn = {\n",
    "    'n_neighbors': list(range(1, 100)), \n",
    "    'weights': ['uniform', 'distance'],\n",
    "    'metric': ['euclidean', 'manhattan', 'minkowski']\n",
    "}"
   ]
  },
  {
   "cell_type": "code",
   "execution_count": 29,
   "id": "38a6b82d",
   "metadata": {
    "execution": {
     "iopub.execute_input": "2024-12-16T14:02:33.569037Z",
     "iopub.status.busy": "2024-12-16T14:02:33.568257Z",
     "iopub.status.idle": "2024-12-16T14:02:33.572737Z",
     "shell.execute_reply": "2024-12-16T14:02:33.571944Z",
     "shell.execute_reply.started": "2024-12-16T14:02:33.569002Z"
    },
    "papermill": {
     "duration": 5394.751031,
     "end_time": "2024-12-01T05:19:04.796917",
     "exception": false,
     "start_time": "2024-12-01T03:49:10.045886",
     "status": "completed"
    },
    "tags": [],
    "trusted": true
   },
   "outputs": [],
   "source": [
    "from sklearn.model_selection import GridSearchCV\n",
    "from sklearn.metrics import  f1_score\n",
    "model_knn=KNeighborsClassifier()\n",
    "grid_search = GridSearchCV(estimator=model_knn,\n",
    "                           param_grid=param_grid_knn,\n",
    "                           cv=5, \n",
    "                           scoring='f1_macro',\n",
    "                           n_jobs=-1) \n",
    "# Huấn luyện GridSearch\n",
    "grid_search.fit(x_train, y_train)\n",
    "\n",
    "\n",
    "\n"
   ]
  },
  {
   "cell_type": "code",
   "execution_count": 17,
   "id": "401fe87f-be6f-448a-82dc-dfa9ae71eae1",
   "metadata": {
    "execution": {
     "iopub.execute_input": "2024-12-16T14:00:02.392606Z",
     "iopub.status.busy": "2024-12-16T14:00:02.391941Z",
     "iopub.status.idle": "2024-12-16T14:00:02.402873Z",
     "shell.execute_reply": "2024-12-16T14:00:02.402137Z",
     "shell.execute_reply.started": "2024-12-16T14:00:02.392571Z"
    },
    "trusted": true
   },
   "outputs": [
    {
     "data": {
      "text/html": [
       "<style>#sk-container-id-1 {color: black;background-color: white;}#sk-container-id-1 pre{padding: 0;}#sk-container-id-1 div.sk-toggleable {background-color: white;}#sk-container-id-1 label.sk-toggleable__label {cursor: pointer;display: block;width: 100%;margin-bottom: 0;padding: 0.3em;box-sizing: border-box;text-align: center;}#sk-container-id-1 label.sk-toggleable__label-arrow:before {content: \"▸\";float: left;margin-right: 0.25em;color: #696969;}#sk-container-id-1 label.sk-toggleable__label-arrow:hover:before {color: black;}#sk-container-id-1 div.sk-estimator:hover label.sk-toggleable__label-arrow:before {color: black;}#sk-container-id-1 div.sk-toggleable__content {max-height: 0;max-width: 0;overflow: hidden;text-align: left;background-color: #f0f8ff;}#sk-container-id-1 div.sk-toggleable__content pre {margin: 0.2em;color: black;border-radius: 0.25em;background-color: #f0f8ff;}#sk-container-id-1 input.sk-toggleable__control:checked~div.sk-toggleable__content {max-height: 200px;max-width: 100%;overflow: auto;}#sk-container-id-1 input.sk-toggleable__control:checked~label.sk-toggleable__label-arrow:before {content: \"▾\";}#sk-container-id-1 div.sk-estimator input.sk-toggleable__control:checked~label.sk-toggleable__label {background-color: #d4ebff;}#sk-container-id-1 div.sk-label input.sk-toggleable__control:checked~label.sk-toggleable__label {background-color: #d4ebff;}#sk-container-id-1 input.sk-hidden--visually {border: 0;clip: rect(1px 1px 1px 1px);clip: rect(1px, 1px, 1px, 1px);height: 1px;margin: -1px;overflow: hidden;padding: 0;position: absolute;width: 1px;}#sk-container-id-1 div.sk-estimator {font-family: monospace;background-color: #f0f8ff;border: 1px dotted black;border-radius: 0.25em;box-sizing: border-box;margin-bottom: 0.5em;}#sk-container-id-1 div.sk-estimator:hover {background-color: #d4ebff;}#sk-container-id-1 div.sk-parallel-item::after {content: \"\";width: 100%;border-bottom: 1px solid gray;flex-grow: 1;}#sk-container-id-1 div.sk-label:hover label.sk-toggleable__label {background-color: #d4ebff;}#sk-container-id-1 div.sk-serial::before {content: \"\";position: absolute;border-left: 1px solid gray;box-sizing: border-box;top: 0;bottom: 0;left: 50%;z-index: 0;}#sk-container-id-1 div.sk-serial {display: flex;flex-direction: column;align-items: center;background-color: white;padding-right: 0.2em;padding-left: 0.2em;position: relative;}#sk-container-id-1 div.sk-item {position: relative;z-index: 1;}#sk-container-id-1 div.sk-parallel {display: flex;align-items: stretch;justify-content: center;background-color: white;position: relative;}#sk-container-id-1 div.sk-item::before, #sk-container-id-1 div.sk-parallel-item::before {content: \"\";position: absolute;border-left: 1px solid gray;box-sizing: border-box;top: 0;bottom: 0;left: 50%;z-index: -1;}#sk-container-id-1 div.sk-parallel-item {display: flex;flex-direction: column;z-index: 1;position: relative;background-color: white;}#sk-container-id-1 div.sk-parallel-item:first-child::after {align-self: flex-end;width: 50%;}#sk-container-id-1 div.sk-parallel-item:last-child::after {align-self: flex-start;width: 50%;}#sk-container-id-1 div.sk-parallel-item:only-child::after {width: 0;}#sk-container-id-1 div.sk-dashed-wrapped {border: 1px dashed gray;margin: 0 0.4em 0.5em 0.4em;box-sizing: border-box;padding-bottom: 0.4em;background-color: white;}#sk-container-id-1 div.sk-label label {font-family: monospace;font-weight: bold;display: inline-block;line-height: 1.2em;}#sk-container-id-1 div.sk-label-container {text-align: center;}#sk-container-id-1 div.sk-container {/* jupyter's `normalize.less` sets `[hidden] { display: none; }` but bootstrap.min.css set `[hidden] { display: none !important; }` so we also need the `!important` here to be able to override the default hidden behavior on the sphinx rendered scikit-learn.org. See: https://github.com/scikit-learn/scikit-learn/issues/21755 */display: inline-block !important;position: relative;}#sk-container-id-1 div.sk-text-repr-fallback {display: none;}</style><div id=\"sk-container-id-1\" class=\"sk-top-container\"><div class=\"sk-text-repr-fallback\"><pre>KNeighborsClassifier(metric=&#x27;manhattan&#x27;, n_neighbors=92)</pre><b>In a Jupyter environment, please rerun this cell to show the HTML representation or trust the notebook. <br />On GitHub, the HTML representation is unable to render, please try loading this page with nbviewer.org.</b></div><div class=\"sk-container\" hidden><div class=\"sk-item\"><div class=\"sk-estimator sk-toggleable\"><input class=\"sk-toggleable__control sk-hidden--visually\" id=\"sk-estimator-id-1\" type=\"checkbox\" checked><label for=\"sk-estimator-id-1\" class=\"sk-toggleable__label sk-toggleable__label-arrow\">KNeighborsClassifier</label><div class=\"sk-toggleable__content\"><pre>KNeighborsClassifier(metric=&#x27;manhattan&#x27;, n_neighbors=92)</pre></div></div></div></div></div>"
      ],
      "text/plain": [
       "KNeighborsClassifier(metric='manhattan', n_neighbors=92)"
      ]
     },
     "execution_count": 17,
     "metadata": {},
     "output_type": "execute_result"
    }
   ],
   "source": [
    "model_knn=KNeighborsClassifier(n_neighbors=grid_search.best_params_['n_neighbors'],metric=grid_search.best_params_['metric'],weights=grid_search.best_params_['weights'])\n",
    "model_knn.fit(x_train,y_train)"
   ]
  },
  {
   "cell_type": "code",
   "execution_count": 18,
   "id": "8f4f317c",
   "metadata": {
    "execution": {
     "iopub.execute_input": "2024-12-16T14:00:05.205745Z",
     "iopub.status.busy": "2024-12-16T14:00:05.204743Z",
     "iopub.status.idle": "2024-12-16T14:00:13.054360Z",
     "shell.execute_reply": "2024-12-16T14:00:13.053385Z",
     "shell.execute_reply.started": "2024-12-16T14:00:05.205705Z"
    },
    "papermill": {
     "duration": 26.018827,
     "end_time": "2024-12-01T05:19:30.849788",
     "exception": false,
     "start_time": "2024-12-01T05:19:04.830961",
     "status": "completed"
    },
    "tags": [],
    "trusted": true
   },
   "outputs": [
    {
     "name": "stdout",
     "output_type": "stream",
     "text": [
      "0.7467236260951415\n",
      "0.7455119040108786\n"
     ]
    }
   ],
   "source": [
    "from sklearn.metrics import accuracy_score\n",
    "from sklearn.metrics import f1_score\n",
    "\n",
    "y_pred=model_knn.predict(x_test)\n",
    "print(accuracy_score(y_test,y_pred))\n",
    "print(f1_score(y_test, y_pred, average='macro'))"
   ]
  },
  {
   "cell_type": "code",
   "execution_count": 28,
   "id": "4da5997e",
   "metadata": {
    "execution": {
     "iopub.execute_input": "2024-12-16T14:02:19.701313Z",
     "iopub.status.busy": "2024-12-16T14:02:19.700585Z",
     "iopub.status.idle": "2024-12-16T14:02:19.790515Z",
     "shell.execute_reply": "2024-12-16T14:02:19.789609Z",
     "shell.execute_reply.started": "2024-12-16T14:02:19.701276Z"
    },
    "papermill": {
     "duration": 18142.836395,
     "end_time": "2024-12-01T10:21:53.694950",
     "exception": false,
     "start_time": "2024-12-01T05:19:30.858555",
     "status": "completed"
    },
    "tags": [],
    "trusted": true
   },
   "outputs": [],
   "source": [
    "from sklearn.inspection import permutation_importance\n",
    "\n",
    "result = permutation_importance(model_knn, x_val, y_val,scoring='f1_macro', n_repeats=100, random_state=42, n_jobs=-1)\n"
   ]
  },
  {
   "cell_type": "code",
   "execution_count": 20,
   "id": "6c0ee215",
   "metadata": {
    "execution": {
     "iopub.execute_input": "2024-12-16T14:00:13.062994Z",
     "iopub.status.busy": "2024-12-16T14:00:13.062660Z",
     "iopub.status.idle": "2024-12-16T14:00:13.086182Z",
     "shell.execute_reply": "2024-12-16T14:00:13.085210Z",
     "shell.execute_reply.started": "2024-12-16T14:00:13.062967Z"
    },
    "papermill": {
     "duration": 0.035136,
     "end_time": "2024-12-01T10:21:53.738680",
     "exception": false,
     "start_time": "2024-12-01T10:21:53.703544",
     "status": "completed"
    },
    "tags": [],
    "trusted": true
   },
   "outputs": [
    {
     "name": "stdout",
     "output_type": "stream",
     "text": [
      "                 Feature  Importance Mean  Importance Std\n",
      "0                 HighBP         0.036647        0.002341\n",
      "1               HighChol         0.020188        0.001950\n",
      "2              CholCheck         0.019311        0.001971\n",
      "3                    BMI         0.018782        0.002033\n",
      "4                 Smoker         0.009358        0.001657\n",
      "5                 Stroke         0.002364        0.001052\n",
      "6   HeartDiseaseorAttack         0.001225        0.000644\n",
      "7           PhysActivity         0.001042        0.000879\n",
      "8                 Fruits         0.000985        0.001027\n",
      "9                Veggies         0.000887        0.000360\n",
      "10     HvyAlcoholConsump         0.000875        0.000873\n",
      "11         AnyHealthcare         0.000265        0.000337\n",
      "12           NoDocbcCost         0.000219        0.000971\n",
      "13               GenHlth         0.000206        0.000762\n",
      "14              MentHlth         0.000047        0.001286\n",
      "15              PhysHlth        -0.000003        0.000212\n",
      "16              DiffWalk        -0.000042        0.000344\n",
      "17                   Sex        -0.000066        0.000220\n",
      "18                   Age        -0.000074        0.001031\n",
      "19             Education        -0.000461        0.001083\n",
      "20                Income        -0.001230        0.001017\n"
     ]
    }
   ],
   "source": [
    "features=features.drop(columns=\"Diabetes_binary\",axis=1)\n",
    "feature_importances = pd.DataFrame({\n",
    "    'Feature': features.columns,\n",
    "    'Importance Mean': result.importances_mean,\n",
    "    'Importance Std': result.importances_std\n",
    "}).sort_values(by='Importance Mean', ascending=False)\n",
    "\n",
    "print(feature_importances)\n",
    "columns_drop = feature_importances[feature_importances['Importance Mean'] < 0]['Feature'].tolist()\n"
   ]
  },
  {
   "cell_type": "code",
   "execution_count": 21,
   "id": "39bdc096",
   "metadata": {
    "execution": {
     "iopub.execute_input": "2024-12-16T14:00:13.089189Z",
     "iopub.status.busy": "2024-12-16T14:00:13.088414Z",
     "iopub.status.idle": "2024-12-16T14:00:13.548878Z",
     "shell.execute_reply": "2024-12-16T14:00:13.548065Z",
     "shell.execute_reply.started": "2024-12-16T14:00:13.089160Z"
    },
    "papermill": {
     "duration": 0.514253,
     "end_time": "2024-12-01T10:21:54.260599",
     "exception": false,
     "start_time": "2024-12-01T10:21:53.746346",
     "status": "completed"
    },
    "tags": [],
    "trusted": true
   },
   "outputs": [
    {
     "data": {
      "image/png": "[encoded data removed]",
      "text/plain": [
       "<Figure size 1000x600 with 1 Axes>"
      ]
     },
     "metadata": {},
     "output_type": "display_data"
    }
   ],
   "source": [
    "import pandas as pd\n",
    "import matplotlib.pyplot as plt\n",
    "\n",
    "data = {\n",
    "    'Feature': feature_importances['Feature'],\n",
    "    'Importance Mean': feature_importances['Importance Mean'],\n",
    "    'Importance Std': feature_importances['Importance Std']\n",
    "}\n",
    "\n",
    "# Chuyển dữ liệu thành DataFrame\n",
    "df = pd.DataFrame(data)\n",
    "\n",
    "# Vẽ biểu đồ cột\n",
    "plt.figure(figsize=(10, 6))\n",
    "plt.barh(df['Feature'], df['Importance Mean'], xerr=df['Importance Std'], capsize=5)\n",
    "plt.xlabel('Feature Importance Mean')\n",
    "plt.ylabel('Features')\n",
    "plt.title('Feature Importance with Error Bars')\n",
    "plt.gca().invert_yaxis()  # Đảo ngược trục y để tính năng quan trọng nhất ở trên cùng\n",
    "plt.tight_layout()\n",
    "\n",
    "# Hiển thị biểu đồ\n",
    "plt.show()\n"
   ]
  },
  {
   "cell_type": "code",
   "execution_count": 22,
   "id": "e0bb751b",
   "metadata": {
    "execution": {
     "iopub.execute_input": "2024-12-16T14:00:13.550373Z",
     "iopub.status.busy": "2024-12-16T14:00:13.550098Z",
     "iopub.status.idle": "2024-12-16T14:00:13.558566Z",
     "shell.execute_reply": "2024-12-16T14:00:13.557798Z",
     "shell.execute_reply.started": "2024-12-16T14:00:13.550348Z"
    },
    "papermill": {
     "duration": 0.018681,
     "end_time": "2024-12-01T10:21:54.288283",
     "exception": false,
     "start_time": "2024-12-01T10:21:54.269602",
     "status": "completed"
    },
    "tags": [],
    "trusted": true
   },
   "outputs": [
    {
     "name": "stdout",
     "output_type": "stream",
     "text": [
      "(55244, 21)\n",
      "(55244,)\n"
     ]
    }
   ],
   "source": [
    "x_train=np.concatenate((x_train,x_val),axis=0)\n",
    "y_train=np.concatenate((y_train,y_val),axis=0)\n",
    "\n",
    "print(x_train.shape)\n",
    "print(y_train.shape)"
   ]
  },
  {
   "cell_type": "code",
   "execution_count": 23,
   "id": "bbb40bc1",
   "metadata": {
    "execution": {
     "iopub.execute_input": "2024-12-16T14:00:13.559825Z",
     "iopub.status.busy": "2024-12-16T14:00:13.559562Z",
     "iopub.status.idle": "2024-12-16T14:00:13.697253Z",
     "shell.execute_reply": "2024-12-16T14:00:13.696479Z",
     "shell.execute_reply.started": "2024-12-16T14:00:13.559800Z"
    },
    "papermill": {
     "duration": 0.160382,
     "end_time": "2024-12-01T10:21:54.456856",
     "exception": false,
     "start_time": "2024-12-01T10:21:54.296474",
     "status": "completed"
    },
    "tags": [],
    "trusted": true
   },
   "outputs": [],
   "source": [
    "features = pd.read_csv('/kaggle/working/diabetes-health-indicators-dataset./diabetes_binary_5050split_health_indicators_BRFSS2015.csv')\n",
    "features=features.drop(columns=\"Diabetes_binary\",axis=1)\n",
    "x_train=pd.DataFrame(x_train,columns=features.columns)\n",
    "y_train=pd.DataFrame(y_train,columns=[\"Diabetes_binary\"])\n",
    "x_test=pd.DataFrame(x_test,columns=features.columns)\n",
    "y_test=pd.DataFrame(y_test,columns=[\"Diabetes_binary\"])"
   ]
  },
  {
   "cell_type": "code",
   "execution_count": 24,
   "id": "af5de9a5",
   "metadata": {
    "execution": {
     "iopub.execute_input": "2024-12-16T14:00:13.698649Z",
     "iopub.status.busy": "2024-12-16T14:00:13.698289Z",
     "iopub.status.idle": "2024-12-16T14:00:13.705013Z",
     "shell.execute_reply": "2024-12-16T14:00:13.704107Z",
     "shell.execute_reply.started": "2024-12-16T14:00:13.698614Z"
    },
    "papermill": {
     "duration": 0.018109,
     "end_time": "2024-12-01T10:21:54.484340",
     "exception": false,
     "start_time": "2024-12-01T10:21:54.466231",
     "status": "completed"
    },
    "tags": [],
    "trusted": true
   },
   "outputs": [],
   "source": [
    "x_train=x_train.drop(columns=columns_drop)\n",
    "x_test=x_test.drop(columns=columns_drop)\n"
   ]
  },
  {
   "cell_type": "code",
   "execution_count": 25,
   "id": "b0b38aa9",
   "metadata": {
    "execution": {
     "iopub.execute_input": "2024-12-16T14:00:13.706624Z",
     "iopub.status.busy": "2024-12-16T14:00:13.706269Z",
     "iopub.status.idle": "2024-12-16T14:00:13.714966Z",
     "shell.execute_reply": "2024-12-16T14:00:13.714169Z",
     "shell.execute_reply.started": "2024-12-16T14:00:13.706587Z"
    },
    "papermill": {
     "duration": 0.015251,
     "end_time": "2024-12-01T10:21:54.508071",
     "exception": false,
     "start_time": "2024-12-01T10:21:54.492820",
     "status": "completed"
    },
    "tags": [],
    "trusted": true
   },
   "outputs": [],
   "source": [
    "y_train = y_train.squeeze()\n",
    "y_test = y_test.squeeze()\n"
   ]
  },
  {
   "cell_type": "code",
   "execution_count": 26,
   "id": "30060112",
   "metadata": {
    "execution": {
     "iopub.execute_input": "2024-12-16T14:00:13.716231Z",
     "iopub.status.busy": "2024-12-16T14:00:13.715913Z",
     "iopub.status.idle": "2024-12-16T14:00:13.843014Z",
     "shell.execute_reply": "2024-12-16T14:00:13.842200Z",
     "shell.execute_reply.started": "2024-12-16T14:00:13.716193Z"
    },
    "papermill": {
     "duration": 0.138123,
     "end_time": "2024-12-01T10:21:54.654176",
     "exception": false,
     "start_time": "2024-12-01T10:21:54.516053",
     "status": "completed"
    },
    "tags": [],
    "trusted": true
   },
   "outputs": [
    {
     "data": {
      "text/html": [
       "<style>#sk-container-id-2 {color: black;background-color: white;}#sk-container-id-2 pre{padding: 0;}#sk-container-id-2 div.sk-toggleable {background-color: white;}#sk-container-id-2 label.sk-toggleable__label {cursor: pointer;display: block;width: 100%;margin-bottom: 0;padding: 0.3em;box-sizing: border-box;text-align: center;}#sk-container-id-2 label.sk-toggleable__label-arrow:before {content: \"▸\";float: left;margin-right: 0.25em;color: #696969;}#sk-container-id-2 label.sk-toggleable__label-arrow:hover:before {color: black;}#sk-container-id-2 div.sk-estimator:hover label.sk-toggleable__label-arrow:before {color: black;}#sk-container-id-2 div.sk-toggleable__content {max-height: 0;max-width: 0;overflow: hidden;text-align: left;background-color: #f0f8ff;}#sk-container-id-2 div.sk-toggleable__content pre {margin: 0.2em;color: black;border-radius: 0.25em;background-color: #f0f8ff;}#sk-container-id-2 input.sk-toggleable__control:checked~div.sk-toggleable__content {max-height: 200px;max-width: 100%;overflow: auto;}#sk-container-id-2 input.sk-toggleable__control:checked~label.sk-toggleable__label-arrow:before {content: \"▾\";}#sk-container-id-2 div.sk-estimator input.sk-toggleable__control:checked~label.sk-toggleable__label {background-color: #d4ebff;}#sk-container-id-2 div.sk-label input.sk-toggleable__control:checked~label.sk-toggleable__label {background-color: #d4ebff;}#sk-container-id-2 input.sk-hidden--visually {border: 0;clip: rect(1px 1px 1px 1px);clip: rect(1px, 1px, 1px, 1px);height: 1px;margin: -1px;overflow: hidden;padding: 0;position: absolute;width: 1px;}#sk-container-id-2 div.sk-estimator {font-family: monospace;background-color: #f0f8ff;border: 1px dotted black;border-radius: 0.25em;box-sizing: border-box;margin-bottom: 0.5em;}#sk-container-id-2 div.sk-estimator:hover {background-color: #d4ebff;}#sk-container-id-2 div.sk-parallel-item::after {content: \"\";width: 100%;border-bottom: 1px solid gray;flex-grow: 1;}#sk-container-id-2 div.sk-label:hover label.sk-toggleable__label {background-color: #d4ebff;}#sk-container-id-2 div.sk-serial::before {content: \"\";position: absolute;border-left: 1px solid gray;box-sizing: border-box;top: 0;bottom: 0;left: 50%;z-index: 0;}#sk-container-id-2 div.sk-serial {display: flex;flex-direction: column;align-items: center;background-color: white;padding-right: 0.2em;padding-left: 0.2em;position: relative;}#sk-container-id-2 div.sk-item {position: relative;z-index: 1;}#sk-container-id-2 div.sk-parallel {display: flex;align-items: stretch;justify-content: center;background-color: white;position: relative;}#sk-container-id-2 div.sk-item::before, #sk-container-id-2 div.sk-parallel-item::before {content: \"\";position: absolute;border-left: 1px solid gray;box-sizing: border-box;top: 0;bottom: 0;left: 50%;z-index: -1;}#sk-container-id-2 div.sk-parallel-item {display: flex;flex-direction: column;z-index: 1;position: relative;background-color: white;}#sk-container-id-2 div.sk-parallel-item:first-child::after {align-self: flex-end;width: 50%;}#sk-container-id-2 div.sk-parallel-item:last-child::after {align-self: flex-start;width: 50%;}#sk-container-id-2 div.sk-parallel-item:only-child::after {width: 0;}#sk-container-id-2 div.sk-dashed-wrapped {border: 1px dashed gray;margin: 0 0.4em 0.5em 0.4em;box-sizing: border-box;padding-bottom: 0.4em;background-color: white;}#sk-container-id-2 div.sk-label label {font-family: monospace;font-weight: bold;display: inline-block;line-height: 1.2em;}#sk-container-id-2 div.sk-label-container {text-align: center;}#sk-container-id-2 div.sk-container {/* jupyter's `normalize.less` sets `[hidden] { display: none; }` but bootstrap.min.css set `[hidden] { display: none !important; }` so we also need the `!important` here to be able to override the default hidden behavior on the sphinx rendered scikit-learn.org. See: https://github.com/scikit-learn/scikit-learn/issues/21755 */display: inline-block !important;position: relative;}#sk-container-id-2 div.sk-text-repr-fallback {display: none;}</style><div id=\"sk-container-id-2\" class=\"sk-top-container\"><div class=\"sk-text-repr-fallback\"><pre>KNeighborsClassifier(metric=&#x27;manhattan&#x27;, n_neighbors=92)</pre><b>In a Jupyter environment, please rerun this cell to show the HTML representation or trust the notebook. <br />On GitHub, the HTML representation is unable to render, please try loading this page with nbviewer.org.</b></div><div class=\"sk-container\" hidden><div class=\"sk-item\"><div class=\"sk-estimator sk-toggleable\"><input class=\"sk-toggleable__control sk-hidden--visually\" id=\"sk-estimator-id-2\" type=\"checkbox\" checked><label for=\"sk-estimator-id-2\" class=\"sk-toggleable__label sk-toggleable__label-arrow\">KNeighborsClassifier</label><div class=\"sk-toggleable__content\"><pre>KNeighborsClassifier(metric=&#x27;manhattan&#x27;, n_neighbors=92)</pre></div></div></div></div></div>"
      ],
      "text/plain": [
       "KNeighborsClassifier(metric='manhattan', n_neighbors=92)"
      ]
     },
     "execution_count": 26,
     "metadata": {},
     "output_type": "execute_result"
    }
   ],
   "source": [
    "from sklearn.neighbors import KNeighborsClassifier\n",
    "model_knn=KNeighborsClassifier(n_neighbors=92,metric='manhattan',weights='uniform')\n",
    "\n",
    "# model_knn=KNeighborsClassifier(n_neighbors=grid_search.best_params_['n_neighbors'],metric=grid_search.best_params_['metric'],weights=grid_search.best_params_['weights'])\n",
    "model_knn.fit(x_train,y_train)"
   ]
  },
  {
   "cell_type": "code",
   "execution_count": 27,
   "id": "e651aad6",
   "metadata": {
    "execution": {
     "iopub.execute_input": "2024-12-16T14:00:13.845038Z",
     "iopub.status.busy": "2024-12-16T14:00:13.844742Z",
     "iopub.status.idle": "2024-12-16T14:00:19.902596Z",
     "shell.execute_reply": "2024-12-16T14:00:19.901709Z",
     "shell.execute_reply.started": "2024-12-16T14:00:13.845012Z"
    },
    "papermill": {
     "duration": 10.76953,
     "end_time": "2024-12-01T10:22:05.432771",
     "exception": false,
     "start_time": "2024-12-01T10:21:54.663241",
     "status": "completed"
    },
    "tags": [],
    "trusted": true
   },
   "outputs": [
    {
     "name": "stdout",
     "output_type": "stream",
     "text": [
      "0.7420172326406488\n",
      "0.7409414421369955\n"
     ]
    }
   ],
   "source": [
    "\n",
    "from sklearn.metrics import accuracy_score\n",
    "from sklearn.metrics import f1_score\n",
    "\n",
    "y_pred=model_knn.predict(x_test)\n",
    "print(accuracy_score(y_test,y_pred))\n",
    "print(f1_score(y_test, y_pred, average='macro'))"
   ]
  },
  {
   "cell_type": "code",
   "execution_count": null,
   "id": "4d67e1af",
   "metadata": {
    "papermill": {
     "duration": 0.008841,
     "end_time": "2024-12-01T10:22:05.450754",
     "exception": false,
     "start_time": "2024-12-01T10:22:05.441913",
     "status": "completed"
    },
    "tags": [],
    "trusted": true
   },
   "outputs": [],
   "source": []
  },
  {
   "cell_type": "code",
   "execution_count": null,
   "id": "aab82ed2-2b77-4755-814d-0d78c8eec54e",
   "metadata": {
    "trusted": true
   },
   "outputs": [],
   "source": []
  },
  {
   "cell_type": "code",
   "execution_count": null,
   "id": "0f287634-68bd-4e7d-96c4-279d05442328",
   "metadata": {
    "trusted": true
   },
   "outputs": [],
   "source": []
  }
 ],
 "metadata": {
  "accelerator": "TPU",
  "colab": {
   "gpuType": "V28",
   "provenance": []
  },
  "kaggle": {
   "accelerator": "gpu",
   "dataSources": [],
   "dockerImageVersionId": 30805,
   "isGpuEnabled": true,
   "isInternetEnabled": true,
   "language": "python",
   "sourceType": "notebook"
  },
  "kernelspec": {
   "display_name": "Python 3",
   "language": "python",
   "name": "python3"
  },
  "language_info": {
   "codemirror_mode": {
    "name": "ipython",
    "version": 3
   },
   "file_extension": ".py",
   "mimetype": "text/x-python",
   "name": "python",
   "nbconvert_exporter": "python",
   "pygments_lexer": "ipython3",
   "version": "3.10.14"
  },
  "papermill": {
   "default_parameters": {},
   "duration": 23587.187539,
   "end_time": "2024-12-01T10:22:08.077927",
   "environment_variables": {},
   "exception": null,
   "input_path": "__notebook__.ipynb",
   "output_path": "__notebook__.ipynb",
   "parameters": {},
   "start_time": "2024-12-01T03:49:00.890388",
   "version": "2.6.0"
  }
 },
 "nbformat": 4,
 "nbformat_minor": 5
}
