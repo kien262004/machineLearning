{
  "cells": [
    {
      "cell_type": "code",
      "execution_count": null,
      "metadata": {
        "colab": {
          "base_uri": "https://localhost:8080/"
        },
        "id": "bIS9ImrTWDUk",
        "outputId": "18495c1e-2e41-4679-fe8a-70ce94f85d0d"
      },
      "outputs": [
        {
          "output_type": "stream",
          "name": "stdout",
          "text": [
            "Dataset URL: https://www.kaggle.com/datasets/alexteboul/diabetes-health-indicators-dataset\n",
            "License(s): CC0-1.0\n",
            "Downloading diabetes-health-indicators-dataset.zip to /content\n",
            "  0% 0.00/6.03M [00:00<?, ?B/s]\n",
            "100% 6.03M/6.03M [00:00<00:00, 123MB/s]\n"
          ]
        }
      ],
      "source": [
        "!kaggle datasets download -d alexteboul/diabetes-health-indicators-dataset"
      ]
    },
    {
      "cell_type": "code",
      "execution_count": null,
      "metadata": {
        "colab": {
          "base_uri": "https://localhost:8080/"
        },
        "id": "ecuktv3XNg6j",
        "outputId": "6125001b-c5c6-4c55-d5ae-a2bbe406e18c"
      },
      "outputs": [
        {
          "output_type": "stream",
          "name": "stdout",
          "text": [
            "Archive:  /content/diabetes-health-indicators-dataset.zip\n",
            "  inflating: /content/diabetes-health-indicators-dataset/diabetes_012_health_indicators_BRFSS2015.csv  \n",
            "  inflating: /content/diabetes-health-indicators-dataset/diabetes_binary_5050split_health_indicators_BRFSS2015.csv  \n",
            "  inflating: /content/diabetes-health-indicators-dataset/diabetes_binary_health_indicators_BRFSS2015.csv  \n"
          ]
        }
      ],
      "source": [
        "!unzip /content/diabetes-health-indicators-dataset.zip -d /content/diabetes-health-indicators-dataset"
      ]
    },
    {
      "cell_type": "code",
      "execution_count": null,
      "metadata": {
        "id": "6gxbuDtyAJnz"
      },
      "outputs": [],
      "source": [
        "import pandas as pd\n",
        "import numpy as np\n",
        "from sklearn.model_selection import train_test_split\n",
        "import matplotlib.pyplot as plt\n",
        "from tqdm import tqdm\n",
        "from sklearn.preprocessing import StandardScaler, RobustScaler, MinMaxScaler"
      ]
    },
    {
      "cell_type": "code",
      "execution_count": null,
      "metadata": {
        "id": "poXtZHZlV9rV"
      },
      "outputs": [],
      "source": [
        "features = pd.read_csv('/content/diabetes-health-indicators-dataset/diabetes_binary_5050split_health_indicators_BRFSS2015.csv')"
      ]
    },
    {
      "cell_type": "code",
      "execution_count": null,
      "metadata": {
        "colab": {
          "base_uri": "https://localhost:8080/"
        },
        "id": "5HZZhCfI08Kd",
        "outputId": "dcbbc332-fbee-495e-d49c-42b9bfb6784f"
      },
      "outputs": [
        {
          "output_type": "execute_result",
          "data": {
            "text/plain": [
              "Index(['Diabetes_binary', 'HighBP', 'HighChol', 'CholCheck', 'BMI', 'Smoker',\n",
              "       'Stroke', 'HeartDiseaseorAttack', 'PhysActivity', 'Fruits', 'Veggies',\n",
              "       'HvyAlcoholConsump', 'AnyHealthcare', 'NoDocbcCost', 'GenHlth',\n",
              "       'MentHlth', 'PhysHlth', 'DiffWalk', 'Sex', 'Age', 'Education',\n",
              "       'Income'],\n",
              "      dtype='object')"
            ]
          },
          "metadata": {},
          "execution_count": 5
        }
      ],
      "source": [
        "features.columns"
      ]
    },
    {
      "cell_type": "markdown",
      "metadata": {
        "id": "vkobkz6J20Jh"
      },
      "source": [
        "# PreProcessing\n"
      ]
    },
    {
      "cell_type": "code",
      "execution_count": null,
      "metadata": {
        "id": "f9HLV-1mD6qt"
      },
      "outputs": [],
      "source": [
        "# gộp\n",
        "features.loc[features['Education'] < 3, 'Education'] = 3\n",
        "features['Education'] -= 3\n"
      ]
    },
    {
      "cell_type": "code",
      "execution_count": null,
      "metadata": {
        "id": "swehM3wcKfD_"
      },
      "outputs": [],
      "source": [
        "# loại bỏ các dữ liệu trùng lặp\n",
        "features.drop_duplicates(inplace=True)\n",
        "features.reset_index(drop=True, inplace=True)\n",
        "Sscaler = StandardScaler()\n",
        "Rscaler = RobustScaler()\n",
        "Mscaler = MinMaxScaler()\n",
        "features_standardized = pd.DataFrame(Sscaler.fit_transform(features), columns=features.columns)\n",
        "features_robust = pd.DataFrame(Rscaler.fit_transform(features), columns=features.columns)\n",
        "features_MinMax = pd.DataFrame(Mscaler.fit_transform(features), columns=features.columns)\n",
        "\n",
        "\n",
        "\n",
        "features[['BMI', 'Age', 'GenHlth']] = features_standardized[['BMI', 'Age', 'GenHlth']]\n",
        "features[['MentHlth', 'PhysHlth']] = features_robust[['MentHlth', 'PhysHlth']]\n",
        "features[['Education', 'Income']] = features_MinMax[['Education', 'Income']]\n"
      ]
    },
    {
      "cell_type": "markdown",
      "metadata": {
        "id": "xU7xjDU2ZDwf"
      },
      "source": [
        "# chia tập thành train | val | test"
      ]
    },
    {
      "cell_type": "code",
      "execution_count": null,
      "metadata": {
        "id": "luQ2w03EUa29"
      },
      "outputs": [],
      "source": [
        "class_0 = features[features['Diabetes_binary'] == 0]\n",
        "class_1 = features[features['Diabetes_binary'] == 1]\n",
        "\n",
        "x_class_0, y_class_0 = class_0.drop(columns=['Diabetes_binary'], axis=1), class_0['Diabetes_binary']\n",
        "x_class_1, y_class_1 = class_1.drop(columns=['Diabetes_binary'], axis=1), class_1['Diabetes_binary']\n",
        "\n",
        "x_0_train, x_0_test, y_0_train, y_0_test = train_test_split(x_class_0, y_class_0, test_size=0.2, random_state=1)\n",
        "x_1_train, x_1_test, y_1_train, y_1_test = train_test_split(x_class_1, y_class_1, test_size=0.2, random_state=1)\n",
        "\n",
        "x_0_train, x_0_val, y_0_train, y_0_val = train_test_split(x_0_train, y_0_train, test_size=0.25, random_state=1)\n",
        "x_1_train, x_1_val, y_1_train, y_1_val = train_test_split(x_1_train, y_1_train, test_size=0.25, random_state=1)\n",
        "\n",
        "\n",
        "\n",
        "x_train = pd.concat(objs=[x_0_train, x_1_train], ignore_index=True).to_numpy()\n",
        "y_train = pd.concat(objs=[y_0_train, y_1_train], ignore_index=True).to_numpy()\n",
        "index = np.arange(x_train.shape[0])\n",
        "np.random.shuffle(index)\n",
        "x_train = x_train[index]\n",
        "y_train = y_train[index]\n",
        "\n",
        "x_val = pd.concat(objs=[x_0_val, x_1_val], ignore_index=True).to_numpy()\n",
        "y_val = pd.concat(objs=[y_0_val, y_1_val], ignore_index=True).to_numpy()\n",
        "index = np.arange(x_val.shape[0])\n",
        "np.random.shuffle(index)\n",
        "x_val = x_val[index]\n",
        "y_val = y_val[index]\n",
        "\n",
        "x_test = pd.concat(objs=[x_0_test, x_1_test], ignore_index=True).to_numpy()\n",
        "y_test = pd.concat(objs=[y_0_test, y_1_test], ignore_index=True).to_numpy()\n",
        "index = np.arange(x_test.shape[0])\n",
        "np.random.shuffle(index)\n",
        "x_test = x_test[index]\n",
        "y_test = y_test[index]"
      ]
    },
    {
      "cell_type": "code",
      "execution_count": null,
      "metadata": {
        "id": "LZ0lLIRHmh2-"
      },
      "outputs": [],
      "source": [
        "from sklearn.svm import LinearSVC\n",
        "from sklearn.model_selection import GridSearchCV\n",
        "from sklearn.metrics import f1_score\n",
        "from sklearn.svm import SVC"
      ]
    },
    {
      "cell_type": "code",
      "source": [
        "from sklearn.model_selection import GridSearchCV\n",
        "from sklearn.metrics import classification_report\n",
        "import pandas as pd\n",
        "\n",
        "# Giả sử bạn đã có các model và tham số cho từng model\n",
        "models = {\n",
        "    'SVM': (SVC(), {'kernel': ['rbf', 'poly', 'sigmoid'], 'C':[1e-5, 1e-4, 1e-3, 1e-2, 1e-1, 1, 10, 100], 'gamma': ['scale', 'auto']}),\n",
        "    'LinearSVM': (LinearSVC(), {'C': [1e-5, 1e-4, 1e-3, 1e-2, 1e-1, 1, 10, 100]}),\n",
        "}\n",
        "\n",
        "# Lưu kết quả cho tất cả model\n",
        "results = []\n",
        "\n",
        "for model_name, (model, params) in models.items():\n",
        "    grid = GridSearchCV(model, params, scoring='f1_macro', cv=5, n_jobs=-1, )\n",
        "    grid.fit(x_train, y_train)\n",
        "\n",
        "    # Lưu kết quả vào DataFrame\n",
        "    for mean, params in zip(grid.cv_results_['mean_test_score'], grid.cv_results_['params']):\n",
        "        results.append({\n",
        "            'Model': model_name,\n",
        "            'Mean F1 score - macro': mean,\n",
        "            'Parameters': params\n",
        "        })\n",
        "\n",
        "# Chuyển kết quả thành DataFrame\n",
        "results_df = pd.DataFrame(results)\n",
        "print(results_df)\n",
        "\n",
        "# Tìm model tốt nhất\n",
        "best_model = results_df.loc[results_df['Mean F1 score - macro'].idxmax()]\n",
        "print(\"\\nBest Model:\\n\", best_model)\n",
        "results_df.to_csv('service_usage.csv')"
      ],
      "metadata": {
        "id": "SST1TorL_2XE",
        "collapsed": true
      },
      "execution_count": null,
      "outputs": []
    },
    {
      "cell_type": "code",
      "source": [
        "from sklearn.model_selection import GridSearchCV\n",
        "from sklearn.metrics import classification_report\n",
        "import pandas as pd\n",
        "\n",
        "# Giả sử bạn đã có các model và tham số cho từng model\n",
        "models = {\n",
        "    'SVM': (SVC(), {'kernel': ['poly'], 'C':[0.5], 'gamma': ['scale', 'auto'], 'degree': [2, 3, 4, 5, 6, 7, 8, 9, 10]}),\n",
        "}\n",
        "\n",
        "# Lưu kết quả cho tất cả model\n",
        "results = []\n",
        "\n",
        "for model_name, (model, params) in models.items():\n",
        "    grid = GridSearchCV(model, params, scoring='f1_macro', cv=5, n_jobs=-1)\n",
        "    grid.fit(x_train, y_train)\n",
        "\n",
        "    # Lưu kết quả vào DataFrame\n",
        "    for mean, params in zip(grid.cv_results_['mean_test_score'], grid.cv_results_['params']):\n",
        "        results.append({\n",
        "            'Model': model_name,\n",
        "            'Mean F1 score - macro': mean,\n",
        "            'Parameters': params\n",
        "        })\n",
        "\n",
        "# Chuyển kết quả thành DataFrame\n",
        "results_df = pd.DataFrame(results)\n",
        "print(results_df)\n",
        "\n",
        "# Tìm model tốt nhất\n",
        "best_model = results_df.loc[results_df['Mean F1 score - macro'].idxmax()]\n",
        "print(\"\\nBest Model:\\n\", best_model)\n",
        "results_df.to_csv('service_usage.csv')"
      ],
      "metadata": {
        "id": "PgPSl3UQx7N4"
      },
      "execution_count": null,
      "outputs": []
    },
    {
      "cell_type": "code",
      "source": [
        "best_model = SVC(kernel='poly', C=0.5, gamma='auto')\n",
        "best_model.fit(x_train, y_train)\n",
        "\n",
        "y_pred = best_model.predict(x_test)\n",
        "f1_score(y_test, y_pred, average='macro')"
      ],
      "metadata": {
        "colab": {
          "base_uri": "https://localhost:8080/"
        },
        "id": "WWstY5G4dPTN",
        "outputId": "73a67283-2ba5-4f39-9f54-91a89b8a33af"
      },
      "execution_count": null,
      "outputs": [
        {
          "output_type": "execute_result",
          "data": {
            "text/plain": [
              "0.7532594785174919"
            ]
          },
          "metadata": {},
          "execution_count": 13
        }
      ]
    },
    {
      "cell_type": "code",
      "source": [
        "from sklearn.inspection import permutation_importance\n",
        "\n",
        "result = permutation_importance(best_model, x_val, y_val, n_repeats=50, random_state=42, scoring='f1_macro', n_jobs=-1)\n",
        "\n",
        "sorted_idx = result.importances_mean.argsort()\n",
        "# Hiển thị kết quả\n",
        "for i in result.importances_mean.argsort()[::-1]:\n",
        "    print(f\"Đặc trưng {features.columns[i+1]}: {result.importances_mean[i]:.4f} +-  {result.importances_std[i]:.4f}\")\n",
        "\n",
        "plt.figure(figsize=(10, 6))\n",
        "plt.barh(range(len(sorted_idx)), result.importances_mean[sorted_idx], align=\"center\")\n",
        "plt.yticks(range(len(sorted_idx)), [features.columns[i+1] for i in sorted_idx])\n",
        "plt.xlabel(\"Tầm quan trọng của đặc trưng\")\n",
        "plt.title(\"Permutation Importance\")\n",
        "plt.tight_layout()\n",
        "plt.show()"
      ],
      "metadata": {
        "id": "REzVKkg0H1CD",
        "colab": {
          "base_uri": "https://localhost:8080/",
          "height": 877
        },
        "outputId": "2221d2dc-d23b-430b-a6a9-88881749f810"
      },
      "execution_count": null,
      "outputs": [
        {
          "output_type": "stream",
          "name": "stdout",
          "text": [
            "Đặc trưng GenHlth: 0.0444\n",
            "Đặc trưng BMI: 0.0261\n",
            "Đặc trưng Age: 0.0231\n",
            "Đặc trưng HighBP: 0.0195\n",
            "Đặc trưng HighChol: 0.0073\n",
            "Đặc trưng CholCheck: 0.0070\n",
            "Đặc trưng PhysHlth: 0.0026\n",
            "Đặc trưng Income: 0.0024\n",
            "Đặc trưng Sex: 0.0022\n",
            "Đặc trưng HeartDiseaseorAttack: 0.0021\n",
            "Đặc trưng HvyAlcoholConsump: 0.0017\n",
            "Đặc trưng DiffWalk: 0.0016\n",
            "Đặc trưng MentHlth: 0.0013\n",
            "Đặc trưng Education: 0.0007\n",
            "Đặc trưng Fruits: 0.0006\n",
            "Đặc trưng Stroke: 0.0006\n",
            "Đặc trưng AnyHealthcare: 0.0003\n",
            "Đặc trưng Smoker: 0.0003\n",
            "Đặc trưng Veggies: 0.0003\n",
            "Đặc trưng NoDocbcCost: -0.0000\n",
            "Đặc trưng PhysActivity: -0.0001\n"
          ]
        },
        {
          "output_type": "display_data",
          "data": {
            "text/plain": [
              "<Figure size 1000x600 with 1 Axes>"
            ],
            "image/png": "[encoded data removed]"
          },
          "metadata": {}
        }
      ]
    },
    {
      "cell_type": "code",
      "source": [
        "import matplotlib.pyplot as plt\n",
        "import numpy as np\n",
        "\n",
        "# Giả sử `result.importances_mean` là giá trị trung bình và `result.importances_std` là phương sai\n",
        "means = result.importances_mean[sorted_idx]\n",
        "stds = result.importances_std[sorted_idx]\n",
        "\n",
        "plt.figure(figsize=(10, 6))\n",
        "plt.barh(\n",
        "    range(len(sorted_idx)),\n",
        "    means,\n",
        "    xerr=stds,  # Thêm phương sai vào đây\n",
        "    align=\"center\",\n",
        "    alpha=1,  # Tùy chỉnh độ trong suốt\n",
        "    capsize=5  # Kích thước các đường gạch ngang của lỗi\n",
        ")\n",
        "plt.yticks(range(len(sorted_idx)), [features.columns[i+1] for i in sorted_idx])\n",
        "plt.xlabel(\"Tầm quan trọng của đặc trưng\")\n",
        "plt.title(\"Permutation Importance (Trung bình và Phương sai)\")\n",
        "plt.tight_layout()\n",
        "plt.show()"
      ],
      "metadata": {
        "id": "2HV46F4i7cv5",
        "colab": {
          "base_uri": "https://localhost:8080/",
          "height": 513
        },
        "outputId": "b6b82928-9e18-4b52-e549-bd8d7d826650"
      },
      "execution_count": null,
      "outputs": [
        {
          "output_type": "display_data",
          "data": {
            "text/plain": [
              "<Figure size 1000x600 with 1 Axes>"
            ],
            "image/png": "[encoded data removed]"
          },
          "metadata": {}
        }
      ]
    },
    {
      "cell_type": "code",
      "source": [
        "copy = features.copy()"
      ],
      "metadata": {
        "id": "_PisERrB7f-Y"
      },
      "execution_count": null,
      "outputs": []
    },
    {
      "cell_type": "code",
      "source": [
        "indices = [copy.columns.get_loc(name) - 1  for name in ['PhysActivity', 'NoDocbcCost']]"
      ],
      "metadata": {
        "id": "2JhColxYReCC"
      },
      "execution_count": null,
      "outputs": []
    },
    {
      "cell_type": "code",
      "source": [
        "indices"
      ],
      "metadata": {
        "colab": {
          "base_uri": "https://localhost:8080/"
        },
        "id": "1xdpnzD9dzCW",
        "outputId": "a6ee065c-25cc-4a50-98f7-6f2ae6876bd8"
      },
      "execution_count": null,
      "outputs": [
        {
          "output_type": "execute_result",
          "data": {
            "text/plain": [
              "[7, 12, 4, 11]"
            ]
          },
          "metadata": {},
          "execution_count": 46
        }
      ]
    },
    {
      "cell_type": "code",
      "source": [
        "X_train = np.concatenate((x_train, x_val), axis=0)\n",
        "Y_train = np.concatenate((y_train, y_val), axis=0)\n",
        "# X_train = np.delete(X_train, indices, axis=1)\n",
        "# X_test = np.delete(x_test, indices, axis=1)"
      ],
      "metadata": {
        "id": "P3gmEIuid6Gu"
      },
      "execution_count": null,
      "outputs": []
    },
    {
      "cell_type": "code",
      "source": [
        "best_model = SVC(kernel='poly', C=0.5, gamma='auto', )\n",
        "best_model.fit(X_train, Y_train)\n",
        "\n"
      ],
      "metadata": {
        "colab": {
          "base_uri": "https://localhost:8080/",
          "height": 80
        },
        "id": "uV3Z9Xm_8A6e",
        "outputId": "a419cf78-84db-427d-970b-a3d43689853b"
      },
      "execution_count": null,
      "outputs": [
        {
          "output_type": "execute_result",
          "data": {
            "text/plain": [
              "SVC(C=0.5, gamma='auto', kernel='poly')"
            ],
            "text/html": [
              "<style>#sk-container-id-8 {\n",
              "  /* Definition of color scheme common for light and dark mode */\n",
              "  --sklearn-color-text: black;\n",
              "  --sklearn-color-line: gray;\n",
              "  /* Definition of color scheme for unfitted estimators */\n",
              "  --sklearn-color-unfitted-level-0: #fff5e6;\n",
              "  --sklearn-color-unfitted-level-1: #f6e4d2;\n",
              "  --sklearn-color-unfitted-level-2: #ffe0b3;\n",
              "  --sklearn-color-unfitted-level-3: chocolate;\n",
              "  /* Definition of color scheme for fitted estimators */\n",
              "  --sklearn-color-fitted-level-0: #f0f8ff;\n",
              "  --sklearn-color-fitted-level-1: #d4ebff;\n",
              "  --sklearn-color-fitted-level-2: #b3dbfd;\n",
              "  --sklearn-color-fitted-level-3: cornflowerblue;\n",
              "\n",
              "  /* Specific color for light theme */\n",
              "  --sklearn-color-text-on-default-background: var(--sg-text-color, var(--theme-code-foreground, var(--jp-content-font-color1, black)));\n",
              "  --sklearn-color-background: var(--sg-background-color, var(--theme-background, var(--jp-layout-color0, white)));\n",
              "  --sklearn-color-border-box: var(--sg-text-color, var(--theme-code-foreground, var(--jp-content-font-color1, black)));\n",
              "  --sklearn-color-icon: #696969;\n",
              "\n",
              "  @media (prefers-color-scheme: dark) {\n",
              "    /* Redefinition of color scheme for dark theme */\n",
              "    --sklearn-color-text-on-default-background: var(--sg-text-color, var(--theme-code-foreground, var(--jp-content-font-color1, white)));\n",
              "    --sklearn-color-background: var(--sg-background-color, var(--theme-background, var(--jp-layout-color0, #111)));\n",
              "    --sklearn-color-border-box: var(--sg-text-color, var(--theme-code-foreground, var(--jp-content-font-color1, white)));\n",
              "    --sklearn-color-icon: #878787;\n",
              "  }\n",
              "}\n",
              "\n",
              "#sk-container-id-8 {\n",
              "  color: var(--sklearn-color-text);\n",
              "}\n",
              "\n",
              "#sk-container-id-8 pre {\n",
              "  padding: 0;\n",
              "}\n",
              "\n",
              "#sk-container-id-8 input.sk-hidden--visually {\n",
              "  border: 0;\n",
              "  clip: rect(1px 1px 1px 1px);\n",
              "  clip: rect(1px, 1px, 1px, 1px);\n",
              "  height: 1px;\n",
              "  margin: -1px;\n",
              "  overflow: hidden;\n",
              "  padding: 0;\n",
              "  position: absolute;\n",
              "  width: 1px;\n",
              "}\n",
              "\n",
              "#sk-container-id-8 div.sk-dashed-wrapped {\n",
              "  border: 1px dashed var(--sklearn-color-line);\n",
              "  margin: 0 0.4em 0.5em 0.4em;\n",
              "  box-sizing: border-box;\n",
              "  padding-bottom: 0.4em;\n",
              "  background-color: var(--sklearn-color-background);\n",
              "}\n",
              "\n",
              "#sk-container-id-8 div.sk-container {\n",
              "  /* jupyter's `normalize.less` sets `[hidden] { display: none; }`\n",
              "     but bootstrap.min.css set `[hidden] { display: none !important; }`\n",
              "     so we also need the `!important` here to be able to override the\n",
              "     default hidden behavior on the sphinx rendered scikit-learn.org.\n",
              "     See: https://github.com/scikit-learn/scikit-learn/issues/21755 */\n",
              "  display: inline-block !important;\n",
              "  position: relative;\n",
              "}\n",
              "\n",
              "#sk-container-id-8 div.sk-text-repr-fallback {\n",
              "  display: none;\n",
              "}\n",
              "\n",
              "div.sk-parallel-item,\n",
              "div.sk-serial,\n",
              "div.sk-item {\n",
              "  /* draw centered vertical line to link estimators */\n",
              "  background-image: linear-gradient(var(--sklearn-color-text-on-default-background), var(--sklearn-color-text-on-default-background));\n",
              "  background-size: 2px 100%;\n",
              "  background-repeat: no-repeat;\n",
              "  background-position: center center;\n",
              "}\n",
              "\n",
              "/* Parallel-specific style estimator block */\n",
              "\n",
              "#sk-container-id-8 div.sk-parallel-item::after {\n",
              "  content: \"\";\n",
              "  width: 100%;\n",
              "  border-bottom: 2px solid var(--sklearn-color-text-on-default-background);\n",
              "  flex-grow: 1;\n",
              "}\n",
              "\n",
              "#sk-container-id-8 div.sk-parallel {\n",
              "  display: flex;\n",
              "  align-items: stretch;\n",
              "  justify-content: center;\n",
              "  background-color: var(--sklearn-color-background);\n",
              "  position: relative;\n",
              "}\n",
              "\n",
              "#sk-container-id-8 div.sk-parallel-item {\n",
              "  display: flex;\n",
              "  flex-direction: column;\n",
              "}\n",
              "\n",
              "#sk-container-id-8 div.sk-parallel-item:first-child::after {\n",
              "  align-self: flex-end;\n",
              "  width: 50%;\n",
              "}\n",
              "\n",
              "#sk-container-id-8 div.sk-parallel-item:last-child::after {\n",
              "  align-self: flex-start;\n",
              "  width: 50%;\n",
              "}\n",
              "\n",
              "#sk-container-id-8 div.sk-parallel-item:only-child::after {\n",
              "  width: 0;\n",
              "}\n",
              "\n",
              "/* Serial-specific style estimator block */\n",
              "\n",
              "#sk-container-id-8 div.sk-serial {\n",
              "  display: flex;\n",
              "  flex-direction: column;\n",
              "  align-items: center;\n",
              "  background-color: var(--sklearn-color-background);\n",
              "  padding-right: 1em;\n",
              "  padding-left: 1em;\n",
              "}\n",
              "\n",
              "\n",
              "/* Toggleable style: style used for estimator/Pipeline/ColumnTransformer box that is\n",
              "clickable and can be expanded/collapsed.\n",
              "- Pipeline and ColumnTransformer use this feature and define the default style\n",
              "- Estimators will overwrite some part of the style using the `sk-estimator` class\n",
              "*/\n",
              "\n",
              "/* Pipeline and ColumnTransformer style (default) */\n",
              "\n",
              "#sk-container-id-8 div.sk-toggleable {\n",
              "  /* Default theme specific background. It is overwritten whether we have a\n",
              "  specific estimator or a Pipeline/ColumnTransformer */\n",
              "  background-color: var(--sklearn-color-background);\n",
              "}\n",
              "\n",
              "/* Toggleable label */\n",
              "#sk-container-id-8 label.sk-toggleable__label {\n",
              "  cursor: pointer;\n",
              "  display: block;\n",
              "  width: 100%;\n",
              "  margin-bottom: 0;\n",
              "  padding: 0.5em;\n",
              "  box-sizing: border-box;\n",
              "  text-align: center;\n",
              "}\n",
              "\n",
              "#sk-container-id-8 label.sk-toggleable__label-arrow:before {\n",
              "  /* Arrow on the left of the label */\n",
              "  content: \"▸\";\n",
              "  float: left;\n",
              "  margin-right: 0.25em;\n",
              "  color: var(--sklearn-color-icon);\n",
              "}\n",
              "\n",
              "#sk-container-id-8 label.sk-toggleable__label-arrow:hover:before {\n",
              "  color: var(--sklearn-color-text);\n",
              "}\n",
              "\n",
              "/* Toggleable content - dropdown */\n",
              "\n",
              "#sk-container-id-8 div.sk-toggleable__content {\n",
              "  max-height: 0;\n",
              "  max-width: 0;\n",
              "  overflow: hidden;\n",
              "  text-align: left;\n",
              "  /* unfitted */\n",
              "  background-color: var(--sklearn-color-unfitted-level-0);\n",
              "}\n",
              "\n",
              "#sk-container-id-8 div.sk-toggleable__content.fitted {\n",
              "  /* fitted */\n",
              "  background-color: var(--sklearn-color-fitted-level-0);\n",
              "}\n",
              "\n",
              "#sk-container-id-8 div.sk-toggleable__content pre {\n",
              "  margin: 0.2em;\n",
              "  border-radius: 0.25em;\n",
              "  color: var(--sklearn-color-text);\n",
              "  /* unfitted */\n",
              "  background-color: var(--sklearn-color-unfitted-level-0);\n",
              "}\n",
              "\n",
              "#sk-container-id-8 div.sk-toggleable__content.fitted pre {\n",
              "  /* unfitted */\n",
              "  background-color: var(--sklearn-color-fitted-level-0);\n",
              "}\n",
              "\n",
              "#sk-container-id-8 input.sk-toggleable__control:checked~div.sk-toggleable__content {\n",
              "  /* Expand drop-down */\n",
              "  max-height: 200px;\n",
              "  max-width: 100%;\n",
              "  overflow: auto;\n",
              "}\n",
              "\n",
              "#sk-container-id-8 input.sk-toggleable__control:checked~label.sk-toggleable__label-arrow:before {\n",
              "  content: \"▾\";\n",
              "}\n",
              "\n",
              "/* Pipeline/ColumnTransformer-specific style */\n",
              "\n",
              "#sk-container-id-8 div.sk-label input.sk-toggleable__control:checked~label.sk-toggleable__label {\n",
              "  color: var(--sklearn-color-text);\n",
              "  background-color: var(--sklearn-color-unfitted-level-2);\n",
              "}\n",
              "\n",
              "#sk-container-id-8 div.sk-label.fitted input.sk-toggleable__control:checked~label.sk-toggleable__label {\n",
              "  background-color: var(--sklearn-color-fitted-level-2);\n",
              "}\n",
              "\n",
              "/* Estimator-specific style */\n",
              "\n",
              "/* Colorize estimator box */\n",
              "#sk-container-id-8 div.sk-estimator input.sk-toggleable__control:checked~label.sk-toggleable__label {\n",
              "  /* unfitted */\n",
              "  background-color: var(--sklearn-color-unfitted-level-2);\n",
              "}\n",
              "\n",
              "#sk-container-id-8 div.sk-estimator.fitted input.sk-toggleable__control:checked~label.sk-toggleable__label {\n",
              "  /* fitted */\n",
              "  background-color: var(--sklearn-color-fitted-level-2);\n",
              "}\n",
              "\n",
              "#sk-container-id-8 div.sk-label label.sk-toggleable__label,\n",
              "#sk-container-id-8 div.sk-label label {\n",
              "  /* The background is the default theme color */\n",
              "  color: var(--sklearn-color-text-on-default-background);\n",
              "}\n",
              "\n",
              "/* On hover, darken the color of the background */\n",
              "#sk-container-id-8 div.sk-label:hover label.sk-toggleable__label {\n",
              "  color: var(--sklearn-color-text);\n",
              "  background-color: var(--sklearn-color-unfitted-level-2);\n",
              "}\n",
              "\n",
              "/* Label box, darken color on hover, fitted */\n",
              "#sk-container-id-8 div.sk-label.fitted:hover label.sk-toggleable__label.fitted {\n",
              "  color: var(--sklearn-color-text);\n",
              "  background-color: var(--sklearn-color-fitted-level-2);\n",
              "}\n",
              "\n",
              "/* Estimator label */\n",
              "\n",
              "#sk-container-id-8 div.sk-label label {\n",
              "  font-family: monospace;\n",
              "  font-weight: bold;\n",
              "  display: inline-block;\n",
              "  line-height: 1.2em;\n",
              "}\n",
              "\n",
              "#sk-container-id-8 div.sk-label-container {\n",
              "  text-align: center;\n",
              "}\n",
              "\n",
              "/* Estimator-specific */\n",
              "#sk-container-id-8 div.sk-estimator {\n",
              "  font-family: monospace;\n",
              "  border: 1px dotted var(--sklearn-color-border-box);\n",
              "  border-radius: 0.25em;\n",
              "  box-sizing: border-box;\n",
              "  margin-bottom: 0.5em;\n",
              "  /* unfitted */\n",
              "  background-color: var(--sklearn-color-unfitted-level-0);\n",
              "}\n",
              "\n",
              "#sk-container-id-8 div.sk-estimator.fitted {\n",
              "  /* fitted */\n",
              "  background-color: var(--sklearn-color-fitted-level-0);\n",
              "}\n",
              "\n",
              "/* on hover */\n",
              "#sk-container-id-8 div.sk-estimator:hover {\n",
              "  /* unfitted */\n",
              "  background-color: var(--sklearn-color-unfitted-level-2);\n",
              "}\n",
              "\n",
              "#sk-container-id-8 div.sk-estimator.fitted:hover {\n",
              "  /* fitted */\n",
              "  background-color: var(--sklearn-color-fitted-level-2);\n",
              "}\n",
              "\n",
              "/* Specification for estimator info (e.g. \"i\" and \"?\") */\n",
              "\n",
              "/* Common style for \"i\" and \"?\" */\n",
              "\n",
              ".sk-estimator-doc-link,\n",
              "a:link.sk-estimator-doc-link,\n",
              "a:visited.sk-estimator-doc-link {\n",
              "  float: right;\n",
              "  font-size: smaller;\n",
              "  line-height: 1em;\n",
              "  font-family: monospace;\n",
              "  background-color: var(--sklearn-color-background);\n",
              "  border-radius: 1em;\n",
              "  height: 1em;\n",
              "  width: 1em;\n",
              "  text-decoration: none !important;\n",
              "  margin-left: 1ex;\n",
              "  /* unfitted */\n",
              "  border: var(--sklearn-color-unfitted-level-1) 1pt solid;\n",
              "  color: var(--sklearn-color-unfitted-level-1);\n",
              "}\n",
              "\n",
              ".sk-estimator-doc-link.fitted,\n",
              "a:link.sk-estimator-doc-link.fitted,\n",
              "a:visited.sk-estimator-doc-link.fitted {\n",
              "  /* fitted */\n",
              "  border: var(--sklearn-color-fitted-level-1) 1pt solid;\n",
              "  color: var(--sklearn-color-fitted-level-1);\n",
              "}\n",
              "\n",
              "/* On hover */\n",
              "div.sk-estimator:hover .sk-estimator-doc-link:hover,\n",
              ".sk-estimator-doc-link:hover,\n",
              "div.sk-label-container:hover .sk-estimator-doc-link:hover,\n",
              ".sk-estimator-doc-link:hover {\n",
              "  /* unfitted */\n",
              "  background-color: var(--sklearn-color-unfitted-level-3);\n",
              "  color: var(--sklearn-color-background);\n",
              "  text-decoration: none;\n",
              "}\n",
              "\n",
              "div.sk-estimator.fitted:hover .sk-estimator-doc-link.fitted:hover,\n",
              ".sk-estimator-doc-link.fitted:hover,\n",
              "div.sk-label-container:hover .sk-estimator-doc-link.fitted:hover,\n",
              ".sk-estimator-doc-link.fitted:hover {\n",
              "  /* fitted */\n",
              "  background-color: var(--sklearn-color-fitted-level-3);\n",
              "  color: var(--sklearn-color-background);\n",
              "  text-decoration: none;\n",
              "}\n",
              "\n",
              "/* Span, style for the box shown on hovering the info icon */\n",
              ".sk-estimator-doc-link span {\n",
              "  display: none;\n",
              "  z-index: 9999;\n",
              "  position: relative;\n",
              "  font-weight: normal;\n",
              "  right: .2ex;\n",
              "  padding: .5ex;\n",
              "  margin: .5ex;\n",
              "  width: min-content;\n",
              "  min-width: 20ex;\n",
              "  max-width: 50ex;\n",
              "  color: var(--sklearn-color-text);\n",
              "  box-shadow: 2pt 2pt 4pt #999;\n",
              "  /* unfitted */\n",
              "  background: var(--sklearn-color-unfitted-level-0);\n",
              "  border: .5pt solid var(--sklearn-color-unfitted-level-3);\n",
              "}\n",
              "\n",
              ".sk-estimator-doc-link.fitted span {\n",
              "  /* fitted */\n",
              "  background: var(--sklearn-color-fitted-level-0);\n",
              "  border: var(--sklearn-color-fitted-level-3);\n",
              "}\n",
              "\n",
              ".sk-estimator-doc-link:hover span {\n",
              "  display: block;\n",
              "}\n",
              "\n",
              "/* \"?\"-specific style due to the `<a>` HTML tag */\n",
              "\n",
              "#sk-container-id-8 a.estimator_doc_link {\n",
              "  float: right;\n",
              "  font-size: 1rem;\n",
              "  line-height: 1em;\n",
              "  font-family: monospace;\n",
              "  background-color: var(--sklearn-color-background);\n",
              "  border-radius: 1rem;\n",
              "  height: 1rem;\n",
              "  width: 1rem;\n",
              "  text-decoration: none;\n",
              "  /* unfitted */\n",
              "  color: var(--sklearn-color-unfitted-level-1);\n",
              "  border: var(--sklearn-color-unfitted-level-1) 1pt solid;\n",
              "}\n",
              "\n",
              "#sk-container-id-8 a.estimator_doc_link.fitted {\n",
              "  /* fitted */\n",
              "  border: var(--sklearn-color-fitted-level-1) 1pt solid;\n",
              "  color: var(--sklearn-color-fitted-level-1);\n",
              "}\n",
              "\n",
              "/* On hover */\n",
              "#sk-container-id-8 a.estimator_doc_link:hover {\n",
              "  /* unfitted */\n",
              "  background-color: var(--sklearn-color-unfitted-level-3);\n",
              "  color: var(--sklearn-color-background);\n",
              "  text-decoration: none;\n",
              "}\n",
              "\n",
              "#sk-container-id-8 a.estimator_doc_link.fitted:hover {\n",
              "  /* fitted */\n",
              "  background-color: var(--sklearn-color-fitted-level-3);\n",
              "}\n",
              "</style><div id=\"sk-container-id-8\" class=\"sk-top-container\"><div class=\"sk-text-repr-fallback\"><pre>SVC(C=0.5, gamma=&#x27;auto&#x27;, kernel=&#x27;poly&#x27;)</pre><b>In a Jupyter environment, please rerun this cell to show the HTML representation or trust the notebook. <br />On GitHub, the HTML representation is unable to render, please try loading this page with nbviewer.org.</b></div><div class=\"sk-container\" hidden><div class=\"sk-item\"><div class=\"sk-estimator fitted sk-toggleable\"><input class=\"sk-toggleable__control sk-hidden--visually\" id=\"sk-estimator-id-8\" type=\"checkbox\" checked><label for=\"sk-estimator-id-8\" class=\"sk-toggleable__label fitted sk-toggleable__label-arrow fitted\">&nbsp;&nbsp;SVC<a class=\"sk-estimator-doc-link fitted\" rel=\"noreferrer\" target=\"_blank\" href=\"https://scikit-learn.org/1.5/modules/generated/sklearn.svm.SVC.html\">?<span>Documentation for SVC</span></a><span class=\"sk-estimator-doc-link fitted\">i<span>Fitted</span></span></label><div class=\"sk-toggleable__content fitted\"><pre>SVC(C=0.5, gamma=&#x27;auto&#x27;, kernel=&#x27;poly&#x27;)</pre></div> </div></div></div></div>"
            ]
          },
          "metadata": {},
          "execution_count": 72
        }
      ]
    },
    {
      "cell_type": "code",
      "source": [
        "y_pred = best_model.predict(x_test)\n",
        "f1_score(y_test, y_pred, average='macro')"
      ],
      "metadata": {
        "colab": {
          "base_uri": "https://localhost:8080/"
        },
        "id": "HmJFzt8f8QqO",
        "outputId": "5b4b3098-9b9e-496e-e7a5-e351ff2841cf"
      },
      "execution_count": null,
      "outputs": [
        {
          "output_type": "execute_result",
          "data": {
            "text/plain": [
              "0.7535670653849571"
            ]
          },
          "metadata": {},
          "execution_count": 73
        }
      ]
    },
    {
      "source": [
        "# Add this line at the beginning of your code to import the function:\n",
        "from sklearn.metrics import classification_report\n",
        "\n",
        "# ... (rest of your code) ...\n",
        "\n",
        "# Now you should be able to call the function:\n",
        "classification_report(y_test, y_pred, output_dict=True)"
      ],
      "cell_type": "code",
      "metadata": {
        "colab": {
          "base_uri": "https://localhost:8080/"
        },
        "id": "5Ep3qtm2YkAX",
        "outputId": "d07546ad-fed9-4742-a0a6-9fab7a1d134d"
      },
      "execution_count": null,
      "outputs": [
        {
          "output_type": "execute_result",
          "data": {
            "text/plain": [
              "{'0.0': {'precision': 0.7852360227653163,\n",
              "  'recall': 0.6906654888103652,\n",
              "  'f1-score': 0.7349208835970547,\n",
              "  'support': 6792.0},\n",
              " '1.0': {'precision': 0.731912721704734,\n",
              "  'recall': 0.8172104288360166,\n",
              "  'f1-score': 0.7722132471728594,\n",
              "  'support': 7019.0},\n",
              " 'accuracy': 0.7549779161537905,\n",
              " 'macro avg': {'precision': 0.7585743722350251,\n",
              "  'recall': 0.7539379588231909,\n",
              "  'f1-score': 0.7535670653849571,\n",
              "  'support': 13811.0},\n",
              " 'weighted avg': {'precision': 0.7581361567060717,\n",
              "  'recall': 0.7549779161537905,\n",
              "  'f1-score': 0.7538735372744548,\n",
              "  'support': 13811.0}}"
            ]
          },
          "metadata": {},
          "execution_count": 74
        }
      ]
    },
    {
      "cell_type": "code",
      "source": [
        "X_train = np.concatenate((x_train, x_val), axis=0)\n",
        "Y_train = np.concatenate((y_train, y_val), axis=0)\n",
        "X_train = np.delete(X_train, indices, axis=1)\n",
        "X_test = np.delete(x_test, indices, axis=1)"
      ],
      "metadata": {
        "id": "QWEEsao4vFz8"
      },
      "execution_count": null,
      "outputs": []
    },
    {
      "cell_type": "code",
      "source": [
        "best_model = SVC(kernel='poly', C=0.5, gamma='auto', )\n",
        "best_model.fit(X_train, Y_train)\n",
        "y_pred = best_model.predict(X_test)\n",
        "f1_score(y_test, y_pred, average='macro')"
      ],
      "metadata": {
        "colab": {
          "base_uri": "https://localhost:8080/"
        },
        "id": "uJUdoR9A9Prk",
        "outputId": "a3c643ea-eb71-4f52-ab28-f171a60ab4dd"
      },
      "execution_count": null,
      "outputs": [
        {
          "output_type": "execute_result",
          "data": {
            "text/plain": [
              "0.7524387357666813"
            ]
          },
          "metadata": {},
          "execution_count": 76
        }
      ]
    },
    {
      "cell_type": "code",
      "source": [
        "# Add this line at the beginning of your code to import the function:\n",
        "from sklearn.metrics import classification_report\n",
        "\n",
        "# ... (rest of your code) ...\n",
        "\n",
        "# Now you should be able to call the function:\n",
        "classification_report(y_test, y_pred, output_dict=True)"
      ],
      "metadata": {
        "colab": {
          "base_uri": "https://localhost:8080/"
        },
        "id": "CZlWSLv_ZDdZ",
        "outputId": "fecd955c-67ff-4856-f205-7651abd48773"
      },
      "execution_count": null,
      "outputs": [
        {
          "output_type": "execute_result",
          "data": {
            "text/plain": [
              "{'0.0': {'precision': 0.7818786367414796,\n",
              "  'recall': 0.692432273262662,\n",
              "  'f1-score': 0.7344421019754822,\n",
              "  'support': 6792.0},\n",
              " '1.0': {'precision': 0.7320420728578758,\n",
              "  'recall': 0.8130787861518735,\n",
              "  'f1-score': 0.7704353695578805,\n",
              "  'support': 7019.0},\n",
              " 'accuracy': 0.7537470132503077,\n",
              " 'macro avg': {'precision': 0.7569603547996777,\n",
              "  'recall': 0.7527555297072677,\n",
              "  'f1-score': 0.7524387357666813,\n",
              "  'support': 13811.0},\n",
              " 'weighted avg': {'precision': 0.7565507935803027,\n",
              "  'recall': 0.7537470132503077,\n",
              "  'f1-score': 0.7527345315722423,\n",
              "  'support': 13811.0}}"
            ]
          },
          "metadata": {},
          "execution_count": 77
        }
      ]
    }
  ],
  "metadata": {
    "colab": {
      "provenance": [],
      "gpuType": "V28"
    },
    "kernelspec": {
      "display_name": "Python 3",
      "name": "python3"
    },
    "language_info": {
      "name": "python"
    },
    "accelerator": "TPU"
  },
  "nbformat": 4,
  "nbformat_minor": 0
}