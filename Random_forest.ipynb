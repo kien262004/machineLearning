{
  "metadata": {
    "kernelspec": {
      "name": "python3",
      "display_name": "Python 3",
      "language": "python"
    },
    "language_info": {
      "name": "python",
      "version": "3.10.14",
      "mimetype": "text/x-python",
      "codemirror_mode": {
        "name": "ipython",
        "version": 3
      },
      "pygments_lexer": "ipython3",
      "nbconvert_exporter": "python",
      "file_extension": ".py"
    },
    "colab": {
      "gpuType": "V28",
      "provenance": []
    },
    "accelerator": "TPU",
    "kaggle": {
      "accelerator": "none",
      "dataSources": [
        {
          "sourceId": 2789260,
          "sourceType": "datasetVersion",
          "datasetId": 1703281
        }
      ],
      "dockerImageVersionId": 30804,
      "isInternetEnabled": true,
      "language": "python",
      "sourceType": "notebook",
      "isGpuEnabled": false
    }
  },
  "nbformat_minor": 0,
  "nbformat": 4,
  "cells": [
    {
      "source": [
        "# IMPORTANT: RUN THIS CELL IN ORDER TO IMPORT YOUR KAGGLE DATA SOURCES,\n",
        "# THEN FEEL FREE TO DELETE THIS CELL.\n",
        "# NOTE: THIS NOTEBOOK ENVIRONMENT DIFFERS FROM KAGGLE'S PYTHON\n",
        "# ENVIRONMENT SO THERE MAY BE MISSING LIBRARIES USED BY YOUR\n",
        "# NOTEBOOK.\n",
        "import kagglehub\n",
        "alexteboul_diabetes_health_indicators_dataset_path = kagglehub.dataset_download('alexteboul/diabetes-health-indicators-dataset')\n",
        "\n",
        "print('Data source import complete.')\n"
      ],
      "metadata": {
        "id": "aiSLlOZ7WimD",
        "outputId": "d64d9d89-8e5b-43e6-f54b-9790ad166988",
        "colab": {
          "base_uri": "https://localhost:8080/"
        }
      },
      "cell_type": "code",
      "outputs": [
        {
          "output_type": "stream",
          "name": "stdout",
          "text": [
            "Downloading from https://www.kaggle.com/api/v1/datasets/download/alexteboul/diabetes-health-indicators-dataset?dataset_version_number=1...\n"
          ]
        },
        {
          "output_type": "stream",
          "name": "stderr",
          "text": [
            "100%|██████████| 6.03M/6.03M [00:00<00:00, 161MB/s]"
          ]
        },
        {
          "output_type": "stream",
          "name": "stdout",
          "text": [
            "Extracting files...\n"
          ]
        },
        {
          "output_type": "stream",
          "name": "stderr",
          "text": [
            "\n"
          ]
        },
        {
          "output_type": "stream",
          "name": "stdout",
          "text": [
            "Data source import complete.\n"
          ]
        }
      ],
      "execution_count": null
    },
    {
      "cell_type": "code",
      "source": [
        "!kaggle datasets download -d alexteboul/diabetes-health-indicators-dataset"
      ],
      "metadata": {
        "id": "bIS9ImrTWDUk",
        "outputId": "956dc120-700b-466f-eb5f-247a35d4f93c",
        "trusted": true,
        "execution": {
          "iopub.status.busy": "2024-12-18T12:34:01.682407Z",
          "iopub.execute_input": "2024-12-18T12:34:01.682878Z",
          "iopub.status.idle": "2024-12-18T12:34:05.181018Z",
          "shell.execute_reply.started": "2024-12-18T12:34:01.682814Z",
          "shell.execute_reply": "2024-12-18T12:34:05.179517Z"
        },
        "colab": {
          "base_uri": "https://localhost:8080/"
        }
      },
      "outputs": [
        {
          "output_type": "stream",
          "name": "stdout",
          "text": [
            "Dataset URL: https://www.kaggle.com/datasets/alexteboul/diabetes-health-indicators-dataset\n",
            "License(s): CC0-1.0\n",
            "Downloading diabetes-health-indicators-dataset.zip to /content\n",
            "  0% 0.00/6.03M [00:00<?, ?B/s]\n",
            "100% 6.03M/6.03M [00:00<00:00, 134MB/s]\n"
          ]
        }
      ],
      "execution_count": null
    },
    {
      "cell_type": "code",
      "source": [
        "!unzip ./diabetes-health-indicators-dataset.zip -d ./diabetes-health-indicators-dataset"
      ],
      "metadata": {
        "id": "ecuktv3XNg6j",
        "outputId": "edb2023a-76e3-4051-d781-84c232787f25",
        "trusted": true,
        "execution": {
          "iopub.status.busy": "2024-12-18T12:34:05.183181Z",
          "iopub.execute_input": "2024-12-18T12:34:05.183568Z",
          "iopub.status.idle": "2024-12-18T12:34:07.04892Z",
          "shell.execute_reply.started": "2024-12-18T12:34:05.183532Z",
          "shell.execute_reply": "2024-12-18T12:34:07.047721Z"
        },
        "colab": {
          "base_uri": "https://localhost:8080/"
        }
      },
      "outputs": [
        {
          "output_type": "stream",
          "name": "stdout",
          "text": [
            "Archive:  ./diabetes-health-indicators-dataset.zip\n",
            "  inflating: ./diabetes-health-indicators-dataset/diabetes_012_health_indicators_BRFSS2015.csv  \n",
            "  inflating: ./diabetes-health-indicators-dataset/diabetes_binary_5050split_health_indicators_BRFSS2015.csv  \n",
            "  inflating: ./diabetes-health-indicators-dataset/diabetes_binary_health_indicators_BRFSS2015.csv  \n"
          ]
        }
      ],
      "execution_count": null
    },
    {
      "cell_type": "markdown",
      "source": [],
      "metadata": {
        "id": "5IRMIcP6WimE"
      }
    },
    {
      "cell_type": "code",
      "source": [
        "import pandas as pd\n",
        "import seaborn as sns\n",
        "import numpy as np\n",
        "from sklearn.model_selection import train_test_split\n",
        "import matplotlib.pyplot as plt\n",
        "from tqdm import tqdm\n",
        "from sklearn.preprocessing import StandardScaler, RobustScaler, MinMaxScaler\n",
        "\n",
        "np.random.seed(42)\n",
        "#from ydata_profiling import ProfileReport"
      ],
      "metadata": {
        "id": "6gxbuDtyAJnz",
        "trusted": true,
        "execution": {
          "iopub.status.busy": "2024-12-18T12:37:25.260077Z",
          "iopub.execute_input": "2024-12-18T12:37:25.260465Z",
          "iopub.status.idle": "2024-12-18T12:37:26.728577Z",
          "shell.execute_reply.started": "2024-12-18T12:37:25.260428Z",
          "shell.execute_reply": "2024-12-18T12:37:26.727538Z"
        }
      },
      "outputs": [],
      "execution_count": null
    },
    {
      "cell_type": "code",
      "source": [
        "features = pd.read_csv('/content/diabetes-health-indicators-dataset/diabetes_binary_5050split_health_indicators_BRFSS2015.csv')"
      ],
      "metadata": {
        "id": "poXtZHZlV9rV",
        "trusted": true,
        "execution": {
          "iopub.status.busy": "2024-12-18T12:37:28.257513Z",
          "iopub.execute_input": "2024-12-18T12:37:28.258521Z",
          "iopub.status.idle": "2024-12-18T12:37:28.464948Z",
          "shell.execute_reply.started": "2024-12-18T12:37:28.258466Z",
          "shell.execute_reply": "2024-12-18T12:37:28.463708Z"
        }
      },
      "outputs": [],
      "execution_count": null
    },
    {
      "cell_type": "markdown",
      "source": [
        "# EDA"
      ],
      "metadata": {
        "id": "purSwD9LYpzd"
      }
    },
    {
      "cell_type": "markdown",
      "source": [
        "# PreProcessing\n"
      ],
      "metadata": {
        "id": "vkobkz6J20Jh"
      }
    },
    {
      "cell_type": "code",
      "source": [
        "# gộp\n",
        "features.loc[features['Education'] < 3, 'Education'] = 3\n"
      ],
      "metadata": {
        "id": "sw6-ZBBv7ziJ",
        "trusted": true,
        "execution": {
          "iopub.status.busy": "2024-12-18T12:37:32.375895Z",
          "iopub.execute_input": "2024-12-18T12:37:32.376288Z",
          "iopub.status.idle": "2024-12-18T12:37:32.386395Z",
          "shell.execute_reply.started": "2024-12-18T12:37:32.376254Z",
          "shell.execute_reply": "2024-12-18T12:37:32.385178Z"
        }
      },
      "outputs": [],
      "execution_count": null
    },
    {
      "cell_type": "code",
      "source": [
        "features.drop_duplicates(inplace=True)\n",
        "features.reset_index(drop=True, inplace=True)"
      ],
      "metadata": {
        "id": "fxR8MtLyJYbR",
        "trusted": true,
        "execution": {
          "iopub.status.busy": "2024-12-18T12:37:34.651466Z",
          "iopub.execute_input": "2024-12-18T12:37:34.652243Z",
          "iopub.status.idle": "2024-12-18T12:37:34.714722Z",
          "shell.execute_reply.started": "2024-12-18T12:37:34.652197Z",
          "shell.execute_reply": "2024-12-18T12:37:34.713406Z"
        }
      },
      "outputs": [],
      "execution_count": null
    },
    {
      "cell_type": "code",
      "source": [
        "# loại bỏ các dữ liệu trùng lặp\n",
        "features.drop_duplicates(inplace=True)\n",
        "features.reset_index(drop=True, inplace=True)\n",
        "Sscaler = StandardScaler()\n",
        "Rscaler = RobustScaler()\n",
        "Mscaler = MinMaxScaler()\n",
        "features_standardized = pd.DataFrame(Sscaler.fit_transform(features), columns=features.columns)\n",
        "features_robust = pd.DataFrame(Rscaler.fit_transform(features), columns=features.columns)\n",
        "features_MinMax = pd.DataFrame(Mscaler.fit_transform(features), columns=features.columns)\n",
        "\n",
        "\n",
        "\n",
        "features[['BMI', 'Age', 'GenHlth']] = features_standardized[['BMI', 'Age', 'GenHlth']]\n",
        "features[['MentHlth', 'PhysHlth']] = features_robust[['MentHlth', 'PhysHlth']]\n",
        "features[['Education', 'Income']] = features_MinMax[['Education', 'Income']]\n"
      ],
      "metadata": {
        "id": "swehM3wcKfD_",
        "trusted": true,
        "execution": {
          "iopub.status.busy": "2024-12-18T12:37:40.841687Z",
          "iopub.execute_input": "2024-12-18T12:37:40.842091Z",
          "iopub.status.idle": "2024-12-18T12:37:41.00301Z",
          "shell.execute_reply.started": "2024-12-18T12:37:40.842055Z",
          "shell.execute_reply": "2024-12-18T12:37:41.001893Z"
        }
      },
      "outputs": [],
      "execution_count": null
    },
    {
      "cell_type": "markdown",
      "source": [
        "# chia tập thành train | test"
      ],
      "metadata": {
        "id": "a1l5owY7Y3c9"
      }
    },
    {
      "cell_type": "markdown",
      "source": [
        "# chia tập thành train | val | test"
      ],
      "metadata": {
        "id": "xU7xjDU2ZDwf"
      }
    },
    {
      "cell_type": "code",
      "source": [
        "class_0 = features[features['Diabetes_binary'] == 0]\n",
        "class_1 = features[features['Diabetes_binary'] == 1]\n",
        "\n",
        "x_class_0, y_class_0 = class_0.drop(columns=['Diabetes_binary'], axis=1), class_0['Diabetes_binary']\n",
        "x_class_1, y_class_1 = class_1.drop(columns=['Diabetes_binary'], axis=1), class_1['Diabetes_binary']\n",
        "\n",
        "x_0_train, x_0_test, y_0_train, y_0_test = train_test_split(x_class_0, y_class_0, test_size=0.2, random_state=1)\n",
        "x_1_train, x_1_test, y_1_train, y_1_test = train_test_split(x_class_1, y_class_1, test_size=0.2, random_state=1)\n",
        "\n",
        "x_0_train, x_0_val, y_0_train, y_0_val = train_test_split(x_0_train, y_0_train, test_size=0.25, random_state=1)\n",
        "x_1_train, x_1_val, y_1_train, y_1_val = train_test_split(x_1_train, y_1_train, test_size=0.25, random_state=1)\n",
        "\n",
        "\n",
        "\n",
        "x_train = pd.concat(objs=[x_0_train, x_1_train], ignore_index=True).to_numpy()\n",
        "y_train = pd.concat(objs=[y_0_train, y_1_train], ignore_index=True).to_numpy()\n",
        "index = np.arange(x_train.shape[0])\n",
        "np.random.shuffle(index)\n",
        "x_train = x_train[index]\n",
        "y_train = y_train[index]\n",
        "\n",
        "x_val = pd.concat(objs=[x_0_val, x_1_val], ignore_index=True).to_numpy()\n",
        "y_val = pd.concat(objs=[y_0_val, y_1_val], ignore_index=True).to_numpy()\n",
        "index = np.arange(x_val.shape[0])\n",
        "np.random.shuffle(index)\n",
        "x_val = x_val[index]\n",
        "y_val = y_val[index]\n",
        "\n",
        "x_test = pd.concat(objs=[x_0_test, x_1_test], ignore_index=True).to_numpy()\n",
        "y_test = pd.concat(objs=[y_0_test, y_1_test], ignore_index=True).to_numpy()\n",
        "index = np.arange(x_test.shape[0])\n",
        "np.random.shuffle(index)\n",
        "x_test = x_test[index]\n",
        "y_test = y_test[index]"
      ],
      "metadata": {
        "id": "luQ2w03EUa29",
        "trusted": true,
        "execution": {
          "iopub.status.busy": "2024-12-18T12:37:46.532192Z",
          "iopub.execute_input": "2024-12-18T12:37:46.532592Z",
          "iopub.status.idle": "2024-12-18T12:37:46.632158Z",
          "shell.execute_reply.started": "2024-12-18T12:37:46.532554Z",
          "shell.execute_reply": "2024-12-18T12:37:46.631031Z"
        }
      },
      "outputs": [],
      "execution_count": null
    },
    {
      "cell_type": "code",
      "source": [
        "import numpy as np\n",
        "from sklearn.ensemble import RandomForestClassifier\n",
        "from sklearn.model_selection import GridSearchCV, train_test_split\n",
        "from sklearn.metrics import accuracy_score, classification_report, f1_score\n",
        "\n",
        "rf = RandomForestClassifier(random_state=42, bootstrap=True)\n",
        "\n",
        "# Hyperparameter grid\n",
        "param_grid = {\n",
        "    'n_estimators': [100, 150, 200],\n",
        "    #[100,125,150,175,200],\n",
        "    'max_features': ['sqrt', 'log2', None],\n",
        "    'criterion': ['gini', 'entropy', 'log_loss'],\n",
        "    'max_depth': np.arange(5,15),\n",
        "    'min_samples_leaf':np.arange(1,3,1),\n",
        "    'min_samples_split':np.arange(1,10,1),\n",
        "\n",
        "}\n",
        "\n",
        "\n",
        "grid_search = GridSearchCV(estimator=rf, param_grid=param_grid,\n",
        "                           cv=5, n_jobs=-1, verbose=0, scoring='f1_macro')\n",
        "\n",
        "# Fit to the training data\n",
        "grid_search.fit(x_train, y_train)\n",
        "\n",
        "# Get best parameters\n",
        "best_rf = grid_search.best_estimator_\n",
        "#Best Parameters: {'bootstrap': True, 'criterion': 'gini', 'max_depth': 10, 'min_samples_leaf': 2, 'min_samples_split': 5, 'n_estimators': 200}\n",
        "print(\"Best Parameters:\", grid_search.best_params_)"
      ],
      "metadata": {
        "trusted": true,
        "execution": {
          "iopub.status.busy": "2024-12-03T13:13:10.863023Z",
          "iopub.execute_input": "2024-12-03T13:13:10.863464Z",
          "iopub.status.idle": "2024-12-03T13:49:59.656266Z",
          "shell.execute_reply.started": "2024-12-03T13:13:10.863427Z",
          "shell.execute_reply": "2024-12-03T13:49:59.654623Z"
        },
        "id": "oEgOx9pOWimG",
        "outputId": "58653d71-e321-439e-e68a-0207886379fb",
        "colab": {
          "base_uri": "https://localhost:8080/",
          "height": 365
        }
      },
      "outputs": [
        {
          "output_type": "error",
          "ename": "KeyboardInterrupt",
          "evalue": "",
          "traceback": [
            "\u001b[0;31m---------------------------------------------------------------------------\u001b[0m",
            "\u001b[0;31mKeyboardInterrupt\u001b[0m                         Traceback (most recent call last)",
            "\u001b[0;32m<ipython-input-11-f42e09e12a82>\u001b[0m in \u001b[0;36m<cell line: 25>\u001b[0;34m()\u001b[0m\n\u001b[1;32m     23\u001b[0m \u001b[0;34m\u001b[0m\u001b[0m\n\u001b[1;32m     24\u001b[0m \u001b[0;31m# Fit to the training data\u001b[0m\u001b[0;34m\u001b[0m\u001b[0;34m\u001b[0m\u001b[0m\n\u001b[0;32m---> 25\u001b[0;31m \u001b[0mgrid_search\u001b[0m\u001b[0;34m.\u001b[0m\u001b[0mfit\u001b[0m\u001b[0;34m(\u001b[0m\u001b[0mx_train\u001b[0m\u001b[0;34m,\u001b[0m \u001b[0my_train\u001b[0m\u001b[0;34m)\u001b[0m\u001b[0;34m\u001b[0m\u001b[0;34m\u001b[0m\u001b[0m\n\u001b[0m\u001b[1;32m     26\u001b[0m \u001b[0;34m\u001b[0m\u001b[0m\n\u001b[1;32m     27\u001b[0m \u001b[0;31m# Get best parameters\u001b[0m\u001b[0;34m\u001b[0m\u001b[0;34m\u001b[0m\u001b[0m\n",
            "\u001b[0;32m/usr/local/lib/python3.10/dist-packages/sklearn/base.py\u001b[0m in \u001b[0;36mwrapper\u001b[0;34m(estimator, *args, **kwargs)\u001b[0m\n\u001b[1;32m   1471\u001b[0m                 )\n\u001b[1;32m   1472\u001b[0m             ):\n\u001b[0;32m-> 1473\u001b[0;31m                 \u001b[0;32mreturn\u001b[0m \u001b[0mfit_method\u001b[0m\u001b[0;34m(\u001b[0m\u001b[0mestimator\u001b[0m\u001b[0;34m,\u001b[0m \u001b[0;34m*\u001b[0m\u001b[0margs\u001b[0m\u001b[0;34m,\u001b[0m \u001b[0;34m**\u001b[0m\u001b[0mkwargs\u001b[0m\u001b[0;34m)\u001b[0m\u001b[0;34m\u001b[0m\u001b[0;34m\u001b[0m\u001b[0m\n\u001b[0m\u001b[1;32m   1474\u001b[0m \u001b[0;34m\u001b[0m\u001b[0m\n\u001b[1;32m   1475\u001b[0m         \u001b[0;32mreturn\u001b[0m \u001b[0mwrapper\u001b[0m\u001b[0;34m\u001b[0m\u001b[0;34m\u001b[0m\u001b[0m\n",
            "\u001b[0;32m/usr/local/lib/python3.10/dist-packages/sklearn/model_selection/_search.py\u001b[0m in \u001b[0;36mfit\u001b[0;34m(self, X, y, **params)\u001b[0m\n\u001b[1;32m   1017\u001b[0m                 \u001b[0;32mreturn\u001b[0m \u001b[0mresults\u001b[0m\u001b[0;34m\u001b[0m\u001b[0;34m\u001b[0m\u001b[0m\n\u001b[1;32m   1018\u001b[0m \u001b[0;34m\u001b[0m\u001b[0m\n\u001b[0;32m-> 1019\u001b[0;31m             \u001b[0mself\u001b[0m\u001b[0;34m.\u001b[0m\u001b[0m_run_search\u001b[0m\u001b[0;34m(\u001b[0m\u001b[0mevaluate_candidates\u001b[0m\u001b[0;34m)\u001b[0m\u001b[0;34m\u001b[0m\u001b[0;34m\u001b[0m\u001b[0m\n\u001b[0m\u001b[1;32m   1020\u001b[0m \u001b[0;34m\u001b[0m\u001b[0m\n\u001b[1;32m   1021\u001b[0m             \u001b[0;31m# multimetric is determined here because in the case of a callable\u001b[0m\u001b[0;34m\u001b[0m\u001b[0;34m\u001b[0m\u001b[0m\n",
            "\u001b[0;32m/usr/local/lib/python3.10/dist-packages/sklearn/model_selection/_search.py\u001b[0m in \u001b[0;36m_run_search\u001b[0;34m(self, evaluate_candidates)\u001b[0m\n\u001b[1;32m   1571\u001b[0m     \u001b[0;32mdef\u001b[0m \u001b[0m_run_search\u001b[0m\u001b[0;34m(\u001b[0m\u001b[0mself\u001b[0m\u001b[0;34m,\u001b[0m \u001b[0mevaluate_candidates\u001b[0m\u001b[0;34m)\u001b[0m\u001b[0;34m:\u001b[0m\u001b[0;34m\u001b[0m\u001b[0;34m\u001b[0m\u001b[0m\n\u001b[1;32m   1572\u001b[0m         \u001b[0;34m\"\"\"Search all candidates in param_grid\"\"\"\u001b[0m\u001b[0;34m\u001b[0m\u001b[0;34m\u001b[0m\u001b[0m\n\u001b[0;32m-> 1573\u001b[0;31m         \u001b[0mevaluate_candidates\u001b[0m\u001b[0;34m(\u001b[0m\u001b[0mParameterGrid\u001b[0m\u001b[0;34m(\u001b[0m\u001b[0mself\u001b[0m\u001b[0;34m.\u001b[0m\u001b[0mparam_grid\u001b[0m\u001b[0;34m)\u001b[0m\u001b[0;34m)\u001b[0m\u001b[0;34m\u001b[0m\u001b[0;34m\u001b[0m\u001b[0m\n\u001b[0m\u001b[1;32m   1574\u001b[0m \u001b[0;34m\u001b[0m\u001b[0m\n\u001b[1;32m   1575\u001b[0m \u001b[0;34m\u001b[0m\u001b[0m\n",
            "\u001b[0;32m/usr/local/lib/python3.10/dist-packages/sklearn/model_selection/_search.py\u001b[0m in \u001b[0;36mevaluate_candidates\u001b[0;34m(candidate_params, cv, more_results)\u001b[0m\n\u001b[1;32m    963\u001b[0m                     )\n\u001b[1;32m    964\u001b[0m \u001b[0;34m\u001b[0m\u001b[0m\n\u001b[0;32m--> 965\u001b[0;31m                 out = parallel(\n\u001b[0m\u001b[1;32m    966\u001b[0m                     delayed(_fit_and_score)(\n\u001b[1;32m    967\u001b[0m                         \u001b[0mclone\u001b[0m\u001b[0;34m(\u001b[0m\u001b[0mbase_estimator\u001b[0m\u001b[0;34m)\u001b[0m\u001b[0;34m,\u001b[0m\u001b[0;34m\u001b[0m\u001b[0;34m\u001b[0m\u001b[0m\n",
            "\u001b[0;32m/usr/local/lib/python3.10/dist-packages/sklearn/utils/parallel.py\u001b[0m in \u001b[0;36m__call__\u001b[0;34m(self, iterable)\u001b[0m\n\u001b[1;32m     72\u001b[0m             \u001b[0;32mfor\u001b[0m \u001b[0mdelayed_func\u001b[0m\u001b[0;34m,\u001b[0m \u001b[0margs\u001b[0m\u001b[0;34m,\u001b[0m \u001b[0mkwargs\u001b[0m \u001b[0;32min\u001b[0m \u001b[0miterable\u001b[0m\u001b[0;34m\u001b[0m\u001b[0;34m\u001b[0m\u001b[0m\n\u001b[1;32m     73\u001b[0m         )\n\u001b[0;32m---> 74\u001b[0;31m         \u001b[0;32mreturn\u001b[0m \u001b[0msuper\u001b[0m\u001b[0;34m(\u001b[0m\u001b[0;34m)\u001b[0m\u001b[0;34m.\u001b[0m\u001b[0m__call__\u001b[0m\u001b[0;34m(\u001b[0m\u001b[0miterable_with_config\u001b[0m\u001b[0;34m)\u001b[0m\u001b[0;34m\u001b[0m\u001b[0;34m\u001b[0m\u001b[0m\n\u001b[0m\u001b[1;32m     75\u001b[0m \u001b[0;34m\u001b[0m\u001b[0m\n\u001b[1;32m     76\u001b[0m \u001b[0;34m\u001b[0m\u001b[0m\n",
            "\u001b[0;32m/usr/local/lib/python3.10/dist-packages/joblib/parallel.py\u001b[0m in \u001b[0;36m__call__\u001b[0;34m(self, iterable)\u001b[0m\n\u001b[1;32m   2005\u001b[0m         \u001b[0mnext\u001b[0m\u001b[0;34m(\u001b[0m\u001b[0moutput\u001b[0m\u001b[0;34m)\u001b[0m\u001b[0;34m\u001b[0m\u001b[0;34m\u001b[0m\u001b[0m\n\u001b[1;32m   2006\u001b[0m \u001b[0;34m\u001b[0m\u001b[0m\n\u001b[0;32m-> 2007\u001b[0;31m         \u001b[0;32mreturn\u001b[0m \u001b[0moutput\u001b[0m \u001b[0;32mif\u001b[0m \u001b[0mself\u001b[0m\u001b[0;34m.\u001b[0m\u001b[0mreturn_generator\u001b[0m \u001b[0;32melse\u001b[0m \u001b[0mlist\u001b[0m\u001b[0;34m(\u001b[0m\u001b[0moutput\u001b[0m\u001b[0;34m)\u001b[0m\u001b[0;34m\u001b[0m\u001b[0;34m\u001b[0m\u001b[0m\n\u001b[0m\u001b[1;32m   2008\u001b[0m \u001b[0;34m\u001b[0m\u001b[0m\n\u001b[1;32m   2009\u001b[0m     \u001b[0;32mdef\u001b[0m \u001b[0m__repr__\u001b[0m\u001b[0;34m(\u001b[0m\u001b[0mself\u001b[0m\u001b[0;34m)\u001b[0m\u001b[0;34m:\u001b[0m\u001b[0;34m\u001b[0m\u001b[0;34m\u001b[0m\u001b[0m\n",
            "\u001b[0;32m/usr/local/lib/python3.10/dist-packages/joblib/parallel.py\u001b[0m in \u001b[0;36m_get_outputs\u001b[0;34m(self, iterator, pre_dispatch)\u001b[0m\n\u001b[1;32m   1648\u001b[0m \u001b[0;34m\u001b[0m\u001b[0m\n\u001b[1;32m   1649\u001b[0m             \u001b[0;32mwith\u001b[0m \u001b[0mself\u001b[0m\u001b[0;34m.\u001b[0m\u001b[0m_backend\u001b[0m\u001b[0;34m.\u001b[0m\u001b[0mretrieval_context\u001b[0m\u001b[0;34m(\u001b[0m\u001b[0;34m)\u001b[0m\u001b[0;34m:\u001b[0m\u001b[0;34m\u001b[0m\u001b[0;34m\u001b[0m\u001b[0m\n\u001b[0;32m-> 1650\u001b[0;31m                 \u001b[0;32myield\u001b[0m \u001b[0;32mfrom\u001b[0m \u001b[0mself\u001b[0m\u001b[0;34m.\u001b[0m\u001b[0m_retrieve\u001b[0m\u001b[0;34m(\u001b[0m\u001b[0;34m)\u001b[0m\u001b[0;34m\u001b[0m\u001b[0;34m\u001b[0m\u001b[0m\n\u001b[0m\u001b[1;32m   1651\u001b[0m \u001b[0;34m\u001b[0m\u001b[0m\n\u001b[1;32m   1652\u001b[0m         \u001b[0;32mexcept\u001b[0m \u001b[0mGeneratorExit\u001b[0m\u001b[0;34m:\u001b[0m\u001b[0;34m\u001b[0m\u001b[0;34m\u001b[0m\u001b[0m\n",
            "\u001b[0;32m/usr/local/lib/python3.10/dist-packages/joblib/parallel.py\u001b[0m in \u001b[0;36m_retrieve\u001b[0;34m(self)\u001b[0m\n\u001b[1;32m   1760\u001b[0m                 (self._jobs[0].get_status(\n\u001b[1;32m   1761\u001b[0m                     timeout=self.timeout) == TASK_PENDING)):\n\u001b[0;32m-> 1762\u001b[0;31m                 \u001b[0mtime\u001b[0m\u001b[0;34m.\u001b[0m\u001b[0msleep\u001b[0m\u001b[0;34m(\u001b[0m\u001b[0;36m0.01\u001b[0m\u001b[0;34m)\u001b[0m\u001b[0;34m\u001b[0m\u001b[0;34m\u001b[0m\u001b[0m\n\u001b[0m\u001b[1;32m   1763\u001b[0m                 \u001b[0;32mcontinue\u001b[0m\u001b[0;34m\u001b[0m\u001b[0;34m\u001b[0m\u001b[0m\n\u001b[1;32m   1764\u001b[0m \u001b[0;34m\u001b[0m\u001b[0m\n",
            "\u001b[0;31mKeyboardInterrupt\u001b[0m: "
          ]
        }
      ],
      "execution_count": null
    },
    {
      "cell_type": "code",
      "source": [
        "import numpy as np\n",
        "from sklearn.ensemble import RandomForestClassifier\n",
        "from sklearn.model_selection import GridSearchCV, train_test_split\n",
        "from sklearn.metrics import accuracy_score, classification_report, f1_score\n",
        "\n",
        "best_rf = RandomForestClassifier(random_state=42, bootstrap=True, criterion='gini', max_depth=11, min_samples_leaf=2, min_samples_split=6, n_estimators=150)\n",
        "best_rf.fit(x_train, y_train)"
      ],
      "metadata": {
        "trusted": true,
        "execution": {
          "iopub.status.busy": "2024-12-18T12:38:33.366438Z",
          "iopub.execute_input": "2024-12-18T12:38:33.367461Z",
          "iopub.status.idle": "2024-12-18T12:38:37.951269Z",
          "shell.execute_reply.started": "2024-12-18T12:38:33.3674Z",
          "shell.execute_reply": "2024-12-18T12:38:37.949883Z"
        },
        "id": "XMfZaOmaWimG",
        "outputId": "8e5f45f5-ca6b-4319-a26e-67d314db7819",
        "colab": {
          "base_uri": "https://localhost:8080/",
          "height": 98
        }
      },
      "outputs": [
        {
          "output_type": "execute_result",
          "data": {
            "text/plain": [
              "RandomForestClassifier(max_depth=11, min_samples_leaf=2, min_samples_split=6,\n",
              "                       n_estimators=150, random_state=42)"
            ],
            "text/html": [
              "<style>#sk-container-id-1 {\n",
              "  /* Definition of color scheme common for light and dark mode */\n",
              "  --sklearn-color-text: black;\n",
              "  --sklearn-color-line: gray;\n",
              "  /* Definition of color scheme for unfitted estimators */\n",
              "  --sklearn-color-unfitted-level-0: #fff5e6;\n",
              "  --sklearn-color-unfitted-level-1: #f6e4d2;\n",
              "  --sklearn-color-unfitted-level-2: #ffe0b3;\n",
              "  --sklearn-color-unfitted-level-3: chocolate;\n",
              "  /* Definition of color scheme for fitted estimators */\n",
              "  --sklearn-color-fitted-level-0: #f0f8ff;\n",
              "  --sklearn-color-fitted-level-1: #d4ebff;\n",
              "  --sklearn-color-fitted-level-2: #b3dbfd;\n",
              "  --sklearn-color-fitted-level-3: cornflowerblue;\n",
              "\n",
              "  /* Specific color for light theme */\n",
              "  --sklearn-color-text-on-default-background: var(--sg-text-color, var(--theme-code-foreground, var(--jp-content-font-color1, black)));\n",
              "  --sklearn-color-background: var(--sg-background-color, var(--theme-background, var(--jp-layout-color0, white)));\n",
              "  --sklearn-color-border-box: var(--sg-text-color, var(--theme-code-foreground, var(--jp-content-font-color1, black)));\n",
              "  --sklearn-color-icon: #696969;\n",
              "\n",
              "  @media (prefers-color-scheme: dark) {\n",
              "    /* Redefinition of color scheme for dark theme */\n",
              "    --sklearn-color-text-on-default-background: var(--sg-text-color, var(--theme-code-foreground, var(--jp-content-font-color1, white)));\n",
              "    --sklearn-color-background: var(--sg-background-color, var(--theme-background, var(--jp-layout-color0, #111)));\n",
              "    --sklearn-color-border-box: var(--sg-text-color, var(--theme-code-foreground, var(--jp-content-font-color1, white)));\n",
              "    --sklearn-color-icon: #878787;\n",
              "  }\n",
              "}\n",
              "\n",
              "#sk-container-id-1 {\n",
              "  color: var(--sklearn-color-text);\n",
              "}\n",
              "\n",
              "#sk-container-id-1 pre {\n",
              "  padding: 0;\n",
              "}\n",
              "\n",
              "#sk-container-id-1 input.sk-hidden--visually {\n",
              "  border: 0;\n",
              "  clip: rect(1px 1px 1px 1px);\n",
              "  clip: rect(1px, 1px, 1px, 1px);\n",
              "  height: 1px;\n",
              "  margin: -1px;\n",
              "  overflow: hidden;\n",
              "  padding: 0;\n",
              "  position: absolute;\n",
              "  width: 1px;\n",
              "}\n",
              "\n",
              "#sk-container-id-1 div.sk-dashed-wrapped {\n",
              "  border: 1px dashed var(--sklearn-color-line);\n",
              "  margin: 0 0.4em 0.5em 0.4em;\n",
              "  box-sizing: border-box;\n",
              "  padding-bottom: 0.4em;\n",
              "  background-color: var(--sklearn-color-background);\n",
              "}\n",
              "\n",
              "#sk-container-id-1 div.sk-container {\n",
              "  /* jupyter's `normalize.less` sets `[hidden] { display: none; }`\n",
              "     but bootstrap.min.css set `[hidden] { display: none !important; }`\n",
              "     so we also need the `!important` here to be able to override the\n",
              "     default hidden behavior on the sphinx rendered scikit-learn.org.\n",
              "     See: https://github.com/scikit-learn/scikit-learn/issues/21755 */\n",
              "  display: inline-block !important;\n",
              "  position: relative;\n",
              "}\n",
              "\n",
              "#sk-container-id-1 div.sk-text-repr-fallback {\n",
              "  display: none;\n",
              "}\n",
              "\n",
              "div.sk-parallel-item,\n",
              "div.sk-serial,\n",
              "div.sk-item {\n",
              "  /* draw centered vertical line to link estimators */\n",
              "  background-image: linear-gradient(var(--sklearn-color-text-on-default-background), var(--sklearn-color-text-on-default-background));\n",
              "  background-size: 2px 100%;\n",
              "  background-repeat: no-repeat;\n",
              "  background-position: center center;\n",
              "}\n",
              "\n",
              "/* Parallel-specific style estimator block */\n",
              "\n",
              "#sk-container-id-1 div.sk-parallel-item::after {\n",
              "  content: \"\";\n",
              "  width: 100%;\n",
              "  border-bottom: 2px solid var(--sklearn-color-text-on-default-background);\n",
              "  flex-grow: 1;\n",
              "}\n",
              "\n",
              "#sk-container-id-1 div.sk-parallel {\n",
              "  display: flex;\n",
              "  align-items: stretch;\n",
              "  justify-content: center;\n",
              "  background-color: var(--sklearn-color-background);\n",
              "  position: relative;\n",
              "}\n",
              "\n",
              "#sk-container-id-1 div.sk-parallel-item {\n",
              "  display: flex;\n",
              "  flex-direction: column;\n",
              "}\n",
              "\n",
              "#sk-container-id-1 div.sk-parallel-item:first-child::after {\n",
              "  align-self: flex-end;\n",
              "  width: 50%;\n",
              "}\n",
              "\n",
              "#sk-container-id-1 div.sk-parallel-item:last-child::after {\n",
              "  align-self: flex-start;\n",
              "  width: 50%;\n",
              "}\n",
              "\n",
              "#sk-container-id-1 div.sk-parallel-item:only-child::after {\n",
              "  width: 0;\n",
              "}\n",
              "\n",
              "/* Serial-specific style estimator block */\n",
              "\n",
              "#sk-container-id-1 div.sk-serial {\n",
              "  display: flex;\n",
              "  flex-direction: column;\n",
              "  align-items: center;\n",
              "  background-color: var(--sklearn-color-background);\n",
              "  padding-right: 1em;\n",
              "  padding-left: 1em;\n",
              "}\n",
              "\n",
              "\n",
              "/* Toggleable style: style used for estimator/Pipeline/ColumnTransformer box that is\n",
              "clickable and can be expanded/collapsed.\n",
              "- Pipeline and ColumnTransformer use this feature and define the default style\n",
              "- Estimators will overwrite some part of the style using the `sk-estimator` class\n",
              "*/\n",
              "\n",
              "/* Pipeline and ColumnTransformer style (default) */\n",
              "\n",
              "#sk-container-id-1 div.sk-toggleable {\n",
              "  /* Default theme specific background. It is overwritten whether we have a\n",
              "  specific estimator or a Pipeline/ColumnTransformer */\n",
              "  background-color: var(--sklearn-color-background);\n",
              "}\n",
              "\n",
              "/* Toggleable label */\n",
              "#sk-container-id-1 label.sk-toggleable__label {\n",
              "  cursor: pointer;\n",
              "  display: block;\n",
              "  width: 100%;\n",
              "  margin-bottom: 0;\n",
              "  padding: 0.5em;\n",
              "  box-sizing: border-box;\n",
              "  text-align: center;\n",
              "}\n",
              "\n",
              "#sk-container-id-1 label.sk-toggleable__label-arrow:before {\n",
              "  /* Arrow on the left of the label */\n",
              "  content: \"▸\";\n",
              "  float: left;\n",
              "  margin-right: 0.25em;\n",
              "  color: var(--sklearn-color-icon);\n",
              "}\n",
              "\n",
              "#sk-container-id-1 label.sk-toggleable__label-arrow:hover:before {\n",
              "  color: var(--sklearn-color-text);\n",
              "}\n",
              "\n",
              "/* Toggleable content - dropdown */\n",
              "\n",
              "#sk-container-id-1 div.sk-toggleable__content {\n",
              "  max-height: 0;\n",
              "  max-width: 0;\n",
              "  overflow: hidden;\n",
              "  text-align: left;\n",
              "  /* unfitted */\n",
              "  background-color: var(--sklearn-color-unfitted-level-0);\n",
              "}\n",
              "\n",
              "#sk-container-id-1 div.sk-toggleable__content.fitted {\n",
              "  /* fitted */\n",
              "  background-color: var(--sklearn-color-fitted-level-0);\n",
              "}\n",
              "\n",
              "#sk-container-id-1 div.sk-toggleable__content pre {\n",
              "  margin: 0.2em;\n",
              "  border-radius: 0.25em;\n",
              "  color: var(--sklearn-color-text);\n",
              "  /* unfitted */\n",
              "  background-color: var(--sklearn-color-unfitted-level-0);\n",
              "}\n",
              "\n",
              "#sk-container-id-1 div.sk-toggleable__content.fitted pre {\n",
              "  /* unfitted */\n",
              "  background-color: var(--sklearn-color-fitted-level-0);\n",
              "}\n",
              "\n",
              "#sk-container-id-1 input.sk-toggleable__control:checked~div.sk-toggleable__content {\n",
              "  /* Expand drop-down */\n",
              "  max-height: 200px;\n",
              "  max-width: 100%;\n",
              "  overflow: auto;\n",
              "}\n",
              "\n",
              "#sk-container-id-1 input.sk-toggleable__control:checked~label.sk-toggleable__label-arrow:before {\n",
              "  content: \"▾\";\n",
              "}\n",
              "\n",
              "/* Pipeline/ColumnTransformer-specific style */\n",
              "\n",
              "#sk-container-id-1 div.sk-label input.sk-toggleable__control:checked~label.sk-toggleable__label {\n",
              "  color: var(--sklearn-color-text);\n",
              "  background-color: var(--sklearn-color-unfitted-level-2);\n",
              "}\n",
              "\n",
              "#sk-container-id-1 div.sk-label.fitted input.sk-toggleable__control:checked~label.sk-toggleable__label {\n",
              "  background-color: var(--sklearn-color-fitted-level-2);\n",
              "}\n",
              "\n",
              "/* Estimator-specific style */\n",
              "\n",
              "/* Colorize estimator box */\n",
              "#sk-container-id-1 div.sk-estimator input.sk-toggleable__control:checked~label.sk-toggleable__label {\n",
              "  /* unfitted */\n",
              "  background-color: var(--sklearn-color-unfitted-level-2);\n",
              "}\n",
              "\n",
              "#sk-container-id-1 div.sk-estimator.fitted input.sk-toggleable__control:checked~label.sk-toggleable__label {\n",
              "  /* fitted */\n",
              "  background-color: var(--sklearn-color-fitted-level-2);\n",
              "}\n",
              "\n",
              "#sk-container-id-1 div.sk-label label.sk-toggleable__label,\n",
              "#sk-container-id-1 div.sk-label label {\n",
              "  /* The background is the default theme color */\n",
              "  color: var(--sklearn-color-text-on-default-background);\n",
              "}\n",
              "\n",
              "/* On hover, darken the color of the background */\n",
              "#sk-container-id-1 div.sk-label:hover label.sk-toggleable__label {\n",
              "  color: var(--sklearn-color-text);\n",
              "  background-color: var(--sklearn-color-unfitted-level-2);\n",
              "}\n",
              "\n",
              "/* Label box, darken color on hover, fitted */\n",
              "#sk-container-id-1 div.sk-label.fitted:hover label.sk-toggleable__label.fitted {\n",
              "  color: var(--sklearn-color-text);\n",
              "  background-color: var(--sklearn-color-fitted-level-2);\n",
              "}\n",
              "\n",
              "/* Estimator label */\n",
              "\n",
              "#sk-container-id-1 div.sk-label label {\n",
              "  font-family: monospace;\n",
              "  font-weight: bold;\n",
              "  display: inline-block;\n",
              "  line-height: 1.2em;\n",
              "}\n",
              "\n",
              "#sk-container-id-1 div.sk-label-container {\n",
              "  text-align: center;\n",
              "}\n",
              "\n",
              "/* Estimator-specific */\n",
              "#sk-container-id-1 div.sk-estimator {\n",
              "  font-family: monospace;\n",
              "  border: 1px dotted var(--sklearn-color-border-box);\n",
              "  border-radius: 0.25em;\n",
              "  box-sizing: border-box;\n",
              "  margin-bottom: 0.5em;\n",
              "  /* unfitted */\n",
              "  background-color: var(--sklearn-color-unfitted-level-0);\n",
              "}\n",
              "\n",
              "#sk-container-id-1 div.sk-estimator.fitted {\n",
              "  /* fitted */\n",
              "  background-color: var(--sklearn-color-fitted-level-0);\n",
              "}\n",
              "\n",
              "/* on hover */\n",
              "#sk-container-id-1 div.sk-estimator:hover {\n",
              "  /* unfitted */\n",
              "  background-color: var(--sklearn-color-unfitted-level-2);\n",
              "}\n",
              "\n",
              "#sk-container-id-1 div.sk-estimator.fitted:hover {\n",
              "  /* fitted */\n",
              "  background-color: var(--sklearn-color-fitted-level-2);\n",
              "}\n",
              "\n",
              "/* Specification for estimator info (e.g. \"i\" and \"?\") */\n",
              "\n",
              "/* Common style for \"i\" and \"?\" */\n",
              "\n",
              ".sk-estimator-doc-link,\n",
              "a:link.sk-estimator-doc-link,\n",
              "a:visited.sk-estimator-doc-link {\n",
              "  float: right;\n",
              "  font-size: smaller;\n",
              "  line-height: 1em;\n",
              "  font-family: monospace;\n",
              "  background-color: var(--sklearn-color-background);\n",
              "  border-radius: 1em;\n",
              "  height: 1em;\n",
              "  width: 1em;\n",
              "  text-decoration: none !important;\n",
              "  margin-left: 1ex;\n",
              "  /* unfitted */\n",
              "  border: var(--sklearn-color-unfitted-level-1) 1pt solid;\n",
              "  color: var(--sklearn-color-unfitted-level-1);\n",
              "}\n",
              "\n",
              ".sk-estimator-doc-link.fitted,\n",
              "a:link.sk-estimator-doc-link.fitted,\n",
              "a:visited.sk-estimator-doc-link.fitted {\n",
              "  /* fitted */\n",
              "  border: var(--sklearn-color-fitted-level-1) 1pt solid;\n",
              "  color: var(--sklearn-color-fitted-level-1);\n",
              "}\n",
              "\n",
              "/* On hover */\n",
              "div.sk-estimator:hover .sk-estimator-doc-link:hover,\n",
              ".sk-estimator-doc-link:hover,\n",
              "div.sk-label-container:hover .sk-estimator-doc-link:hover,\n",
              ".sk-estimator-doc-link:hover {\n",
              "  /* unfitted */\n",
              "  background-color: var(--sklearn-color-unfitted-level-3);\n",
              "  color: var(--sklearn-color-background);\n",
              "  text-decoration: none;\n",
              "}\n",
              "\n",
              "div.sk-estimator.fitted:hover .sk-estimator-doc-link.fitted:hover,\n",
              ".sk-estimator-doc-link.fitted:hover,\n",
              "div.sk-label-container:hover .sk-estimator-doc-link.fitted:hover,\n",
              ".sk-estimator-doc-link.fitted:hover {\n",
              "  /* fitted */\n",
              "  background-color: var(--sklearn-color-fitted-level-3);\n",
              "  color: var(--sklearn-color-background);\n",
              "  text-decoration: none;\n",
              "}\n",
              "\n",
              "/* Span, style for the box shown on hovering the info icon */\n",
              ".sk-estimator-doc-link span {\n",
              "  display: none;\n",
              "  z-index: 9999;\n",
              "  position: relative;\n",
              "  font-weight: normal;\n",
              "  right: .2ex;\n",
              "  padding: .5ex;\n",
              "  margin: .5ex;\n",
              "  width: min-content;\n",
              "  min-width: 20ex;\n",
              "  max-width: 50ex;\n",
              "  color: var(--sklearn-color-text);\n",
              "  box-shadow: 2pt 2pt 4pt #999;\n",
              "  /* unfitted */\n",
              "  background: var(--sklearn-color-unfitted-level-0);\n",
              "  border: .5pt solid var(--sklearn-color-unfitted-level-3);\n",
              "}\n",
              "\n",
              ".sk-estimator-doc-link.fitted span {\n",
              "  /* fitted */\n",
              "  background: var(--sklearn-color-fitted-level-0);\n",
              "  border: var(--sklearn-color-fitted-level-3);\n",
              "}\n",
              "\n",
              ".sk-estimator-doc-link:hover span {\n",
              "  display: block;\n",
              "}\n",
              "\n",
              "/* \"?\"-specific style due to the `<a>` HTML tag */\n",
              "\n",
              "#sk-container-id-1 a.estimator_doc_link {\n",
              "  float: right;\n",
              "  font-size: 1rem;\n",
              "  line-height: 1em;\n",
              "  font-family: monospace;\n",
              "  background-color: var(--sklearn-color-background);\n",
              "  border-radius: 1rem;\n",
              "  height: 1rem;\n",
              "  width: 1rem;\n",
              "  text-decoration: none;\n",
              "  /* unfitted */\n",
              "  color: var(--sklearn-color-unfitted-level-1);\n",
              "  border: var(--sklearn-color-unfitted-level-1) 1pt solid;\n",
              "}\n",
              "\n",
              "#sk-container-id-1 a.estimator_doc_link.fitted {\n",
              "  /* fitted */\n",
              "  border: var(--sklearn-color-fitted-level-1) 1pt solid;\n",
              "  color: var(--sklearn-color-fitted-level-1);\n",
              "}\n",
              "\n",
              "/* On hover */\n",
              "#sk-container-id-1 a.estimator_doc_link:hover {\n",
              "  /* unfitted */\n",
              "  background-color: var(--sklearn-color-unfitted-level-3);\n",
              "  color: var(--sklearn-color-background);\n",
              "  text-decoration: none;\n",
              "}\n",
              "\n",
              "#sk-container-id-1 a.estimator_doc_link.fitted:hover {\n",
              "  /* fitted */\n",
              "  background-color: var(--sklearn-color-fitted-level-3);\n",
              "}\n",
              "</style><div id=\"sk-container-id-1\" class=\"sk-top-container\"><div class=\"sk-text-repr-fallback\"><pre>RandomForestClassifier(max_depth=11, min_samples_leaf=2, min_samples_split=6,\n",
              "                       n_estimators=150, random_state=42)</pre><b>In a Jupyter environment, please rerun this cell to show the HTML representation or trust the notebook. <br />On GitHub, the HTML representation is unable to render, please try loading this page with nbviewer.org.</b></div><div class=\"sk-container\" hidden><div class=\"sk-item\"><div class=\"sk-estimator fitted sk-toggleable\"><input class=\"sk-toggleable__control sk-hidden--visually\" id=\"sk-estimator-id-1\" type=\"checkbox\" checked><label for=\"sk-estimator-id-1\" class=\"sk-toggleable__label fitted sk-toggleable__label-arrow fitted\">&nbsp;&nbsp;RandomForestClassifier<a class=\"sk-estimator-doc-link fitted\" rel=\"noreferrer\" target=\"_blank\" href=\"https://scikit-learn.org/1.5/modules/generated/sklearn.ensemble.RandomForestClassifier.html\">?<span>Documentation for RandomForestClassifier</span></a><span class=\"sk-estimator-doc-link fitted\">i<span>Fitted</span></span></label><div class=\"sk-toggleable__content fitted\"><pre>RandomForestClassifier(max_depth=11, min_samples_leaf=2, min_samples_split=6,\n",
              "                       n_estimators=150, random_state=42)</pre></div> </div></div></div></div>"
            ]
          },
          "metadata": {},
          "execution_count": 12
        }
      ],
      "execution_count": null
    },
    {
      "cell_type": "code",
      "source": [
        "models = {\n",
        "    \"RandomForest\": best_rf,\n",
        "    # \"WeightedGaussianNB\": best_wgnb,\n",
        "    # \"TransformedGaussianNB\": best_tgnb,\n",
        "    # # \"MultinomialNB\": best_mnb,\n",
        "    # \"BernoulliNB\": best_bnb\n",
        "}\n",
        "\n",
        "results = {}\n",
        "\n",
        "for model_name, model in models.items():\n",
        "    #model.fit(x_train, y_train)\n",
        "    y_pred = model.predict(x_val)\n",
        "\n",
        "    accuracy = accuracy_score(y_val, y_pred)\n",
        "    f1 = f1_score(y_val, y_pred, average='macro')\n",
        "\n",
        "    results[model_name] = {\n",
        "        \"model\": model,\n",
        "        \"accuracy\": accuracy,\n",
        "        \"f1_score\": f1,\n",
        "        \"classification_report\": classification_report(y_val, y_pred, output_dict=True)\n",
        "    }\n",
        "    print(f\"Model: {model_name}\")\n",
        "    print(f\"Accuracy: {accuracy:.4f}, F1 Score: {f1:.4f}\")\n",
        "    print(f\"Classification Report:\\n{classification_report(y_val, y_pred)}\\n\")\n",
        "\n"
      ],
      "metadata": {
        "id": "T7Wb_Fjwpbgk",
        "outputId": "5bfc6079-bf3b-473f-96c1-d256b41e7fcf",
        "trusted": true,
        "execution": {
          "iopub.status.busy": "2024-12-18T12:39:20.152623Z",
          "iopub.execute_input": "2024-12-18T12:39:20.153032Z",
          "iopub.status.idle": "2024-12-18T12:39:20.634518Z",
          "shell.execute_reply.started": "2024-12-18T12:39:20.152998Z",
          "shell.execute_reply": "2024-12-18T12:39:20.633296Z"
        },
        "colab": {
          "base_uri": "https://localhost:8080/"
        }
      },
      "outputs": [
        {
          "output_type": "stream",
          "name": "stdout",
          "text": [
            "Model: RandomForest\n",
            "Accuracy: 0.7444, F1 Score: 0.7433\n",
            "Classification Report:\n",
            "              precision    recall  f1-score   support\n",
            "\n",
            "         0.0       0.77      0.69      0.73      6792\n",
            "         1.0       0.73      0.80      0.76      7019\n",
            "\n",
            "    accuracy                           0.74     13811\n",
            "   macro avg       0.75      0.74      0.74     13811\n",
            "weighted avg       0.75      0.74      0.74     13811\n",
            "\n",
            "\n"
          ]
        }
      ],
      "execution_count": null
    },
    {
      "cell_type": "code",
      "source": [],
      "metadata": {
        "trusted": true,
        "id": "WKrsiOKiWimG"
      },
      "outputs": [],
      "execution_count": null
    },
    {
      "cell_type": "code",
      "source": [
        "from sklearn.inspection import permutation_importance\n",
        "\n",
        "best_model_name = max(results, key=lambda m: results[m][\"f1_score\"])\n",
        "best_model = results[best_model_name][\"model\"]\n",
        "print(f\"\\nBest Model: {best_model_name}\")\n",
        "\n",
        "result = permutation_importance(best_model, x_val, y_val, n_repeats=50, random_state=42, scoring='f1_macro', n_jobs=-1)\n",
        "\n",
        "sorted_idx = result.importances_mean.argsort()\n",
        "feature_importances = result.importances_mean\n",
        "features_w = features.drop(columns=['Diabetes_binary'], axis=1).columns\n",
        "\n",
        "importance_df  = pd.DataFrame({\n",
        "    'Feature': features_w,\n",
        "    'Importance': feature_importances\n",
        "}).sort_values(by='Importance', ascending=False)\n",
        "# Hiển thị kết quả\n",
        "for i in result.importances_mean.argsort()[::-1]:\n",
        "    print(f\"Đặc trưng {features.columns[i+1]}: {result.importances_mean[i]:.4f} +-  {result.importances_std[i]:.4f}\")\n"
      ],
      "metadata": {
        "id": "YRbLPNPsrCcC",
        "outputId": "1440cfea-1c9c-4b18-fdec-b8f800f4276f",
        "trusted": true,
        "execution": {
          "iopub.status.busy": "2024-12-18T12:39:29.413702Z",
          "iopub.execute_input": "2024-12-18T12:39:29.414078Z",
          "iopub.status.idle": "2024-12-18T12:41:59.71512Z",
          "shell.execute_reply.started": "2024-12-18T12:39:29.414044Z",
          "shell.execute_reply": "2024-12-18T12:41:59.713929Z"
        },
        "colab": {
          "base_uri": "https://localhost:8080/"
        }
      },
      "outputs": [
        {
          "output_type": "stream",
          "name": "stdout",
          "text": [
            "\n",
            "Best Model: RandomForest\n",
            "Đặc trưng GenHlth: 0.0332 +-  0.0025\n",
            "Đặc trưng BMI: 0.0225 +-  0.0021\n",
            "Đặc trưng HighBP: 0.0177 +-  0.0022\n",
            "Đặc trưng Age: 0.0160 +-  0.0018\n",
            "Đặc trưng HighChol: 0.0061 +-  0.0012\n",
            "Đặc trưng HeartDiseaseorAttack: 0.0028 +-  0.0010\n",
            "Đặc trưng DiffWalk: 0.0026 +-  0.0009\n",
            "Đặc trưng CholCheck: 0.0019 +-  0.0005\n",
            "Đặc trưng HvyAlcoholConsump: 0.0013 +-  0.0005\n",
            "Đặc trưng Income: 0.0010 +-  0.0010\n",
            "Đặc trưng PhysHlth: 0.0009 +-  0.0008\n",
            "Đặc trưng PhysActivity: 0.0008 +-  0.0006\n",
            "Đặc trưng Stroke: 0.0006 +-  0.0004\n",
            "Đặc trưng Fruits: 0.0005 +-  0.0004\n",
            "Đặc trưng Smoker: 0.0005 +-  0.0005\n",
            "Đặc trưng Education: 0.0004 +-  0.0007\n",
            "Đặc trưng MentHlth: 0.0003 +-  0.0006\n",
            "Đặc trưng AnyHealthcare: 0.0003 +-  0.0002\n",
            "Đặc trưng NoDocbcCost: 0.0000 +-  0.0003\n",
            "Đặc trưng Sex: 0.0000 +-  0.0007\n",
            "Đặc trưng Veggies: -0.0002 +-  0.0005\n"
          ]
        }
      ],
      "execution_count": null
    },
    {
      "cell_type": "code",
      "source": [
        "import matplotlib.pyplot as plt\n",
        "import numpy as np\n",
        "\n",
        "# Giả sử `result.importances_mean` là giá trị trung bình và `result.importances_std` là phương sai\n",
        "means = result.importances_mean[sorted_idx]\n",
        "stds = result.importances_std[sorted_idx]\n",
        "\n",
        "plt.figure(figsize=(10, 6))\n",
        "plt.barh(\n",
        "    range(len(sorted_idx)),\n",
        "    means,\n",
        "    xerr=stds,  # Thêm phương sai vào đây\n",
        "    align=\"center\",\n",
        "    alpha=1,  # Tùy chỉnh độ trong suốt\n",
        "    capsize=5  # Kích thước các đường gạch ngang của lỗi\n",
        ")\n",
        "plt.yticks(range(len(sorted_idx)), [features.columns[i+1] for i in sorted_idx])\n",
        "plt.xlabel(\"Tầm quan trọng của đặc trưng\")\n",
        "plt.title(\"Permutation Importance (Trung bình và Phương sai)\")\n",
        "plt.tight_layout()\n",
        "plt.savefig('importances2.png')\n",
        "plt.show()"
      ],
      "metadata": {
        "trusted": true,
        "execution": {
          "iopub.status.busy": "2024-12-18T12:42:09.334674Z",
          "iopub.execute_input": "2024-12-18T12:42:09.335093Z",
          "iopub.status.idle": "2024-12-18T12:42:10.124898Z",
          "shell.execute_reply.started": "2024-12-18T12:42:09.335054Z",
          "shell.execute_reply": "2024-12-18T12:42:10.123738Z"
        },
        "id": "w_mS0YwhWimG",
        "outputId": "38d9d878-e018-4e0a-9a55-c2199f827704",
        "colab": {
          "base_uri": "https://localhost:8080/",
          "height": 607
        }
      },
      "outputs": [
        {
          "output_type": "display_data",
          "data": {
            "text/plain": [
              "<Figure size 1000x600 with 1 Axes>"
            ],
            "image/png": "[encoded data removed]"
          },
          "metadata": {}
        }
      ],
      "execution_count": null
    },
    {
      "cell_type": "code",
      "source": [
        "low_importance_features = importance_df[importance_df['Importance'] <= 0]\n",
        "# Get the list of feature names\n",
        "low_importance_feature_names = low_importance_features.sort_values(by='Importance', ascending=True).head(3)['Feature'].tolist()\n",
        "print(low_importance_feature_names)\n"
      ],
      "metadata": {
        "id": "p71osm_iVVkK",
        "outputId": "b989365c-1457-4727-ae37-a776d1e6dd6d",
        "trusted": true,
        "execution": {
          "iopub.status.busy": "2024-12-18T12:42:16.570319Z",
          "iopub.execute_input": "2024-12-18T12:42:16.570753Z",
          "iopub.status.idle": "2024-12-18T12:42:16.578682Z",
          "shell.execute_reply.started": "2024-12-18T12:42:16.570717Z",
          "shell.execute_reply": "2024-12-18T12:42:16.577394Z"
        },
        "colab": {
          "base_uri": "https://localhost:8080/"
        }
      },
      "outputs": [
        {
          "output_type": "stream",
          "name": "stdout",
          "text": [
            "['Veggies']\n"
          ]
        }
      ],
      "execution_count": null
    },
    {
      "cell_type": "code",
      "source": [
        "x_train = pd.DataFrame(x_train, columns = features.drop(columns=['Diabetes_binary'], axis=1).columns)\n",
        "y_train = pd.DataFrame(y_train, columns = [\"Diabetes_binary\"])\n",
        "x_val = pd.DataFrame(x_val, columns = features.drop(columns=['Diabetes_binary'], axis=1).columns)\n",
        "y_val = pd.DataFrame(y_val, columns = [\"Diabetes_binary\"])\n",
        "x_test = pd.DataFrame(x_test, columns = features.drop(columns=['Diabetes_binary'], axis=1).columns)\n",
        "y_test = pd.DataFrame(y_test, columns = [\"Diabetes_binary\"])"
      ],
      "metadata": {
        "trusted": true,
        "execution": {
          "iopub.status.busy": "2024-12-18T12:42:24.836307Z",
          "iopub.execute_input": "2024-12-18T12:42:24.836734Z",
          "iopub.status.idle": "2024-12-18T12:42:24.857524Z",
          "shell.execute_reply.started": "2024-12-18T12:42:24.836697Z",
          "shell.execute_reply": "2024-12-18T12:42:24.856361Z"
        },
        "id": "VJpKXZgUWimG"
      },
      "outputs": [],
      "execution_count": null
    },
    {
      "cell_type": "code",
      "source": [
        "x_combined = pd.concat([x_train, x_val], axis=0)\n",
        "y_combined = pd.concat([y_train, y_val], axis=0)\n",
        "x_test = x_test\n",
        "\n",
        "models = {\n",
        "    #\"GaussianNB\": best_gnb,\n",
        "    \"RandomForest\": best_rf\n",
        "    # \"WeightedGaussianNB\": best_wgnb,\n",
        "    # \"TransformedGaussianNB\": best_tgnb,\n",
        "    # # \"MultinomialNB\": best_mnb,\n",
        "    # \"BernoulliNB\": best_bnb\n",
        "}\n",
        "\n",
        "results = {}\n",
        "\n",
        "for model_name, model in models.items():\n",
        "    model.fit(x_combined.to_numpy(), y_combined.to_numpy())\n",
        "    y_pred = model.predict(x_test.to_numpy())\n",
        "\n",
        "    accuracy = accuracy_score(y_test.to_numpy(), y_pred)\n",
        "    f1 = f1_score(y_test, y_pred, average='macro')\n",
        "\n",
        "    results[model_name] = {\n",
        "        \"model\": model,\n",
        "        \"accuracy\": accuracy,\n",
        "        \"f1_score\": f1,\n",
        "        \"classification_report\": classification_report(y_test.to_numpy(), y_pred, output_dict=True)\n",
        "    }\n",
        "\n",
        "    print(f\"Model: {model_name}\")\n",
        "    print(f\"Accuracy: {accuracy:.4f}, F1 Score: {f1:.4f}\")\n",
        "    print(f\"Classification Report:\\n{classification_report(y_test.to_numpy(), y_pred)}\\n\")\n",
        "\n"
      ],
      "metadata": {
        "trusted": true,
        "execution": {
          "iopub.status.busy": "2024-12-18T12:42:28.172757Z",
          "iopub.execute_input": "2024-12-18T12:42:28.173164Z",
          "iopub.status.idle": "2024-12-18T12:42:34.357499Z",
          "shell.execute_reply.started": "2024-12-18T12:42:28.173127Z",
          "shell.execute_reply": "2024-12-18T12:42:34.356447Z"
        },
        "id": "z_8aIkRdWimG",
        "outputId": "0e54493d-fc6d-4e8e-94f6-b69f58e0c503",
        "colab": {
          "base_uri": "https://localhost:8080/"
        }
      },
      "outputs": [
        {
          "output_type": "stream",
          "name": "stderr",
          "text": [
            "/usr/local/lib/python3.10/dist-packages/sklearn/base.py:1473: DataConversionWarning: A column-vector y was passed when a 1d array was expected. Please change the shape of y to (n_samples,), for example using ravel().\n",
            "  return fit_method(estimator, *args, **kwargs)\n"
          ]
        },
        {
          "output_type": "stream",
          "name": "stdout",
          "text": [
            "Model: RandomForest\n",
            "Accuracy: 0.7530, F1 Score: 0.7523\n",
            "Classification Report:\n",
            "              precision    recall  f1-score   support\n",
            "\n",
            "         0.0       0.77      0.71      0.74      6792\n",
            "         1.0       0.74      0.79      0.77      7019\n",
            "\n",
            "    accuracy                           0.75     13811\n",
            "   macro avg       0.75      0.75      0.75     13811\n",
            "weighted avg       0.75      0.75      0.75     13811\n",
            "\n",
            "\n"
          ]
        }
      ],
      "execution_count": null
    },
    {
      "cell_type": "code",
      "source": [
        "x_combined = pd.concat([x_train, x_val], axis=0).drop(columns=low_importance_feature_names)\n",
        "y_combined = pd.concat([y_train, y_val], axis=0)\n",
        "x_test = x_test.drop(columns=low_importance_feature_names)\n",
        "\n",
        "models = {\n",
        "    #\"GaussianNB\": best_gnb,\n",
        "    \"RandomForest\": best_rf\n",
        "    # \"WeightedGaussianNB\": best_wgnb,\n",
        "    # \"TransformedGaussianNB\": best_tgnb,\n",
        "    # # \"MultinomialNB\": best_mnb,\n",
        "    # \"BernoulliNB\": best_bnb\n",
        "}\n",
        "\n",
        "results = {}\n",
        "\n",
        "for model_name, model in models.items():\n",
        "    model.fit(x_combined.to_numpy(), y_combined.to_numpy())\n",
        "    y_pred = model.predict(x_test.to_numpy())\n",
        "\n",
        "    accuracy = accuracy_score(y_test.to_numpy(), y_pred)\n",
        "    f1 = f1_score(y_test, y_pred, average='macro')\n",
        "\n",
        "    results[model_name] = {\n",
        "        \"model\": model,\n",
        "        \"accuracy\": accuracy,\n",
        "        \"f1_score\": f1,\n",
        "        \"classification_report\": classification_report(y_test.to_numpy(), y_pred, output_dict=True)\n",
        "    }\n",
        "\n",
        "    print(f\"Model: {model_name}\")\n",
        "    print(f\"Accuracy: {accuracy:.4f}, F1 Score: {f1:.4f}\")\n",
        "    print(f\"Classification Report:\\n{classification_report(y_test.to_numpy(), y_pred)}\\n\")\n",
        "\n"
      ],
      "metadata": {
        "trusted": true,
        "execution": {
          "iopub.status.busy": "2024-12-18T12:42:41.965141Z",
          "iopub.execute_input": "2024-12-18T12:42:41.965534Z",
          "iopub.status.idle": "2024-12-18T12:42:48.081978Z",
          "shell.execute_reply.started": "2024-12-18T12:42:41.965496Z",
          "shell.execute_reply": "2024-12-18T12:42:48.080909Z"
        },
        "id": "oWUfTtk3WimG",
        "outputId": "60d84be7-a5f3-473d-8532-123a75787dce",
        "colab": {
          "base_uri": "https://localhost:8080/"
        }
      },
      "outputs": [
        {
          "output_type": "stream",
          "name": "stderr",
          "text": [
            "/usr/local/lib/python3.10/dist-packages/sklearn/base.py:1473: DataConversionWarning: A column-vector y was passed when a 1d array was expected. Please change the shape of y to (n_samples,), for example using ravel().\n",
            "  return fit_method(estimator, *args, **kwargs)\n"
          ]
        },
        {
          "output_type": "stream",
          "name": "stdout",
          "text": [
            "Model: RandomForest\n",
            "Accuracy: 0.7533, F1 Score: 0.7526\n",
            "Classification Report:\n",
            "              precision    recall  f1-score   support\n",
            "\n",
            "         0.0       0.77      0.71      0.74      6792\n",
            "         1.0       0.74      0.80      0.77      7019\n",
            "\n",
            "    accuracy                           0.75     13811\n",
            "   macro avg       0.75      0.75      0.75     13811\n",
            "weighted avg       0.75      0.75      0.75     13811\n",
            "\n",
            "\n"
          ]
        }
      ],
      "execution_count": null
    }
  ]
}