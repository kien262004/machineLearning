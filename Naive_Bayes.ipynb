{
  "metadata": {
    "kernelspec": {
      "name": "python3",
      "display_name": "Python 3",
      "language": "python"
    },
    "language_info": {
      "name": "python",
      "version": "3.10.14",
      "mimetype": "text/x-python",
      "codemirror_mode": {
        "name": "ipython",
        "version": 3
      },
      "pygments_lexer": "ipython3",
      "nbconvert_exporter": "python",
      "file_extension": ".py"
    },
    "colab": {
      "gpuType": "V28",
      "provenance": []
    },
    "accelerator": "TPU",
    "kaggle": {
      "accelerator": "none",
      "dataSources": [
        {
          "sourceId": 2789260,
          "sourceType": "datasetVersion",
          "datasetId": 1703281
        }
      ],
      "dockerImageVersionId": 30804,
      "isInternetEnabled": true,
      "language": "python",
      "sourceType": "notebook",
      "isGpuEnabled": false
    }
  },
  "nbformat_minor": 0,
  "nbformat": 4,
  "cells": [
    {
      "cell_type": "code",
      "source": [
        "!kaggle datasets download -d alexteboul/diabetes-health-indicators-dataset"
      ],
      "metadata": {
        "id": "bIS9ImrTWDUk",
        "outputId": "e9a965cf-9980-40ff-d2c6-242b749b79f1",
        "trusted": true,
        "execution": {
          "iopub.status.busy": "2024-12-03T13:05:00.106461Z",
          "iopub.execute_input": "2024-12-03T13:05:00.106873Z",
          "iopub.status.idle": "2024-12-03T13:05:03.970495Z",
          "shell.execute_reply.started": "2024-12-03T13:05:00.106835Z",
          "shell.execute_reply": "2024-12-03T13:05:03.968929Z"
        },
        "colab": {
          "base_uri": "https://localhost:8080/"
        }
      },
      "outputs": [
        {
          "output_type": "stream",
          "name": "stdout",
          "text": [
            "Dataset URL: https://www.kaggle.com/datasets/alexteboul/diabetes-health-indicators-dataset\n",
            "License(s): CC0-1.0\n",
            "Downloading diabetes-health-indicators-dataset.zip to /content\n",
            "  0% 0.00/6.03M [00:00<?, ?B/s]\n",
            "100% 6.03M/6.03M [00:00<00:00, 156MB/s]\n"
          ]
        }
      ],
      "execution_count": null
    },
    {
      "cell_type": "code",
      "source": [
        "!unzip ./diabetes-health-indicators-dataset.zip -d ./diabetes-health-indicators-dataset"
      ],
      "metadata": {
        "id": "ecuktv3XNg6j",
        "outputId": "cfb38726-d7a9-4216-e22a-078a6b33a476",
        "trusted": true,
        "execution": {
          "iopub.status.busy": "2024-12-03T13:07:28.066801Z",
          "iopub.execute_input": "2024-12-03T13:07:28.067354Z",
          "iopub.status.idle": "2024-12-03T13:07:29.526334Z",
          "shell.execute_reply.started": "2024-12-03T13:07:28.067275Z",
          "shell.execute_reply": "2024-12-03T13:07:29.524626Z"
        },
        "colab": {
          "base_uri": "https://localhost:8080/"
        }
      },
      "outputs": [
        {
          "output_type": "stream",
          "name": "stdout",
          "text": [
            "Archive:  ./diabetes-health-indicators-dataset.zip\n",
            "  inflating: ./diabetes-health-indicators-dataset/diabetes_012_health_indicators_BRFSS2015.csv  \n",
            "  inflating: ./diabetes-health-indicators-dataset/diabetes_binary_5050split_health_indicators_BRFSS2015.csv  \n",
            "  inflating: ./diabetes-health-indicators-dataset/diabetes_binary_health_indicators_BRFSS2015.csv  \n"
          ]
        }
      ],
      "execution_count": null
    },
    {
      "cell_type": "markdown",
      "source": [],
      "metadata": {
        "id": "4RyuqR8GbziG"
      }
    },
    {
      "cell_type": "code",
      "source": [
        "import pandas as pd\n",
        "import seaborn as sns\n",
        "import numpy as np\n",
        "from sklearn.model_selection import train_test_split\n",
        "import matplotlib.pyplot as plt\n",
        "from tqdm import tqdm\n",
        "from sklearn.preprocessing import StandardScaler, RobustScaler, MinMaxScaler\n",
        "\n",
        "np.random.seed(42)\n",
        "#from ydata_profiling import ProfileReport"
      ],
      "metadata": {
        "id": "6gxbuDtyAJnz",
        "trusted": true,
        "execution": {
          "iopub.status.busy": "2024-12-03T13:09:01.599984Z",
          "iopub.execute_input": "2024-12-03T13:09:01.600678Z",
          "iopub.status.idle": "2024-12-03T13:09:01.607916Z",
          "shell.execute_reply.started": "2024-12-03T13:09:01.600625Z",
          "shell.execute_reply": "2024-12-03T13:09:01.606503Z"
        }
      },
      "outputs": [],
      "execution_count": null
    },
    {
      "cell_type": "code",
      "source": [
        "features = pd.read_csv('/content/diabetes-health-indicators-dataset/diabetes_binary_5050split_health_indicators_BRFSS2015.csv')"
      ],
      "metadata": {
        "id": "poXtZHZlV9rV",
        "trusted": true,
        "execution": {
          "iopub.status.busy": "2024-12-03T13:09:05.413223Z",
          "iopub.execute_input": "2024-12-03T13:09:05.413616Z",
          "iopub.status.idle": "2024-12-03T13:09:05.688787Z",
          "shell.execute_reply.started": "2024-12-03T13:09:05.413581Z",
          "shell.execute_reply": "2024-12-03T13:09:05.687591Z"
        }
      },
      "outputs": [],
      "execution_count": null
    },
    {
      "cell_type": "markdown",
      "source": [
        "# EDA"
      ],
      "metadata": {
        "id": "purSwD9LYpzd"
      }
    },
    {
      "cell_type": "markdown",
      "source": [
        "# PreProcessing\n"
      ],
      "metadata": {
        "id": "vkobkz6J20Jh"
      }
    },
    {
      "cell_type": "code",
      "source": [
        "# gộp\n",
        "features.loc[features['Education'] < 3, 'Education'] = 3\n"
      ],
      "metadata": {
        "id": "sw6-ZBBv7ziJ",
        "trusted": true,
        "execution": {
          "iopub.status.busy": "2024-12-03T13:09:12.297688Z",
          "iopub.execute_input": "2024-12-03T13:09:12.298507Z",
          "iopub.status.idle": "2024-12-03T13:09:12.306269Z",
          "shell.execute_reply.started": "2024-12-03T13:09:12.29846Z",
          "shell.execute_reply": "2024-12-03T13:09:12.304596Z"
        }
      },
      "outputs": [],
      "execution_count": null
    },
    {
      "cell_type": "code",
      "source": [
        "features.drop_duplicates(inplace=True)\n",
        "features.reset_index(drop=True, inplace=True)"
      ],
      "metadata": {
        "id": "fxR8MtLyJYbR",
        "trusted": true,
        "execution": {
          "iopub.status.busy": "2024-12-03T13:09:14.452525Z",
          "iopub.execute_input": "2024-12-03T13:09:14.452925Z",
          "iopub.status.idle": "2024-12-03T13:09:14.519293Z",
          "shell.execute_reply.started": "2024-12-03T13:09:14.45289Z",
          "shell.execute_reply": "2024-12-03T13:09:14.518198Z"
        }
      },
      "outputs": [],
      "execution_count": null
    },
    {
      "cell_type": "code",
      "source": [
        "# loại bỏ các dữ liệu trùng lặp\n",
        "features.drop_duplicates(inplace=True)\n",
        "features.reset_index(drop=True, inplace=True)\n",
        "Sscaler = StandardScaler()\n",
        "Rscaler = RobustScaler()\n",
        "Mscaler = MinMaxScaler()\n",
        "features_standardized = pd.DataFrame(Sscaler.fit_transform(features), columns=features.columns)\n",
        "features_robust = pd.DataFrame(Rscaler.fit_transform(features), columns=features.columns)\n",
        "features_MinMax = pd.DataFrame(Mscaler.fit_transform(features), columns=features.columns)\n",
        "\n",
        "\n",
        "\n",
        "features[['BMI', 'Age', 'GenHlth']] = features_standardized[['BMI', 'Age', 'GenHlth']]\n",
        "features[['MentHlth', 'PhysHlth']] = features_robust[['MentHlth', 'PhysHlth']]\n",
        "features[['Education', 'Income']] = features_MinMax[['Education', 'Income']]\n"
      ],
      "metadata": {
        "id": "swehM3wcKfD_",
        "trusted": true,
        "execution": {
          "iopub.status.busy": "2024-12-03T13:09:18.031939Z",
          "iopub.execute_input": "2024-12-03T13:09:18.032337Z",
          "iopub.status.idle": "2024-12-03T13:09:18.200609Z",
          "shell.execute_reply.started": "2024-12-03T13:09:18.032273Z",
          "shell.execute_reply": "2024-12-03T13:09:18.199258Z"
        }
      },
      "outputs": [],
      "execution_count": null
    },
    {
      "cell_type": "markdown",
      "source": [
        "# chia tập thành train | test"
      ],
      "metadata": {
        "id": "a1l5owY7Y3c9"
      }
    },
    {
      "cell_type": "markdown",
      "source": [
        "# chia tập thành train | val | test"
      ],
      "metadata": {
        "id": "xU7xjDU2ZDwf"
      }
    },
    {
      "cell_type": "code",
      "source": [
        "class_0 = features[features['Diabetes_binary'] == 0]\n",
        "class_1 = features[features['Diabetes_binary'] == 1]\n",
        "\n",
        "x_class_0, y_class_0 = class_0.drop(columns=['Diabetes_binary'], axis=1), class_0['Diabetes_binary']\n",
        "x_class_1, y_class_1 = class_1.drop(columns=['Diabetes_binary'], axis=1), class_1['Diabetes_binary']\n",
        "\n",
        "x_0_train, x_0_test, y_0_train, y_0_test = train_test_split(x_class_0, y_class_0, test_size=0.2, random_state=1)\n",
        "x_1_train, x_1_test, y_1_train, y_1_test = train_test_split(x_class_1, y_class_1, test_size=0.2, random_state=1)\n",
        "\n",
        "x_0_train, x_0_val, y_0_train, y_0_val = train_test_split(x_0_train, y_0_train, test_size=0.25, random_state=1)\n",
        "x_1_train, x_1_val, y_1_train, y_1_val = train_test_split(x_1_train, y_1_train, test_size=0.25, random_state=1)\n",
        "\n",
        "\n",
        "\n",
        "x_train = pd.concat(objs=[x_0_train, x_1_train], ignore_index=True).to_numpy()\n",
        "y_train = pd.concat(objs=[y_0_train, y_1_train], ignore_index=True).to_numpy()\n",
        "index = np.arange(x_train.shape[0])\n",
        "np.random.shuffle(index)\n",
        "x_train = x_train[index]\n",
        "y_train = y_train[index]\n",
        "\n",
        "x_val = pd.concat(objs=[x_0_val, x_1_val], ignore_index=True).to_numpy()\n",
        "y_val = pd.concat(objs=[y_0_val, y_1_val], ignore_index=True).to_numpy()\n",
        "index = np.arange(x_val.shape[0])\n",
        "np.random.shuffle(index)\n",
        "x_val = x_val[index]\n",
        "y_val = y_val[index]\n",
        "\n",
        "x_test = pd.concat(objs=[x_0_test, x_1_test], ignore_index=True).to_numpy()\n",
        "y_test = pd.concat(objs=[y_0_test, y_1_test], ignore_index=True).to_numpy()\n",
        "index = np.arange(x_test.shape[0])\n",
        "np.random.shuffle(index)\n",
        "x_test = x_test[index]\n",
        "y_test = y_test[index]"
      ],
      "metadata": {
        "id": "luQ2w03EUa29",
        "trusted": true,
        "execution": {
          "iopub.status.busy": "2024-12-03T13:13:07.62485Z",
          "iopub.execute_input": "2024-12-03T13:13:07.625271Z",
          "iopub.status.idle": "2024-12-03T13:13:07.703519Z",
          "shell.execute_reply.started": "2024-12-03T13:13:07.625231Z",
          "shell.execute_reply": "2024-12-03T13:13:07.701992Z"
        }
      },
      "outputs": [],
      "execution_count": null
    },
    {
      "cell_type": "code",
      "source": [
        "# GAUSSIAN\n",
        "from sklearn.naive_bayes import GaussianNB, MultinomialNB, BernoulliNB\n",
        "from sklearn.model_selection import GridSearchCV\n",
        "from sklearn.metrics import accuracy_score, f1_score, classification_report\n",
        "gnb = GaussianNB()\n",
        "\n",
        "param_grid = {\n",
        "    'var_smoothing': [1e-10, 1e-9, 1e-8, 1e-7, 1e-6, 1e-5]\n",
        "}\n",
        "\n",
        "grid_search = GridSearchCV(\n",
        "    estimator=gnb,\n",
        "    param_grid=param_grid,\n",
        "    scoring='f1_macro',\n",
        "    cv=5,\n",
        "    n_jobs=-1,\n",
        "    verbose=2\n",
        ")\n",
        "\n",
        "\n",
        "grid_search.fit(x_train, y_train)\n",
        "\n",
        "\n",
        "best_gnb = grid_search.best_estimator_\n",
        "print(\"Best parameters:\", grid_search.best_params_)\n",
        "\n",
        "\n",
        "\n",
        "print(\"Best Parameters:\", grid_search.best_params_)"
      ],
      "metadata": {
        "trusted": true,
        "execution": {
          "iopub.status.busy": "2024-12-03T13:13:10.863023Z",
          "iopub.execute_input": "2024-12-03T13:13:10.863464Z",
          "iopub.status.idle": "2024-12-03T13:49:59.656266Z",
          "shell.execute_reply.started": "2024-12-03T13:13:10.863427Z",
          "shell.execute_reply": "2024-12-03T13:49:59.654623Z"
        },
        "id": "zcXC6MfWbziJ",
        "outputId": "c4e2ad00-d326-48e0-f728-162d7454e37e",
        "colab": {
          "base_uri": "https://localhost:8080/"
        }
      },
      "outputs": [
        {
          "output_type": "stream",
          "name": "stdout",
          "text": [
            "Fitting 5 folds for each of 6 candidates, totalling 30 fits\n",
            "Best parameters: {'var_smoothing': 1e-06}\n",
            "Best Parameters: {'var_smoothing': 1e-06}\n"
          ]
        }
      ],
      "execution_count": null
    },
    {
      "cell_type": "code",
      "source": [
        "models = {\n",
        "    \"GaussianNB\": best_gnb,\n",
        "    #\"RandomForest\": best_rf,\n",
        "    # \"WeightedGaussianNB\": best_wgnb,\n",
        "    # \"TransformedGaussianNB\": best_tgnb,\n",
        "    # # \"MultinomialNB\": best_mnb,\n",
        "    # \"BernoulliNB\": best_bnb\n",
        "}\n",
        "\n",
        "results = {}\n",
        "\n",
        "for model_name, model in models.items():\n",
        "    #model.fit(x_train, y_train)\n",
        "    y_pred = model.predict(x_val)\n",
        "\n",
        "    accuracy = accuracy_score(y_val, y_pred)\n",
        "    f1 = f1_score(y_val, y_pred, average='macro')\n",
        "\n",
        "    results[model_name] = {\n",
        "        \"model\": model,\n",
        "        \"accuracy\": accuracy,\n",
        "        \"f1_score\": f1,\n",
        "        \"classification_report\": classification_report(y_val, y_pred, output_dict=True)\n",
        "    }\n",
        "    print(f\"Model: {model_name}\")\n",
        "    print(f\"Accuracy: {accuracy:.4f}, F1 Score: {f1:.4f}\")\n",
        "    print(f\"Classification Report:\\n{classification_report(y_val, y_pred)}\\n\")\n",
        "\n"
      ],
      "metadata": {
        "id": "T7Wb_Fjwpbgk",
        "outputId": "669cafbf-6114-497f-fe8e-d9e8f86b13ab",
        "colab": {
          "base_uri": "https://localhost:8080/"
        }
      },
      "outputs": [
        {
          "output_type": "stream",
          "name": "stdout",
          "text": [
            "Model: GaussianNB\n",
            "Accuracy: 0.7181, F1 Score: 0.7180\n",
            "Classification Report:\n",
            "              precision    recall  f1-score   support\n",
            "\n",
            "         0.0       0.71      0.71      0.71      6792\n",
            "         1.0       0.72      0.72      0.72      7019\n",
            "\n",
            "    accuracy                           0.72     13811\n",
            "   macro avg       0.72      0.72      0.72     13811\n",
            "weighted avg       0.72      0.72      0.72     13811\n",
            "\n",
            "\n"
          ]
        }
      ],
      "execution_count": null
    },
    {
      "cell_type": "code",
      "source": [],
      "metadata": {
        "trusted": true,
        "id": "84mh81KfbziJ"
      },
      "outputs": [],
      "execution_count": null
    },
    {
      "cell_type": "code",
      "source": [
        "from sklearn.inspection import permutation_importance\n",
        "\n",
        "best_model_name = max(results, key=lambda m: results[m][\"f1_score\"])\n",
        "best_model = results[best_model_name][\"model\"]\n",
        "print(f\"\\nBest Model: {best_model_name}\")\n",
        "\n",
        "result = permutation_importance(best_model, x_val, y_val, n_repeats=50, random_state=42, scoring='f1_macro', n_jobs=-1)\n",
        "\n",
        "sorted_idx = result.importances_mean.argsort()\n",
        "feature_importances = result.importances_mean\n",
        "features_w = features.drop(columns=['Diabetes_binary'], axis=1).columns\n",
        "\n",
        "importance_df  = pd.DataFrame({\n",
        "    'Feature': features_w,\n",
        "    'Importance': feature_importances\n",
        "}).sort_values(by='Importance', ascending=False)\n",
        "# Hiển thị kết quả\n",
        "for i in result.importances_mean.argsort()[::-1]:\n",
        "    print(f\"Đặc trưng {features.columns[i+1]}: {result.importances_mean[i]:.4f} +-  {result.importances_std[i]:.4f}\")\n"
      ],
      "metadata": {
        "id": "YRbLPNPsrCcC",
        "outputId": "dd21e4b2-4d4c-4ae4-c482-4288c5f5315f",
        "colab": {
          "base_uri": "https://localhost:8080/"
        }
      },
      "outputs": [
        {
          "output_type": "stream",
          "name": "stdout",
          "text": [
            "\n",
            "Best Model: GaussianNB\n",
            "Đặc trưng HighBP: 0.0177 +-  0.0016\n",
            "Đặc trưng HeartDiseaseorAttack: 0.0136 +-  0.0018\n",
            "Đặc trưng GenHlth: 0.0125 +-  0.0022\n",
            "Đặc trưng BMI: 0.0125 +-  0.0014\n",
            "Đặc trưng Stroke: 0.0112 +-  0.0012\n",
            "Đặc trưng Age: 0.0106 +-  0.0011\n",
            "Đặc trưng HvyAlcoholConsump: 0.0087 +-  0.0011\n",
            "Đặc trưng HighChol: 0.0085 +-  0.0012\n",
            "Đặc trưng CholCheck: 0.0075 +-  0.0010\n",
            "Đặc trưng DiffWalk: 0.0031 +-  0.0016\n",
            "Đặc trưng PhysHlth: 0.0018 +-  0.0015\n",
            "Đặc trưng Sex: 0.0009 +-  0.0004\n",
            "Đặc trưng PhysActivity: 0.0009 +-  0.0009\n",
            "Đặc trưng Veggies: 0.0007 +-  0.0007\n",
            "Đặc trưng AnyHealthcare: 0.0007 +-  0.0008\n",
            "Đặc trưng Income: 0.0003 +-  0.0011\n",
            "Đặc trưng Smoker: 0.0003 +-  0.0006\n",
            "Đặc trưng Fruits: 0.0000 +-  0.0005\n",
            "Đặc trưng NoDocbcCost: -0.0003 +-  0.0007\n",
            "Đặc trưng Education: -0.0004 +-  0.0011\n",
            "Đặc trưng MentHlth: -0.0021 +-  0.0010\n"
          ]
        }
      ],
      "execution_count": null
    },
    {
      "cell_type": "code",
      "source": [
        "import matplotlib.pyplot as plt\n",
        "import numpy as np\n",
        "\n",
        "# Giả sử `result.importances_mean` là giá trị trung bình và `result.importances_std` là phương sai\n",
        "means = result.importances_mean[sorted_idx]\n",
        "stds = result.importances_std[sorted_idx]\n",
        "\n",
        "plt.figure(figsize=(10, 6))\n",
        "plt.barh(\n",
        "    range(len(sorted_idx)),\n",
        "    means,\n",
        "    xerr=stds,  # Thêm phương sai vào đây\n",
        "    align=\"center\",\n",
        "    alpha=1,  # Tùy chỉnh độ trong suốt\n",
        "    capsize=5  # Kích thước các đường gạch ngang của lỗi\n",
        ")\n",
        "plt.yticks(range(len(sorted_idx)), [features.columns[i+1] for i in sorted_idx])\n",
        "plt.xlabel(\"Tầm quan trọng của đặc trưng\")\n",
        "plt.title(\"Permutation Importance (Trung bình và Phương sai)\")\n",
        "plt.tight_layout()\n",
        "plt.savefig('importances2.png')\n",
        "plt.show()"
      ],
      "metadata": {
        "trusted": true,
        "id": "N4lzTYnibziK",
        "outputId": "7199e4eb-040e-4d96-c5aa-172a4f6c0075",
        "colab": {
          "base_uri": "https://localhost:8080/",
          "height": 607
        }
      },
      "outputs": [
        {
          "output_type": "display_data",
          "data": {
            "text/plain": [
              "<Figure size 1000x600 with 1 Axes>"
            ],
            "image/png": "[encoded data removed]"
          },
          "metadata": {}
        }
      ],
      "execution_count": null
    },
    {
      "cell_type": "code",
      "source": [
        "low_importance_features = importance_df[importance_df['Importance'] <= 0]\n",
        "\n",
        "# Get the list of feature names\n",
        "low_importance_feature_names = low_importance_features['Feature'].tolist()\n",
        "print(low_importance_feature_names)\n"
      ],
      "metadata": {
        "id": "p71osm_iVVkK",
        "outputId": "4c2d34a2-f863-4432-8ae1-83d98ec5176f",
        "colab": {
          "base_uri": "https://localhost:8080/"
        }
      },
      "outputs": [
        {
          "output_type": "stream",
          "name": "stdout",
          "text": [
            "['NoDocbcCost', 'Education', 'MentHlth']\n"
          ]
        }
      ],
      "execution_count": null
    },
    {
      "cell_type": "code",
      "source": [
        "x_train = pd.DataFrame(x_train, columns = features.drop(columns=['Diabetes_binary'], axis=1).columns)\n",
        "y_train = pd.DataFrame(y_train, columns = [\"Diabetes_binary\"])\n",
        "x_val = pd.DataFrame(x_val, columns = features.drop(columns=['Diabetes_binary'], axis=1).columns)\n",
        "y_val = pd.DataFrame(y_val, columns = [\"Diabetes_binary\"])\n",
        "x_test = pd.DataFrame(x_test, columns = features.drop(columns=['Diabetes_binary'], axis=1).columns)\n",
        "y_test = pd.DataFrame(y_test, columns = [\"Diabetes_binary\"])"
      ],
      "metadata": {
        "trusted": true,
        "id": "4SL9t3zVbziK"
      },
      "outputs": [],
      "execution_count": null
    },
    {
      "cell_type": "code",
      "source": [
        "x_combined = pd.concat([x_train, x_val], axis=0)\n",
        "y_combined = pd.concat([y_train, y_val], axis=0)\n",
        "x_test = x_test\n",
        "\n",
        "models = {\n",
        "    \"GaussianNB\": best_gnb,\n",
        "    #\"RandomForest\": best_rf\n",
        "    # \"WeightedGaussianNB\": best_wgnb,\n",
        "    # \"TransformedGaussianNB\": best_tgnb,\n",
        "    # # \"MultinomialNB\": best_mnb,\n",
        "    # \"BernoulliNB\": best_bnb\n",
        "}\n",
        "\n",
        "results = {}\n",
        "\n",
        "for model_name, model in models.items():\n",
        "    model.fit(x_combined.to_numpy(), y_combined.to_numpy())\n",
        "    y_pred = model.predict(x_test.to_numpy())\n",
        "\n",
        "    accuracy = accuracy_score(y_test.to_numpy(), y_pred)\n",
        "    f1 = f1_score(y_test, y_pred, average='macro')\n",
        "\n",
        "    results[model_name] = {\n",
        "        \"model\": model,\n",
        "        \"accuracy\": accuracy,\n",
        "        \"f1_score\": f1,\n",
        "        \"classification_report\": classification_report(y_test.to_numpy(), y_pred, output_dict=True)\n",
        "    }\n",
        "\n",
        "    print(f\"Model: {model_name}\")\n",
        "    print(f\"Accuracy: {accuracy:.4f}, F1 Score: {f1:.4f}\")\n",
        "    print(f\"Classification Report:\\n{classification_report(y_test.to_numpy(), y_pred)}\\n\")\n",
        "\n"
      ],
      "metadata": {
        "trusted": true,
        "id": "1_7-svJPbziK",
        "outputId": "0e860f28-68a3-4f3b-8a96-4d90dc8c107a",
        "colab": {
          "base_uri": "https://localhost:8080/"
        }
      },
      "outputs": [
        {
          "output_type": "stream",
          "name": "stdout",
          "text": [
            "Model: GaussianNB\n",
            "Accuracy: 0.7255, F1 Score: 0.7255\n",
            "Classification Report:\n",
            "              precision    recall  f1-score   support\n",
            "\n",
            "         0.0       0.72      0.73      0.72      6792\n",
            "         1.0       0.73      0.72      0.73      7019\n",
            "\n",
            "    accuracy                           0.73     13811\n",
            "   macro avg       0.73      0.73      0.73     13811\n",
            "weighted avg       0.73      0.73      0.73     13811\n",
            "\n",
            "\n"
          ]
        },
        {
          "output_type": "stream",
          "name": "stderr",
          "text": [
            "/usr/local/lib/python3.10/dist-packages/sklearn/utils/validation.py:1339: DataConversionWarning: A column-vector y was passed when a 1d array was expected. Please change the shape of y to (n_samples, ), for example using ravel().\n",
            "  y = column_or_1d(y, warn=True)\n"
          ]
        }
      ],
      "execution_count": null
    },
    {
      "cell_type": "code",
      "source": [
        "x_combined = pd.concat([x_train, x_val], axis=0).drop(columns=low_importance_feature_names)\n",
        "y_combined = pd.concat([y_train, y_val], axis=0)\n",
        "x_test = x_test.drop(columns=low_importance_feature_names)\n",
        "\n",
        "models = {\n",
        "    \"GaussianNB\": best_gnb,\n",
        "    #\"RandomForest\": best_rf\n",
        "    # \"WeightedGaussianNB\": best_wgnb,\n",
        "    # \"TransformedGaussianNB\": best_tgnb,\n",
        "    # # \"MultinomialNB\": best_mnb,\n",
        "    # \"BernoulliNB\": best_bnb\n",
        "}\n",
        "\n",
        "results = {}\n",
        "\n",
        "for model_name, model in models.items():\n",
        "    model.fit(x_combined.to_numpy(), y_combined.to_numpy())\n",
        "    y_pred = model.predict(x_test.to_numpy())\n",
        "\n",
        "    accuracy = accuracy_score(y_test.to_numpy(), y_pred)\n",
        "    f1 = f1_score(y_test, y_pred, average='macro')\n",
        "\n",
        "    results[model_name] = {\n",
        "        \"model\": model,\n",
        "        \"accuracy\": accuracy,\n",
        "        \"f1_score\": f1,\n",
        "        \"classification_report\": classification_report(y_test.to_numpy(), y_pred, output_dict=True)\n",
        "    }\n",
        "\n",
        "    print(f\"Model: {model_name}\")\n",
        "    print(f\"Accuracy: {accuracy:.4f}, F1 Score: {f1:.4f}\")\n",
        "    print(f\"Classification Report:\\n{classification_report(y_test.to_numpy(), y_pred)}\\n\")\n",
        "\n"
      ],
      "metadata": {
        "trusted": true,
        "id": "XiGViCt_bziK",
        "outputId": "80fb0b87-a1d3-4472-f3e3-cf8a3246dda4",
        "colab": {
          "base_uri": "https://localhost:8080/"
        }
      },
      "outputs": [
        {
          "output_type": "stream",
          "name": "stdout",
          "text": [
            "Model: GaussianNB\n",
            "Accuracy: 0.7315, F1 Score: 0.7314\n",
            "Classification Report:\n",
            "              precision    recall  f1-score   support\n",
            "\n",
            "         0.0       0.73      0.72      0.73      6792\n",
            "         1.0       0.73      0.74      0.74      7019\n",
            "\n",
            "    accuracy                           0.73     13811\n",
            "   macro avg       0.73      0.73      0.73     13811\n",
            "weighted avg       0.73      0.73      0.73     13811\n",
            "\n",
            "\n"
          ]
        },
        {
          "output_type": "stream",
          "name": "stderr",
          "text": [
            "/usr/local/lib/python3.10/dist-packages/sklearn/utils/validation.py:1339: DataConversionWarning: A column-vector y was passed when a 1d array was expected. Please change the shape of y to (n_samples, ), for example using ravel().\n",
            "  y = column_or_1d(y, warn=True)\n"
          ]
        }
      ],
      "execution_count": null
    }
  ]
}